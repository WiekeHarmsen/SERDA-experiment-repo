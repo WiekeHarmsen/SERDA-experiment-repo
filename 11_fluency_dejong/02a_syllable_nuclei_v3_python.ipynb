{
 "cells": [
  {
   "cell_type": "markdown",
   "metadata": {},
   "source": [
    "# SyllableNuclei_v3 in Python  \n",
    "This script runs the Praat Script SyllableNuclei_v3.praat (with extension FilledPauses.praat) from Python"
   ]
  },
  {
   "cell_type": "code",
   "execution_count": 1,
   "metadata": {},
   "outputs": [],
   "source": [
    "import parselmouth\n",
    "from parselmouth.praat import call, run_file\n",
    "import shutil\n",
    "import os\n",
    "import glob\n",
    "from datetime import datetime\n"
   ]
  },
  {
   "cell_type": "markdown",
   "metadata": {},
   "source": [
    "Define input and output paths"
   ]
  },
  {
   "cell_type": "code",
   "execution_count": 2,
   "metadata": {},
   "outputs": [],
   "source": [
    "audio_dir_r1_sel = '/vol/tensusers2/wharmsen/SERDA-data/round1/audio/stories/selection_manann_11jan'\n",
    "audio_dir_r1 = '/vol/tensusers2/wharmsen/SERDA/round1/audio/stories'\n",
    "audio_dir_r2 = '/vol/tensusers2/wharmsen/SERDA-data/round2/audio/stories'\n",
    "\n",
    "fluency_tg_dir_r1_sel = '/vol/tensusers2/wharmsen/SERDA-experiment-data/round1/stories_manann_11jan'\n",
    "fluency_tg_dir_r1 = '/vol/tensusers2/wharmsen/SERDA-experiment-data/round1/stories'\n",
    "fluency_tg_dir_r2 = '/vol/tensusers2/wharmsen/SERDA-experiment-data/round2/stories'"
   ]
  },
  {
   "cell_type": "markdown",
   "metadata": {},
   "source": [
    "Get TextGrids with syllable segments and phrase segments"
   ]
  },
  {
   "cell_type": "code",
   "execution_count": 3,
   "metadata": {},
   "outputs": [
    {
     "name": "stdout",
     "output_type": "stream",
     "text": [
      "/vol/tensusers2/wharmsen/SERDA-data/round2/audio/stories/*.wav\n",
      "Warning: replaced 1/4 F0 values by mean (0.319) in 434QS-story_1-20231024095242231.\n",
      "Warning: replaced 1/4 dF0 values by mean (0.001) in 434QS-story_1-20231024095242231.\n",
      "Warning: replaced 1/4 dqF0 values by mean (0.022) in 434QS-story_1-20231024095242231.\n",
      "Warning: replaced 1/4 sdF0 values by mean (0.007) in 434QS-story_1-20231024095242231.\n",
      "Warning: replaced 2/19 sdF0 values by mean (1.313) in CNQHM-story_2-20231107104604730.\n",
      "Error encountered: Unknown variable:\n",
      "« idTableAuto\n",
      "Script line 61 not performed or completed:\n",
      "« if idTableAuto »\n",
      "Script “/vol/tensusers5/wharmsen/SERDA-experiment-repo/11_fluency_dejong/FilledPauses.praat” not completed.\n",
      "Formula not run.\n",
      "Script line 158 not performed or completed:\n",
      "« runScript: \"FilledPauses.praat\", language$, filled_Pause_threshold, data$ == \"Table\" »\n",
      "Script not completed.\n"
     ]
    }
   ],
   "source": [
    "### Set input and output dir\n",
    "audio_dir = audio_dir_r2\n",
    "fluency_tg_dir = fluency_tg_dir_r2\n",
    "\n",
    "### Set parameters syllable nuclei\n",
    "\n",
    "# parameters syllable nuclei\n",
    "preprocessing = 'None'\n",
    "silence_threshold_dB = -25\n",
    "min_dip_near_peak = 2\n",
    "min_pause_dur = 0.3\n",
    "\n",
    "# filled pauses\n",
    "detect_filled_pauses = True\n",
    "language = 'Dutch'\n",
    "filled_pause_threshold = 1.00\n",
    "\n",
    "# destination of output\n",
    "data = 'Table' \n",
    "# Choose from:\n",
    "# 'TextGrid(s) only': Creates only .auto.TextGrid files for each audio file\n",
    "# 'Praat Info window': Creates one overview file (.txt) with fluency measures for each audio file\n",
    "# 'Save as text file': Creates only .auto.TextGrid files for each audio file\n",
    "# 'Table': Creates .auto.TextGrid files (with segmentations) and .auto.Table files (with F0, F1, F2, F3, F4 information in dB)\n",
    "dataCollectionType = 'OverWriteData'\n",
    "keepObjects = True\n",
    "\n",
    "### Run syllable nuclei script\n",
    "\n",
    "try:\n",
    "    run_file('./SyllableNucleiv3.praat', os.path.join(audio_dir, '*.wav'), preprocessing, silence_threshold_dB, min_dip_near_peak, min_pause_dur, detect_filled_pauses, language, filled_pause_threshold, data, dataCollectionType, keepObjects)\n",
    "except Exception as e:\n",
    "    print(f'Error encountered: {e}')"
   ]
  },
  {
   "cell_type": "code",
   "execution_count": null,
   "metadata": {},
   "outputs": [],
   "source": [
    "output_dir = os.path.join(fluency_tg_dir, 'syllable_nuclei_v3')\n",
    "if not os.path.exists(output_dir):\n",
    "    os.makedirs(output_dir)\n",
    "\n",
    "# Move output files to selected fluency_tg_dir\n",
    "for tg_file in glob.glob(os.path.join(audio_dir, '*.auto.*')):\n",
    "    try:\n",
    "        shutil.move(tg_file, output_dir)\n",
    "    except:\n",
    "        print('tg_file already exists in output_dir')\n",
    "\n",
    "# Print settings used to create the output TextGrid and Table files\n",
    "with open(os.path.join(output_dir, '00_settings.txt'), 'w') as f:\n",
    "    f.write(\"\\n\".join([str(x) for x in [datetime.now().strftime(\"%m/%d/%Y, %H:%M:%S\"), os.path.join(audio_dir, '*.wav'), preprocessing, silence_threshold_dB, min_dip_near_peak, min_pause_dur, detect_filled_pauses, language, filled_pause_threshold, data, dataCollectionType, keepObjects]]))"
   ]
  },
  {
   "cell_type": "markdown",
   "metadata": {},
   "source": [
    "# Get fluency scores for each audio file"
   ]
  },
  {
   "cell_type": "code",
   "execution_count": null,
   "metadata": {},
   "outputs": [],
   "source": [
    "# destination of output\n",
    "data = 'Praat Info window' \n",
    "# Choose from:\n",
    "# 'TextGrid(s) only': Creates only .auto.TextGrid files for each audio file\n",
    "# 'Praat Info window': Creates one overview file (.txt) with fluency measures for each audio file\n",
    "# 'Save as text file': Creates only .auto.TextGrid files for each audio file\n",
    "# 'Table': Creates .auto.TextGrid files (with segmentations) and .auto.Table files (with F0, F1, F2, F3, F4 information in dB)\n",
    "\n",
    "### Run syllable nuclei script\n",
    "\n",
    "try:\n",
    "    run_file('./SyllableNucleiv3.praat', os.path.join(audio_dir, '*.wav'), preprocessing, silence_threshold_dB, min_dip_near_peak, min_pause_dur, detect_filled_pauses, language, filled_pause_threshold, data, dataCollectionType, keepObjects)\n",
    "except Exception as e:\n",
    "    print(f'Error encountered: {e}')"
   ]
  },
  {
   "cell_type": "markdown",
   "metadata": {},
   "source": [
    "Copy-paste the output in the cell above to fluency-scores.txt"
   ]
  },
  {
   "cell_type": "markdown",
   "metadata": {},
   "source": [
    "# Labeled Segments Analysis in Praat"
   ]
  },
  {
   "cell_type": "markdown",
   "metadata": {},
   "source": [
    "This is how the parameter settings of the original praat script look like.\n",
    "Output: SyllableNuclei_dutch\n",
    "\n",
    "![alt text for screen readers](labeledSegments_input.png \"Text to show on mouseover\")"
   ]
  },
  {
   "cell_type": "code",
   "execution_count": null,
   "metadata": {},
   "outputs": [],
   "source": [
    "try:\n",
    "    run_file('./LabeledSegmentsAnalysisJASMIN_COPD.praat', 'comp-q-read_nl_age7-11_nat/tg_wav_sanne_limonard', '*.wav', 'results_lsa.txt', 1, '*', 'SIL', True, True, True, True, True, True, 0.0, 75, 600, 5, 5500, 0.025, 50)\n",
    "except Exception as e:\n",
    "    print(f'Error encountered: {e}')"
   ]
  },
  {
   "cell_type": "code",
   "execution_count": null,
   "metadata": {},
   "outputs": [],
   "source": [
    "try:\n",
    "    run_file('./LabeledSegmentsAnalysisCGN.praat', 'CGN2/awd_audio_comp_o_nl', '*.wav', 'results_lsa_CGN_comp_o_nl.txt', 1, '*', 'SIL', True, True, True, True, True, True, 0.0, 75, 600, 5, 5500, 0.025, 50)\n",
    "except Exception as e:\n",
    "    print(f'Error encountered: {e}')"
   ]
  },
  {
   "cell_type": "code",
   "execution_count": null,
   "metadata": {},
   "outputs": [],
   "source": []
  }
 ],
 "metadata": {
  "kernelspec": {
   "display_name": "virenv-wav2vec2",
   "language": "python",
   "name": "python3"
  },
  "language_info": {
   "codemirror_mode": {
    "name": "ipython",
    "version": 3
   },
   "file_extension": ".py",
   "mimetype": "text/x-python",
   "name": "python",
   "nbconvert_exporter": "python",
   "pygments_lexer": "ipython3",
   "version": "3.10.12"
  }
 },
 "nbformat": 4,
 "nbformat_minor": 2
}
