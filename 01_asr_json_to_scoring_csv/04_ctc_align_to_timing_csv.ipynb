{
 "cells": [
  {
   "cell_type": "markdown",
   "metadata": {},
   "source": [
    "This is a script to extract word-level start times, end times and duration times from CTC forced alignment using Wav2Vec.\n",
    "\n",
    "Results can be found in \n",
    "`./SERDA-experiment-data/' + r +'/stories/ctc_kurz_w2v_fc/csv-scores'`"
   ]
  },
  {
   "cell_type": "code",
   "execution_count": 51,
   "metadata": {},
   "outputs": [],
   "source": [
    "import pandas as pd\n",
    "import os\n",
    "import glob\n",
    "import json"
   ]
  },
  {
   "cell_type": "markdown",
   "metadata": {},
   "source": [
    "Helper functions"
   ]
  },
  {
   "cell_type": "code",
   "execution_count": 54,
   "metadata": {},
   "outputs": [],
   "source": [
    "def readJSON(jsonFile):\n",
    "    with open(jsonFile, 'r') as f:\n",
    "        data = json.load(f)\n",
    "    return data\n",
    "\n",
    "def getSpeakerIDs(round):\n",
    "    if(round == 'round1'):\n",
    "        df =  pd.read_csv('/vol/tensusers2/wharmsen/SERDA-data/prompts/round1_speakerIDs.csv')\n",
    "        return list(df['round1_speaker_ids'])\n",
    "    elif(round == 'round2'):\n",
    "        df =  pd.read_csv('/vol/tensusers2/wharmsen/SERDA-data/prompts/round2_speakerIDs.csv')\n",
    "        return list(df['round2_speaker_ids'])\n",
    "    \n",
    "def getPromptDF(task):\n",
    "\n",
    "    pathToPromptIdxs = '/vol/tensusers2/wharmsen/SERDA-data/prompts/'\n",
    "\n",
    "    promptFileName = task + '-wordIDX.csv'\n",
    "    promptFile = os.path.join(pathToPromptIdxs, promptFileName)\n",
    "\n",
    "    promptDF = pd.read_csv(promptFile)\n",
    "\n",
    "    return promptDF\n",
    "\n",
    "\"\"\"\n",
    "This function adds empty dataframes (col=word_ids, row=students) as values to the storyInfoDict\n",
    "\"\"\"\n",
    "def initializestoryInfoDict(storyInfoDict, uniqueStudents, word_ids, taskStr):\n",
    "\n",
    "    storyInfoDict['storyCTCAsrStartSpeakDF'.replace('story', taskStr)] = pd.DataFrame(index = uniqueStudents, columns = word_ids)\n",
    "    storyInfoDict['storyCTCAsrStopSpeakDF'.replace('story', taskStr)] = pd.DataFrame(index = uniqueStudents, columns = word_ids)\n",
    "    storyInfoDict['storyCTCAsrTimeDF'.replace('story', taskStr)] = pd.DataFrame(index = uniqueStudents, columns = word_ids)\n",
    "\n",
    "    return storyInfoDict"
   ]
  },
  {
   "cell_type": "code",
   "execution_count": 58,
   "metadata": {},
   "outputs": [],
   "source": [
    "# Change this variable depending on the round of data you want to process.\n",
    "# This is the only variable that needs to be changed manually.\n",
    "r = 'round2'\n",
    "\n",
    "asr_json_dir = '/vol/tensusers2/wharmsen/SERDA-experiment-data/' + r +'/stories/ctc_kurz_w2v_fc/json_align'\n",
    "task_type = 'stories'\n",
    "output_dir = '/vol/tensusers2/wharmsen/SERDA-experiment-data/' + r +'/stories/ctc_kurz_w2v_fc/csv-scores'\n",
    "\n",
    "if not os.path.exists(output_dir):\n",
    "    os.makedirs(output_dir)\n",
    "\n",
    "\n",
    "fileList = glob.glob(os.path.join(asr_json_dir, '*.json'))\n",
    "\n",
    "if(task_type == 'stories'):\n",
    "\n",
    "    prompt_ids_story1 = getPromptDF('story_1')['prompt_id']\n",
    "    prompt_ids_story2 = getPromptDF('story_2')['prompt_id']\n",
    "    prompt_ids_story3 = getPromptDF('story_3')['prompt_id']\n",
    "\n",
    "    # Initialize output DFs (studentIDs x promptIDs)\n",
    "    infoDict = {}\n",
    "    infoDict = initializestoryInfoDict(infoDict, getSpeakerIDs(round), prompt_ids_story1, 'story1')\n",
    "    infoDict = initializestoryInfoDict(infoDict, getSpeakerIDs(round), prompt_ids_story2, 'story2')\n",
    "    infoDict = initializestoryInfoDict(infoDict, getSpeakerIDs(round), prompt_ids_story3, 'story3')\n",
    "\n",
    "    # Fill outputDFs\n",
    "    for file in fileList:\n",
    "\n",
    "        # Extract data from JSON\n",
    "        startTimes = [result['start'] for result in readJSON(file)]\n",
    "        endTimes = [result['end'] for result in readJSON(file)]\n",
    "        durations = [xi - yi for xi, yi in zip(endTimes, startTimes)]\n",
    "\n",
    "        studentID, taskID, date = os.path.basename(file).split('-')\n",
    "\n",
    "        # Save data in proper outputDF\n",
    "        stopSpeakKey = 'storyCTCAsrStopSpeakDF'.replace('story', taskID).replace('_', '')\n",
    "        infoDict[stopSpeakKey].loc[studentID, :] = endTimes\n",
    "\n",
    "        startSpeakKey = 'storyCTCAsrStartSpeakDF'.replace('story', taskID).replace('_', '')\n",
    "        infoDict[startSpeakKey].loc[studentID, :] = startTimes\n",
    "\n",
    "        timeOutputKey = 'storyCTCAsrTimeDF'.replace('story', taskID).replace('_', '')\n",
    "        infoDict[timeOutputKey].loc[studentID, :] = durations\n",
    "        \n",
    "\n",
    "# Export the output DFs\n",
    "\"\"\"\n",
    "Export word level information, 5 dataframes for each task\n",
    "\"\"\"\n",
    "for key in infoDict.keys():\n",
    "    infoDict[key].to_csv(os.path.join(output_dir, key + '.tsv'), sep='\\t')"
   ]
  },
  {
   "cell_type": "code",
   "execution_count": null,
   "metadata": {},
   "outputs": [],
   "source": []
  }
 ],
 "metadata": {
  "kernelspec": {
   "display_name": "virenv-wav2vec2",
   "language": "python",
   "name": "python3"
  },
  "language_info": {
   "codemirror_mode": {
    "name": "ipython",
    "version": 3
   },
   "file_extension": ".py",
   "mimetype": "text/x-python",
   "name": "python",
   "nbconvert_exporter": "python",
   "pygments_lexer": "ipython3",
   "version": "3.10.12"
  }
 },
 "nbformat": 4,
 "nbformat_minor": 2
}
