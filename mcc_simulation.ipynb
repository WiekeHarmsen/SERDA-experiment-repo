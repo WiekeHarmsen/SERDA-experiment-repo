{
 "cells": [
  {
   "cell_type": "code",
   "execution_count": 3,
   "metadata": {},
   "outputs": [],
   "source": [
    "from sklearn.metrics import matthews_corrcoef, confusion_matrix, f1_score"
   ]
  },
  {
   "cell_type": "code",
   "execution_count": 4,
   "metadata": {},
   "outputs": [
    {
     "name": "stdout",
     "output_type": "stream",
     "text": [
      "[[4 0]\n",
      " [0 0]]\n",
      "0.0\n",
      "1.0\n"
     ]
    }
   ],
   "source": [
    "y_true = [1, 1, 1, 1]\n",
    "y_pred = [1, 1, 1, 1]\n",
    "print(confusion_matrix(y_true, y_pred, labels=[1, 0]))\n",
    "print(matthews_corrcoef(y_true, y_pred))\n",
    "print(f1_score(y_true, y_pred))"
   ]
  },
  {
   "cell_type": "code",
   "execution_count": 5,
   "metadata": {},
   "outputs": [
    {
     "name": "stdout",
     "output_type": "stream",
     "text": [
      "[[2 0]\n",
      " [0 2]]\n",
      "1.0\n",
      "1.0\n"
     ]
    }
   ],
   "source": [
    "y_true = [1, 1, 0, 0]\n",
    "y_pred = [1, 1, 0, 0]\n",
    "print(confusion_matrix(y_true, y_pred, labels=[1, 0]))\n",
    "print(matthews_corrcoef(y_true, y_pred))\n",
    "print(f1_score(y_true, y_pred))"
   ]
  },
  {
   "cell_type": "code",
   "execution_count": 6,
   "metadata": {},
   "outputs": [
    {
     "name": "stdout",
     "output_type": "stream",
     "text": [
      "[[3 0]\n",
      " [0 1]]\n",
      "1.0\n",
      "1.0\n"
     ]
    }
   ],
   "source": [
    "y_true = [1, 1, 1, 0]\n",
    "y_pred = [1, 1, 1, 0]\n",
    "print(confusion_matrix(y_true, y_pred, labels=[1, 0]))\n",
    "print(matthews_corrcoef(y_true, y_pred))\n",
    "print(f1_score(y_true, y_pred))"
   ]
  },
  {
   "cell_type": "markdown",
   "metadata": {},
   "source": [
    "Maakt het uit of je correct = 1 of correct = 0 codeert voor het berekenen van F1 en MCC scores?"
   ]
  },
  {
   "cell_type": "code",
   "execution_count": 8,
   "metadata": {},
   "outputs": [
    {
     "name": "stdout",
     "output_type": "stream",
     "text": [
      "[[2 1]\n",
      " [0 5]]\n",
      "0.7453559924999299\n",
      "0.8\n"
     ]
    }
   ],
   "source": [
    "# Version 1\n",
    "y_true = [0, 0, 1, 1, 1, 0, 0, 0]\n",
    "y_pred = [0, 0, 0, 1, 1, 0, 0, 0]\n",
    "print(confusion_matrix(y_true, y_pred, labels=[1, 0]))\n",
    "print(matthews_corrcoef(y_true, y_pred))\n",
    "print(f1_score(y_true, y_pred))"
   ]
  },
  {
   "cell_type": "code",
   "execution_count": 10,
   "metadata": {},
   "outputs": [
    {
     "name": "stdout",
     "output_type": "stream",
     "text": [
      "Only 1/8 error:\n",
      "[[5 0]\n",
      " [1 2]]\n",
      "0.7453559924999299\n",
      "0.9090909090909091\n"
     ]
    }
   ],
   "source": [
    "# Version 2 (the inverse of version 1)\n",
    "y_true = [1, 1, 0, 0, 0, 1, 1, 1]\n",
    "y_pred = [1, 1, 1, 0, 0, 1, 1, 1]\n",
    "\n",
    "print(\"Only 1/8 error:\")\n",
    "print(confusion_matrix(y_true, y_pred, labels=[1, 0]))\n",
    "print(matthews_corrcoef(y_true, y_pred))\n",
    "print(f1_score(y_true, y_pred))"
   ]
  },
  {
   "cell_type": "code",
   "execution_count": 6,
   "metadata": {},
   "outputs": [
    {
     "data": {
      "text/plain": [
       "(2, 1, 0, 5)"
      ]
     },
     "execution_count": 6,
     "metadata": {},
     "output_type": "execute_result"
    }
   ],
   "source": [
    "tn, fp, fn, tp = confusion_matrix(y_true, y_pred).ravel()\n",
    "(tn, fp, fn, tp)"
   ]
  },
  {
   "cell_type": "code",
   "execution_count": 7,
   "metadata": {},
   "outputs": [
    {
     "name": "stdout",
     "output_type": "stream",
     "text": [
      "The cm depends on the labels:\n",
      "[[2 1]\n",
      " [0 5]]\n",
      "[[5 0]\n",
      " [1 2]]\n"
     ]
    }
   ],
   "source": [
    "print(\"The cm depends on the labels:\")\n",
    "\n",
    "cm1 = confusion_matrix(y_true, y_pred, labels=[0, 1])\n",
    "print(cm1)\n",
    "\n",
    "cm2 = confusion_matrix(y_true, y_pred, labels=[1, 0])\n",
    "print(cm2)"
   ]
  },
  {
   "cell_type": "code",
   "execution_count": 12,
   "metadata": {},
   "outputs": [
    {
     "name": "stdout",
     "output_type": "stream",
     "text": [
      "2/8 errors:\n",
      "[[4 1]\n",
      " [1 2]]\n",
      "0.4666666666666667\n",
      "0.8000000000000002\n"
     ]
    }
   ],
   "source": [
    "y_true = [1, 1, 0, 0, 0, 1, 1, 1]\n",
    "y_pred = [1, 1, 1, 0, 0, 0, 1, 1]\n",
    "\n",
    "print(\"2/8 errors:\")\n",
    "print(confusion_matrix(y_true, y_pred, labels=[1, 0]))\n",
    "print(matthews_corrcoef(y_true, y_pred))\n",
    "print(f1_score(y_true, y_pred))"
   ]
  },
  {
   "cell_type": "code",
   "execution_count": 13,
   "metadata": {},
   "outputs": [
    {
     "name": "stdout",
     "output_type": "stream",
     "text": [
      "3/8 errors:\n",
      "[[3 1]\n",
      " [2 2]]\n",
      "0.2581988897471611\n",
      "0.6666666666666665\n"
     ]
    }
   ],
   "source": [
    "y_true = [0, 1, 0, 0, 0, 1, 1, 1]\n",
    "y_pred = [1, 1, 1, 0, 0, 0, 1, 1]\n",
    "\n",
    "print(\"3/8 errors:\")\n",
    "print(confusion_matrix(y_true, y_pred, labels=[1, 0]))\n",
    "print(matthews_corrcoef(y_true, y_pred))\n",
    "print(f1_score(y_true, y_pred))"
   ]
  },
  {
   "cell_type": "code",
   "execution_count": 14,
   "metadata": {},
   "outputs": [
    {
     "name": "stdout",
     "output_type": "stream",
     "text": [
      "6/16 errors:\n",
      "[[6 2]\n",
      " [4 4]]\n",
      "0.2581988897471611\n",
      "0.6666666666666665\n"
     ]
    }
   ],
   "source": [
    "y_true = [0, 1, 0, 0, 0, 1, 1, 1, 0, 1, 0, 0, 0, 1, 1, 1]\n",
    "y_pred = [1, 1, 1, 0, 0, 0, 1, 1, 1, 1, 1, 0, 0, 0, 1, 1]\n",
    "\n",
    "print(\"6/16 errors:\")\n",
    "print(confusion_matrix(y_true, y_pred, labels=[1, 0]))\n",
    "print(matthews_corrcoef(y_true, y_pred))\n",
    "print(f1_score(y_true, y_pred))"
   ]
  },
  {
   "cell_type": "code",
   "execution_count": 15,
   "metadata": {},
   "outputs": [
    {
     "name": "stdout",
     "output_type": "stream",
     "text": [
      "2/16 errors:\n",
      "[[9 1]\n",
      " [1 5]]\n",
      "0.7333333333333333\n",
      "0.9\n"
     ]
    }
   ],
   "source": [
    "y_true = [1, 1, 0, 0, 0, 1, 1, 1, 0, 1, 1, 0, 0, 1, 1, 1]\n",
    "y_pred = [1, 1, 0, 0, 0, 0, 1, 1, 1, 1, 1, 0, 0, 1, 1, 1]\n",
    "\n",
    "print(\"2/16 errors:\")\n",
    "print(confusion_matrix(y_true, y_pred, labels=[1, 0]))\n",
    "print(matthews_corrcoef(y_true, y_pred))\n",
    "print(f1_score(y_true, y_pred))"
   ]
  },
  {
   "cell_type": "code",
   "execution_count": 33,
   "metadata": {},
   "outputs": [
    {
     "name": "stdout",
     "output_type": "stream",
     "text": [
      "[1, 1, 1, 1, 1, 1, 1, 1, 0, 0, 0, 0, 0, 0, 0, 0]\n",
      "[1, 1, 1, 1, 1, 1, 1, 0, 0, 0, 0, 0, 0, 0, 0, 1]\n",
      "[1, 1, 1, 1, 1, 1, 0, 0, 0, 0, 0, 0, 0, 0, 1, 1]\n",
      "[1, 1, 1, 1, 1, 0, 0, 0, 0, 0, 0, 0, 0, 1, 1, 1]\n",
      "[1, 1, 1, 1, 0, 0, 0, 0, 0, 0, 0, 0, 1, 1, 1, 1]\n",
      "[1, 1, 1, 0, 0, 0, 0, 0, 0, 0, 0, 1, 1, 1, 1, 1]\n",
      "[1, 1, 0, 0, 0, 0, 0, 0, 0, 0, 1, 1, 1, 1, 1, 1]\n",
      "[1, 0, 0, 0, 0, 0, 0, 0, 0, 1, 1, 1, 1, 1, 1, 1]\n",
      "[0, 0, 0, 0, 0, 0, 0, 0, 1, 1, 1, 1, 1, 1, 1, 1]\n",
      "[0, 0, 0, 0, 0, 0, 0, 1, 1, 1, 1, 1, 1, 1, 1, 0]\n",
      "[0, 0, 0, 0, 0, 0, 1, 1, 1, 1, 1, 1, 1, 1, 0, 0]\n",
      "[0, 0, 0, 0, 0, 1, 1, 1, 1, 1, 1, 1, 1, 0, 0, 0]\n",
      "[0, 0, 0, 0, 1, 1, 1, 1, 1, 1, 1, 1, 0, 0, 0, 0]\n",
      "[0, 0, 0, 1, 1, 1, 1, 1, 1, 1, 1, 0, 0, 0, 0, 0]\n",
      "[0, 0, 1, 1, 1, 1, 1, 1, 1, 1, 0, 0, 0, 0, 0, 0]\n",
      "[0, 1, 1, 1, 1, 1, 1, 1, 1, 0, 0, 0, 0, 0, 0, 0]\n",
      "[1, 1, 1, 1, 1, 1, 1, 1, 0, 0, 0, 0, 0, 0, 0, 0]\n"
     ]
    }
   ],
   "source": [
    "import numpy as np \n",
    "import pandas as pd\n",
    "\n",
    "y_true = [1, 1, 1, 1, 1, 1, 1, 1, 0, 0, 0, 0, 0, 0, 0, 0]\n",
    "y_pred = [1, 1, 1, 1, 1, 1, 1, 1, 0, 0, 0, 0, 0, 0, 0, 0]\n",
    "\n",
    "scores_list = []\n",
    "for i in range(16+1):\n",
    "    print(y_pred)\n",
    "    \n",
    "    tn, fp, fn, tp = confusion_matrix(y_true, y_pred).ravel()\n",
    "    mcc = matthews_corrcoef(y_true, y_pred)\n",
    "    f1 = f1_score(y_true, y_pred)\n",
    "\n",
    "    scores_list.append([tn, fp, fn, tp, mcc, f1])\n",
    "    y_pred = y_pred[1:] + [y_pred[0]]\n",
    "\n",
    "scores_df = pd.DataFrame(scores_list, columns = ['tn', 'fp', 'fn', 'tp', 'mcc', 'f1'])"
   ]
  },
  {
   "cell_type": "code",
   "execution_count": 41,
   "metadata": {},
   "outputs": [
    {
     "data": {
      "image/png": "[encoded data removed]",
      "text/plain": [
       "<Figure size 640x480 with 1 Axes>"
      ]
     },
     "metadata": {},
     "output_type": "display_data"
    }
   ],
   "source": [
    "# importing package \n",
    "import matplotlib.pyplot as plt \n",
    "  \n",
    "# create data \n",
    "x = [10,20,30,40,50] \n",
    "y = [30,30,30,30,30] \n",
    "  \n",
    "# plot lines \n",
    "# plt.plot(scores_df.index, scores_df['tp'], label = \"tp\") \n",
    "# plt.plot(scores_df.index, scores_df['fn'], label = \"fn\") \n",
    "# plt.plot(scores_df.index, scores_df['fp'], label = \"fp\") \n",
    "# plt.plot(scores_df.index, scores_df['tn'], label = \"tn\") \n",
    "# plt.plot(scores_df.index, sum(scores_df['tn'], scores_df['tp'])/16, label = \"perc_correct\") \n",
    "# plt.plot(scores_df.index, sum(scores_df['fn'], scores_df['fp'])/16, label = \"perc_incorrect\") \n",
    "plt.plot(scores_df.index, scores_df['mcc'], label = \"mcc\") \n",
    "plt.plot(scores_df.index, scores_df['f1'], label = \"f1\") \n",
    "plt.legend() \n",
    "plt.show()"
   ]
  },
  {
   "cell_type": "code",
   "execution_count": null,
   "metadata": {},
   "outputs": [],
   "source": []
  }
 ],
 "metadata": {
  "kernelspec": {
   "display_name": "virenv-wav2vec2",
   "language": "python",
   "name": "python3"
  },
  "language_info": {
   "codemirror_mode": {
    "name": "ipython",
    "version": 3
   },
   "file_extension": ".py",
   "mimetype": "text/x-python",
   "name": "python",
   "nbconvert_exporter": "python",
   "pygments_lexer": "ipython3",
   "version": "3.10.12"
  }
 },
 "nbformat": 4,
 "nbformat_minor": 2
}
