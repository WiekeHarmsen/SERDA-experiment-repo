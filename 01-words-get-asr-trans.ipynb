{
 "cells": [
  {
   "cell_type": "code",
   "execution_count": 16,
   "metadata": {},
   "outputs": [],
   "source": [
    "import os\n",
    "import pandas as pd\n",
    "from asr_decoders import ctc_segmentation_kurzinger as kurzinger_asr\n",
    "import alignment_adagt as adagt"
   ]
  },
  {
   "cell_type": "code",
   "execution_count": 17,
   "metadata": {},
   "outputs": [],
   "source": [
    "# Inputs\n",
    "audioFile = '/vol/tensusers2/wharmsen/SERDA-data/round1/audio/words/segments/2RRDV-words_1_116-20230113140713310.wav'\n",
    "promptDir = '/vol/tensusers2/wharmsen/SERDA-data/prompts/' #words_1-wordIDX.csv"
   ]
  },
  {
   "cell_type": "code",
   "execution_count": 18,
   "metadata": {},
   "outputs": [],
   "source": [
    "\"\"\"\n",
    "Function that extracts taskID from filename \n",
    "input: path to audio file with segment\n",
    "output: words_1, words_2 or words_3\n",
    "\"\"\"\n",
    "def getTaskFromFilename(filename):\n",
    "    return 'words_'+ os.path.basename(filename).split('-')[1].split('_')[1]\n",
    "\n",
    "\n",
    "\"\"\"\n",
    "Function that extracts wordID from filename\n",
    "input: path to audio file with segment\n",
    "output: 101, 102, 103, etc.\n",
    "\"\"\"\n",
    "def getWordIDFromFilename(filename):\n",
    "    return os.path.basename(filename).split('-')[1].split('_')[2]\n",
    "\n",
    "\"\"\"\n",
    "Function that returns the prompted word based on wordID.\n",
    "inputs:\n",
    "promptsWordsDF  The DF containing all prompts and their IDs\n",
    "wordID          The promptID\n",
    "\n",
    "output:\n",
    "prompt          The prompt\n",
    "\"\"\"\n",
    "def getPromptFromWordID(audioFile):\n",
    "    task = getTaskFromFilename(audioFile)\n",
    "    wordID = getWordIDFromFilename(audioFile)\n",
    "    promptsWordsFile = task + '-wordIDX.csv'\n",
    "    promptsWordsDF = pd.read_csv(os.path.join(promptDir, promptsWordsFile))\n",
    "    return promptsWordsDF[promptsWordsDF['prompt_id'] == wordID]['prompt']\n",
    "\n",
    "# Extract prompt from filename\n",
    "prompt = getPromptFromWordID(audioFile)"
   ]
  },
  {
   "cell_type": "code",
   "execution_count": 19,
   "metadata": {},
   "outputs": [
    {
     "name": "stderr",
     "output_type": "stream",
     "text": [
      "It is strongly recommended to pass the ``sampling_rate`` argument to this function. Failing to do so can result in silent errors that might be hard to debug.\n",
      "It is strongly recommended to pass the ``sampling_rate`` argument to this function. Failing to do so can result in silent errors that might be hard to debug.\n"
     ]
    }
   ],
   "source": [
    "# Get ASR result\n",
    "audio_file = '/vol/tensusers2/wharmsen/SERDA-data/round1/audio/words/segments/2RRDV-words_1_116-20230113140713310.wav'\n",
    "prompt = 'sprei'\n",
    "cache_path = '/vol/tensusers5/wharmsen/wav2vec2/cache/' \n",
    "model = \"fc\" \n",
    "output_dir = \"/vol/tensusers2/wharmsen/SERDA-experiment-data/round1/words/segments/ctc-kurz\"\n",
    "alignment, recognized = kurzinger_asr.get_asr_result(audio_file, prompt, cache_path, model, output_dir)"
   ]
  },
  {
   "cell_type": "code",
   "execution_count": 20,
   "metadata": {},
   "outputs": [
    {
     "data": {
      "text/plain": [
       "'sprei nap prei'"
      ]
     },
     "execution_count": 20,
     "metadata": {},
     "output_type": "execute_result"
    }
   ],
   "source": [
    "# Extract transcription from ASR result\n",
    "transcription = \" \".join([x['text'] for x in recognized])\n",
    "transcription"
   ]
  },
  {
   "cell_type": "code",
   "execution_count": 25,
   "metadata": {},
   "outputs": [
    {
     "data": {
      "text/html": [
       "<div>\n",
       "<style scoped>\n",
       "    .dataframe tbody tr th:only-of-type {\n",
       "        vertical-align: middle;\n",
       "    }\n",
       "\n",
       "    .dataframe tbody tr th {\n",
       "        vertical-align: top;\n",
       "    }\n",
       "\n",
       "    .dataframe thead th {\n",
       "        text-align: right;\n",
       "    }\n",
       "</style>\n",
       "<table border=\"1\" class=\"dataframe\">\n",
       "  <thead>\n",
       "    <tr style=\"text-align: right;\">\n",
       "      <th></th>\n",
       "      <th>aligned_asrTrans</th>\n",
       "      <th>reversed_aligned_asrTrans</th>\n",
       "      <th>correct</th>\n",
       "    </tr>\n",
       "    <tr>\n",
       "      <th>prompt</th>\n",
       "      <th></th>\n",
       "      <th></th>\n",
       "      <th></th>\n",
       "    </tr>\n",
       "  </thead>\n",
       "  <tbody>\n",
       "    <tr>\n",
       "      <th>sprei</th>\n",
       "      <td>sprei nap prei</td>\n",
       "      <td>sprei nap prei</td>\n",
       "      <td>True</td>\n",
       "    </tr>\n",
       "  </tbody>\n",
       "</table>\n",
       "</div>"
      ],
      "text/plain": [
       "       aligned_asrTrans reversed_aligned_asrTrans  correct\n",
       "prompt                                                    \n",
       "sprei    sprei nap prei            sprei nap prei     True"
      ]
     },
     "execution_count": 25,
     "metadata": {},
     "output_type": "execute_result"
    }
   ],
   "source": [
    "# ADAPT alignment prompt - asrTranscription\n",
    "outputDF = adagt.two_way_alignment(prompt, transcription) \n",
    "outputDF\n"
   ]
  },
  {
   "cell_type": "code",
   "execution_count": 9,
   "metadata": {},
   "outputs": [
    {
     "data": {
      "text/plain": [
       "[{'text': 'sprei',\n",
       "  'start': 0.010040160642570281,\n",
       "  'end': 1.676706827309237,\n",
       "  'conf': 0.0},\n",
       " {'text': 'nap',\n",
       "  'start': 1.676706827309237,\n",
       "  'end': 3.3132530120481927,\n",
       "  'conf': 0.0},\n",
       " {'text': 'prei',\n",
       "  'start': 3.3132530120481927,\n",
       "  'end': 4.206827309236948,\n",
       "  'conf': 0.0}]"
      ]
     },
     "execution_count": 9,
     "metadata": {},
     "output_type": "execute_result"
    }
   ],
   "source": [
    "recognized"
   ]
  },
  {
   "cell_type": "code",
   "execution_count": null,
   "metadata": {},
   "outputs": [],
   "source": []
  }
 ],
 "metadata": {
  "kernelspec": {
   "display_name": "virenv-wav2vec2",
   "language": "python",
   "name": "python3"
  },
  "language_info": {
   "codemirror_mode": {
    "name": "ipython",
    "version": 3
   },
   "file_extension": ".py",
   "mimetype": "text/x-python",
   "name": "python",
   "nbconvert_exporter": "python",
   "pygments_lexer": "ipython3",
   "version": "3.10.12"
  }
 },
 "nbformat": 4,
 "nbformat_minor": 2
}
