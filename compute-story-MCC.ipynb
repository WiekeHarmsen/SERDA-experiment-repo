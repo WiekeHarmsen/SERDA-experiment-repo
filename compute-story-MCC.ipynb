{
 "cells": [
  {
   "cell_type": "code",
   "execution_count": 94,
   "metadata": {},
   "outputs": [],
   "source": [
    "import pandas as pd\n",
    "from sklearn.metrics import matthews_corrcoef, confusion_matrix, ConfusionMatrixDisplay\n",
    "import numpy as np"
   ]
  },
  {
   "cell_type": "code",
   "execution_count": 45,
   "metadata": {},
   "outputs": [],
   "source": [
    "manualWords1File = '/vol/tensusers2/wharmsen/SERDA-annotations/round1_words_jan/ASTLA_word_correctness_annotations_janneke_2023.09.24_words1.csv'\n",
    "manualWords2File = '/vol/tensusers2/wharmsen/SERDA-annotations/round1_words_jan/ASTLA_word_correctness_annotations_janneke_2023.09.24_words2.csv'\n",
    "manualWords3File = '/vol/tensusers2/wharmsen/SERDA-annotations/round1_words_jan/ASTLA_word_correctness_annotations_janneke_2023.09.24_words3.csv'\n",
    "\n",
    "manualWords1 = pd.read_csv(manualWords1File, index_col=0).to_numpy().flatten()\n",
    "manualWords2 = pd.read_csv(manualWords2File, index_col=0).to_numpy().flatten()\n",
    "manualWords3 = pd.read_csv(manualWords3File, index_col=0).to_numpy().flatten()"
   ]
  },
  {
   "cell_type": "code",
   "execution_count": 46,
   "metadata": {},
   "outputs": [],
   "source": [
    "asrWords1File = '/vol/tensusers2/wharmsen/diagnostics_SERDA/study2.1/output-for-max/word-level-accuracy-timing/words_1-accuracy.csv'\n",
    "asrWords2File = '/vol/tensusers2/wharmsen/diagnostics_SERDA/study2.1/output-for-max/word-level-accuracy-timing/words_2-accuracy.csv'\n",
    "asrWords3File = '/vol/tensusers2/wharmsen/diagnostics_SERDA/study2.1/output-for-max/word-level-accuracy-timing/words_3-accuracy.csv'\n",
    "\n",
    "asrWords1 = pd.read_csv(asrWords1File, index_col=0).to_numpy().flatten()\n",
    "asrWords2 = pd.read_csv(asrWords2File, index_col=0).to_numpy().flatten()\n",
    "asrWords3 = pd.read_csv(asrWords3File, index_col=0).to_numpy().flatten()\n"
   ]
  },
  {
   "cell_type": "code",
   "execution_count": 119,
   "metadata": {},
   "outputs": [
    {
     "name": "stdout",
     "output_type": "stream",
     "text": [
      "2RRDV MCC =  0.14921114116371084\n",
      "2RWNQ MCC =  0.008171505630757667\n",
      "2W45J MCC =  -0.018377261547332376\n",
      "33JNC MCC =  -0.0842151921066519\n",
      "3MGQC MCC =  0.0\n",
      "3PBFH MCC =  0.0\n",
      "4JDM4 MCC =  0.0\n",
      "4KCW4 MCC =  0.07935196008581541\n",
      "4MD4Y MCC =  0.2173376208541448\n",
      "4QX3R MCC =  0.08467842548054559\n",
      "4SJSC MCC =  0.024673188560991335\n",
      "54TTZ MCC =  0.131851172427271\n",
      "5B2ZB MCC =  0.131851172427271\n",
      "5C2HJ MCC =  0.0\n",
      "5DT2P MCC =  0.26296185307038883\n",
      "5FHDQ MCC =  0.2342606428329091\n",
      "5HMXC MCC =  0.16666666666666666\n",
      "5HVDT MCC =  0.32732683535398854\n",
      "5M3XR MCC =  0.16116459280507606\n",
      "5NFJG MCC =  0.12309149097933274\n",
      "5NMJH MCC =  0.1486904285332952\n",
      "5PTZK MCC =  0.31917252681128727\n",
      "5XVWF MCC =  0.3333333333333333\n"
     ]
    }
   ],
   "source": [
    "mw1 = pd.read_csv(manualWords1File, index_col=0).dropna()\n",
    "aw1 = pd.read_csv(asrWords1File, index_col=0).loc[list(mw1.index),:]\n",
    "\n",
    "for (name, e1, e2) in zip(list(mw1.index), mw1.to_numpy(), aw1.to_numpy()):\n",
    "    print(name, 'MCC = ', matthews_corrcoef(e1, e2))"
   ]
  },
  {
   "cell_type": "code",
   "execution_count": 108,
   "metadata": {},
   "outputs": [
    {
     "data": {
      "text/plain": [
       "['eb',\n",
       " 'veer',\n",
       " 'eend',\n",
       " 'boor',\n",
       " 'pech',\n",
       " 'eng',\n",
       " 'lab',\n",
       " 'geur',\n",
       " 'lach',\n",
       " 'bord',\n",
       " 'web',\n",
       " 'pink',\n",
       " 'duw',\n",
       " 'muts',\n",
       " 'jurk',\n",
       " 'sprei',\n",
       " 'kist',\n",
       " 'geld',\n",
       " 'kieuw',\n",
       " 'tent',\n",
       " 'boei',\n",
       " 'schuw',\n",
       " 'bank',\n",
       " 'hooi',\n",
       " 'leeuw',\n",
       " 'taart',\n",
       " 'kaars',\n",
       " 'kalf',\n",
       " 'punt',\n",
       " 'haai',\n",
       " 'ring',\n",
       " 'vonk',\n",
       " 'draai',\n",
       " 'fiets',\n",
       " 'glas',\n",
       " 'beest',\n",
       " 'helft',\n",
       " 'kaart',\n",
       " 'groei',\n",
       " 'laars',\n",
       " 'winst',\n",
       " 'krab',\n",
       " 'vlieg',\n",
       " 'droom',\n",
       " 'draak',\n",
       " 'kwart',\n",
       " 'spons',\n",
       " 'krijt',\n",
       " 'snoep',\n",
       " 'traan']"
      ]
     },
     "execution_count": 108,
     "metadata": {},
     "output_type": "execute_result"
    }
   ],
   "source": []
  },
  {
   "cell_type": "code",
   "execution_count": 102,
   "metadata": {},
   "outputs": [],
   "source": [
    "def removeNANvalues(manualArray, asrArray):\n",
    "    print(\"Nr values with NAN:\", len(manualArray), len(asrArray))\n",
    "    manualArrayClean = []\n",
    "    asrArrayClean = []\n",
    "    for (e1, e2) in zip(manualArray, asrArray):\n",
    "        if not np.isnan(e1) and not np.isnan(e2):\n",
    "            manualArrayClean.append(int(e1))\n",
    "            asrArrayClean.append(int(e2))\n",
    "    print(\"Nr values without NAN:\", len(manualArrayClean), len(asrArrayClean))\n",
    "    return manualArrayClean, asrArrayClean"
   ]
  },
  {
   "cell_type": "code",
   "execution_count": 101,
   "metadata": {},
   "outputs": [
    {
     "name": "stdout",
     "output_type": "stream",
     "text": [
      "Nr values with NAN: 9850 9850\n",
      "Nr values without NAN: 1150 1150\n",
      "MCC = 0.013137702626145078\n",
      "[[ 49  30]\n",
      " [637 434]]\n"
     ]
    },
    {
     "data": {
      "text/plain": [
       "<sklearn.metrics._plot.confusion_matrix.ConfusionMatrixDisplay at 0x1484cdc77910>"
      ]
     },
     "execution_count": 101,
     "metadata": {},
     "output_type": "execute_result"
    },
    {
     "data": {
      "image/png": "[encoded data removed]",
      "text/plain": [
       "<Figure size 640x480 with 2 Axes>"
      ]
     },
     "metadata": {},
     "output_type": "display_data"
    }
   ],
   "source": [
    "manualWords1Clean, asrWords1Clean = removeNANvalues(manualWords1, asrWords1)\n",
    "mcc = matthews_corrcoef(manualWords1Clean, asrWords1Clean)\n",
    "cm = confusion_matrix(manualWords1Clean, asrWords1Clean)\n",
    "print('MCC =', mcc)\n",
    "print(cm)\n",
    "disp = ConfusionMatrixDisplay(confusion_matrix=cm)\n",
    "disp.plot()\n"
   ]
  },
  {
   "cell_type": "code",
   "execution_count": null,
   "metadata": {},
   "outputs": [],
   "source": [
    "\n"
   ]
  },
  {
   "cell_type": "code",
   "execution_count": 51,
   "metadata": {},
   "outputs": [
    {
     "name": "stdout",
     "output_type": "stream",
     "text": [
      "Nr values with NAN: 9850 9850\n",
      "Nr values without NAN: 1150 1150\n"
     ]
    },
    {
     "data": {
      "text/plain": [
       "-0.02791921700507993"
      ]
     },
     "execution_count": 51,
     "metadata": {},
     "output_type": "execute_result"
    }
   ],
   "source": [
    "manualWords2Clean, asrWords2Clean = removeNANvalues(manualWords2, asrWords2)\n",
    "matthews_corrcoef(manualWords2Clean, asrWords2Clean)"
   ]
  },
  {
   "cell_type": "code",
   "execution_count": 52,
   "metadata": {},
   "outputs": [
    {
     "name": "stdout",
     "output_type": "stream",
     "text": [
      "Nr values with NAN: 9850 9850\n",
      "Nr values without NAN: 1100 1100\n"
     ]
    },
    {
     "data": {
      "text/plain": [
       "0.013415799968729563"
      ]
     },
     "execution_count": 52,
     "metadata": {},
     "output_type": "execute_result"
    }
   ],
   "source": [
    "manualWords3Clean, asrWords3Clean = removeNANvalues(manualWords3, asrWords3)\n",
    "matthews_corrcoef(manualWords3Clean, asrWords3Clean)"
   ]
  },
  {
   "cell_type": "code",
   "execution_count": null,
   "metadata": {},
   "outputs": [],
   "source": []
  }
 ],
 "metadata": {
  "kernelspec": {
   "display_name": "virenv-wav2vec2",
   "language": "python",
   "name": "python3"
  },
  "language_info": {
   "codemirror_mode": {
    "name": "ipython",
    "version": 3
   },
   "file_extension": ".py",
   "mimetype": "text/x-python",
   "name": "python",
   "nbconvert_exporter": "python",
   "pygments_lexer": "ipython3",
   "version": "3.10.12"
  }
 },
 "nbformat": 4,
 "nbformat_minor": 2
}
