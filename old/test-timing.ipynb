{
 "cells": [
  {
   "cell_type": "code",
   "execution_count": 52,
   "metadata": {},
   "outputs": [],
   "source": [
    "import os\n",
    "import pandas as pd\n",
    "import matplotlib.pyplot as plt\n",
    "import numpy as np"
   ]
  },
  {
   "cell_type": "code",
   "execution_count": null,
   "metadata": {},
   "outputs": [],
   "source": []
  },
  {
   "cell_type": "code",
   "execution_count": 53,
   "metadata": {},
   "outputs": [],
   "source": [
    "def read_manual_scores(manual_accuracy_dir, task, score_type):\n",
    "    manualStory1File = os.path.join(manual_accuracy_dir, task+'1_manual_' + score_type + '.csv')\n",
    "    manualStory2File = os.path.join(manual_accuracy_dir, task+'2_manual_' + score_type + '.csv')\n",
    "    manualStory3File = os.path.join(manual_accuracy_dir, task+'3_manual_' + score_type + '.csv')\n",
    "\n",
    "    # Read input files as dataframe\n",
    "    manualStory1DF = pd.read_csv(manualStory1File, index_col=0)\n",
    "    manualStory2DF = pd.read_csv(manualStory2File, index_col=0)\n",
    "    manualStory3DF = pd.read_csv(manualStory3File, index_col=0)\n",
    "\n",
    "    # print('a', [len(x) for x in [manualStory1DF, manualStory2DF,manualStory3DF]])\n",
    "\n",
    "    # Remove speakers with missing accuracy scores\n",
    "    manualStory1DF = manualStory1DF.dropna()\n",
    "    manualStory2DF = manualStory2DF.dropna()\n",
    "    manualStory3DF = manualStory3DF.dropna()\n",
    "\n",
    "    # print('b', [len(x) for x in [manualStory1DF, manualStory2DF,manualStory3DF]])\n",
    "\n",
    "\n",
    "    return manualStory1DF, manualStory2DF, manualStory3DF\n",
    "\n",
    "def read_automatic_scores(asr_accuracy_dir, task, score_type):\n",
    "\n",
    "    asrStory1File = os.path.join(asr_accuracy_dir, task+'1Asr' + score_type + 'DF.tsv')\n",
    "    asrStory2File = os.path.join(asr_accuracy_dir, task+'2Asr' + score_type + 'DF.tsv')\n",
    "    asrStory3File = os.path.join(asr_accuracy_dir, task+'3Asr' + score_type + 'DF.tsv')\n",
    "\n",
    "    asrStory1DF = pd.read_csv(asrStory1File, index_col=0, sep = '\\t')\n",
    "    asrStory2DF = pd.read_csv(asrStory2File, index_col=0, sep = '\\t')\n",
    "    asrStory3DF = pd.read_csv(asrStory3File, index_col=0, sep = '\\t')\n",
    "\n",
    "    # print('1', [len(x) for x in [asrStory1DF, asrStory2DF,asrStory3DF]])\n",
    "\n",
    "    asrStory1DF = asrStory1DF.dropna()\n",
    "    asrStory2DF = asrStory2DF.dropna()\n",
    "    asrStory3DF = asrStory3DF.dropna()\n",
    "\n",
    "    # print('2', [len(x) for x in [asrStory1DF, asrStory2DF,asrStory3DF]])\n",
    "\n",
    "    return asrStory1DF, asrStory2DF, asrStory3DF"
   ]
  },
  {
   "cell_type": "code",
   "execution_count": 54,
   "metadata": {},
   "outputs": [],
   "source": [
    "manual_score_types = ['chunk_starttime', 'chunk_endtime', 'chunk_duration', 'finalattempt_starttime', 'finalattempt_endtime', 'finalattempt_duration']\n",
    "asr_score_types = ['Accuracy', 'Confidence', 'StartSpeak', 'StopSpeak', 'Time']\n",
    "\n",
    "manual_asr_score_dict = {  'chunk_starttime': 'StartSpeak', \n",
    "                        'chunk_endtime': 'StopSpeak',\n",
    "                        'chunk_duration': 'Time',\n",
    "                        'finalattempt_starttime': 'StartSpeak',\n",
    "                        'finalattempt_endtime': 'StopSpeak',\n",
    "                        # 'finalattempt_duration': 'Time'\n",
    "                        }\n"
   ]
  },
  {
   "cell_type": "code",
   "execution_count": null,
   "metadata": {},
   "outputs": [],
   "source": []
  },
  {
   "cell_type": "code",
   "execution_count": 55,
   "metadata": {},
   "outputs": [],
   "source": [
    "def extractStats(differenceStoryDF, taskName):\n",
    "    outputDescriptiveStatsOneTask = []\n",
    "    for studentID, row in differenceStoryDF.iterrows():\n",
    "            \n",
    "        scores = np.array(row).flatten()\n",
    "\n",
    "        descriptiveStats = pd.Series(scores).describe()\n",
    "        count = descriptiveStats['count']\n",
    "        mean = descriptiveStats['mean']\n",
    "        std = descriptiveStats['std']\n",
    "        minn = descriptiveStats['min']\n",
    "        perc25 = descriptiveStats['25%']\n",
    "        perc50 = descriptiveStats['50%']\n",
    "        perc75 = descriptiveStats['75%']\n",
    "        maxx = descriptiveStats['max']\n",
    "\n",
    "        # The mean should be very close to zero\n",
    "        outputDescriptiveStatsOneTask.append('\\t'.join([taskName, studentID]+[str(round(nr, 3)) for nr in [mean, std, minn, perc25, perc50, perc75, maxx]]))\n",
    "    return np.array(outputDescriptiveStatsOneTask)\n"
   ]
  },
  {
   "cell_type": "code",
   "execution_count": 56,
   "metadata": {},
   "outputs": [
    {
     "name": "stdout",
     "output_type": "stream",
     "text": [
      "\n",
      " chunk_starttime StartSpeak\n",
      "\n",
      " chunk_endtime StopSpeak\n",
      "\n",
      " chunk_duration Time\n",
      "\n",
      " finalattempt_starttime StartSpeak\n",
      "\n",
      " finalattempt_endtime StopSpeak\n"
     ]
    }
   ],
   "source": [
    "task = 'story'\n",
    "manual_accuracy_dir = '/vol/tensusers2/wharmsen/SERDA-annotations/round1_stories_all_11jan/03_scoring_csv'\n",
    "outputDir = ''\n",
    "asrModelName='whispert_dis'\n",
    "\n",
    "asr_accuracy_dir = '/vol/tensusers2/wharmsen/SERDA-experiment-data/round1/stories_manann_11jan/whispert_dis/csv-scores'\n",
    "header = ['\\t'.join([\"task\", \"studentID\", \"mean\", \"std\", \"min\", \"perc25\", \"perc50\", \"perc75\", \"max\"])]\n",
    "\n",
    "# print(['story1', 'story2', 'story3'])\n",
    "\n",
    "outputDescriptiveStats = []\n",
    "for (manual_key, asr_key) in manual_asr_score_dict.items():\n",
    "\n",
    "    print('\\n', manual_key, asr_key)\n",
    "\n",
    "    # Read the scores\n",
    "    manualStory1DF, manualStory2DF, manualStory3DF = read_manual_scores(manual_accuracy_dir, task, manual_key)\n",
    "\n",
    "    # Preprocess ASR DFs\n",
    "    manualStory1DF = manualStory1DF.replace(0.0, np.nan).replace(999, np.nan)\n",
    "    manualStory2DF = manualStory2DF.replace(0.0, np.nan).replace(999, np.nan)\n",
    "    manualStory3DF = manualStory3DF.replace(0.0, np.nan).replace(999, np.nan)\n",
    "\n",
    "    # print('c', [len(x) for x in [manualStory1DF, manualStory2DF,manualStory3DF]])\n",
    "\n",
    "    # Preprocess Manual DFs\n",
    "    asrStory1DF, asrStory2DF, asrStory3DF = read_automatic_scores(asr_accuracy_dir, task, asr_key)\n",
    "\n",
    "    asrStory1DF = asrStory1DF.loc[manualStory1DF.index].replace(0.0, np.nan).replace(999, np.nan)\n",
    "    asrStory2DF = asrStory2DF.loc[manualStory2DF.index].replace(0.0, np.nan).replace(999, np.nan)\n",
    "    asrStory3DF = asrStory3DF.loc[manualStory3DF.index].replace(0.0, np.nan).replace(999, np.nan)\n",
    "\n",
    "    # print('3', [len(x) for x in [asrStory1DF, asrStory2DF,asrStory3DF]])\n",
    "\n",
    "    # Subtract DFs\n",
    "    differenceStory1DF = manualStory1DF - asrStory1DF\n",
    "    differenceStory2DF = manualStory2DF - asrStory2DF\n",
    "    differenceStory3DF = manualStory3DF - asrStory3DF\n",
    "\n",
    "    # print('DIFF', [len(x) for x in [differenceStory1DF, differenceStory2DF,differenceStory3DF]])\n",
    "\n",
    "    # Compute statistics for each speaker\n",
    "    statsStory1 = extractStats(differenceStory1DF, 'story1')\n",
    "    statsStory2 = extractStats(differenceStory2DF, 'story2')\n",
    "    statsStory3 = extractStats(differenceStory3DF, 'story3')\n",
    "\n",
    "    outputDescriptiveStats = list(np.concatenate((header, statsStory1, statsStory2, statsStory3), axis=0))\n",
    "    # print(outputDescriptiveStats)\n",
    "    \n",
    "        \n",
    "    # print(outputDescriptiveStats)\n",
    "    with open(manual_key + '-' + asr_key + '-output.tsv', 'w') as f:\n",
    "        f.write('\\n'.join(outputDescriptiveStats))"
   ]
  },
  {
   "cell_type": "code",
   "execution_count": 80,
   "metadata": {},
   "outputs": [
    {
     "data": {
      "text/plain": [
       "0.07131012382593986"
      ]
     },
     "execution_count": 80,
     "metadata": {},
     "output_type": "execute_result"
    }
   ],
   "source": [
    "differenceStory1DF['0-0-Bang'].mean()"
   ]
  },
  {
   "cell_type": "code",
   "execution_count": 59,
   "metadata": {},
   "outputs": [
    {
     "data": {
      "text/plain": [
       "0-0-Verslaafd     NaN\n",
       "1-0-Als          6.34\n",
       "1-1-ouders       7.10\n",
       "1-2-zien         7.40\n",
       "1-3-dat          7.74\n",
       "                 ... \n",
       "11-6-je           NaN\n",
       "11-7-aan          NaN\n",
       "11-8-het          NaN\n",
       "11-9-spelen       NaN\n",
       "11-10-bent        NaN\n",
       "Name: YWPWY, Length: 172, dtype: float64"
      ]
     },
     "execution_count": 59,
     "metadata": {},
     "output_type": "execute_result"
    }
   ],
   "source": [
    "asrStory3DF.loc['YWPWY']"
   ]
  },
  {
   "cell_type": "code",
   "execution_count": 62,
   "metadata": {},
   "outputs": [
    {
     "data": {
      "text/plain": [
       "0-0-Verslaafd      4.996980\n",
       "1-0-Als            6.588618\n",
       "1-1-ouders         7.108734\n",
       "1-2-zien           7.453099\n",
       "1-3-dat            7.717672\n",
       "                    ...    \n",
       "11-6-je          138.726604\n",
       "11-7-aan         139.927682\n",
       "11-8-het         140.196455\n",
       "11-9-spelen      140.846539\n",
       "11-10-bent       141.774644\n",
       "Name: YWPWY, Length: 172, dtype: float64"
      ]
     },
     "execution_count": 62,
     "metadata": {},
     "output_type": "execute_result"
    }
   ],
   "source": [
    "manualStory3DF.loc['YWPWY']"
   ]
  },
  {
   "cell_type": "code",
   "execution_count": 61,
   "metadata": {},
   "outputs": [
    {
     "data": {
      "text/plain": [
       "0-0-Verslaafd         NaN\n",
       "1-0-Als          0.248618\n",
       "1-1-ouders       0.008734\n",
       "1-2-zien         0.053099\n",
       "1-3-dat         -0.022328\n",
       "                   ...   \n",
       "11-6-je               NaN\n",
       "11-7-aan              NaN\n",
       "11-8-het              NaN\n",
       "11-9-spelen           NaN\n",
       "11-10-bent            NaN\n",
       "Name: YWPWY, Length: 172, dtype: float64"
      ]
     },
     "execution_count": 61,
     "metadata": {},
     "output_type": "execute_result"
    }
   ],
   "source": [
    "differenceStory3DF.loc['YWPWY']"
   ]
  },
  {
   "cell_type": "code",
   "execution_count": 63,
   "metadata": {},
   "outputs": [
    {
     "data": {
      "text/plain": [
       "78"
      ]
     },
     "execution_count": 63,
     "metadata": {},
     "output_type": "execute_result"
    }
   ],
   "source": [
    "np.count_nonzero(~np.isnan(list(differenceStory3DF.loc['YWPWY'])))"
   ]
  },
  {
   "cell_type": "code",
   "execution_count": 65,
   "metadata": {},
   "outputs": [
    {
     "data": {
      "text/plain": [
       "(array([ 1.,  0.,  0.,  0.,  0.,  0.,  0.,  0.,  0., 77.]),\n",
       " array([-117.59917614, -105.59209714,  -93.58501813,  -81.57793913,\n",
       "         -69.57086013,  -57.56378113,  -45.55670213,  -33.54962313,\n",
       "         -21.54254412,   -9.53546512,    2.47161388]),\n",
       " <BarContainer object of 10 artists>)"
      ]
     },
     "execution_count": 65,
     "metadata": {},
     "output_type": "execute_result"
    },
    {
     "data": {
      "image/png": "[encoded data removed]",
      "text/plain": [
       "<Figure size 640x480 with 1 Axes>"
      ]
     },
     "metadata": {},
     "output_type": "display_data"
    }
   ],
   "source": [
    "plt.hist(list(differenceStory3DF.loc['YWPWY']))"
   ]
  },
  {
   "cell_type": "code",
   "execution_count": 73,
   "metadata": {},
   "outputs": [],
   "source": [
    "differenceStory3DF.to_csv('output.tsv', sep = '\\t')"
   ]
  },
  {
   "cell_type": "code",
   "execution_count": 64,
   "metadata": {},
   "outputs": [
    {
     "data": {
      "text/plain": [
       "count     78.000000\n",
       "mean      -1.391011\n",
       "std       13.331987\n",
       "min     -117.599176\n",
       "25%        0.013767\n",
       "50%        0.078219\n",
       "75%        0.158015\n",
       "max        2.471614\n",
       "Name: YWPWY, dtype: float64"
      ]
     },
     "execution_count": 64,
     "metadata": {},
     "output_type": "execute_result"
    }
   ],
   "source": [
    "differenceStory3DF.loc['YWPWY'].describe()"
   ]
  },
  {
   "cell_type": "code",
   "execution_count": 75,
   "metadata": {},
   "outputs": [
    {
     "data": {
      "text/plain": [
       "-117.59917613763187"
      ]
     },
     "execution_count": 75,
     "metadata": {},
     "output_type": "execute_result"
    }
   ],
   "source": [
    "differenceStory3DF.loc['YWPWY', '1-18-aan']"
   ]
  },
  {
   "cell_type": "code",
   "execution_count": 77,
   "metadata": {},
   "outputs": [
    {
     "data": {
      "text/plain": [
       "139.7"
      ]
     },
     "execution_count": 77,
     "metadata": {},
     "output_type": "execute_result"
    }
   ],
   "source": [
    "asrStory3DF.loc['YWPWY', '1-18-aan']"
   ]
  },
  {
   "cell_type": "code",
   "execution_count": 76,
   "metadata": {},
   "outputs": [
    {
     "data": {
      "text/plain": [
       "22.100823862368117"
      ]
     },
     "execution_count": 76,
     "metadata": {},
     "output_type": "execute_result"
    }
   ],
   "source": [
    "manualStory3DF.loc['YWPWY', '1-18-aan']"
   ]
  },
  {
   "cell_type": "code",
   "execution_count": 37,
   "metadata": {},
   "outputs": [
    {
     "data": {
      "text/plain": [
       "2"
      ]
     },
     "execution_count": 37,
     "metadata": {},
     "output_type": "execute_result"
    }
   ],
   "source": [
    "[0,1,2,1].count(1)"
   ]
  },
  {
   "cell_type": "code",
   "execution_count": 167,
   "metadata": {},
   "outputs": [
    {
     "data": {
      "text/plain": [
       "['01', '01', '01', '01', '01', '01', '01', '01', '01']"
      ]
     },
     "execution_count": 167,
     "metadata": {},
     "output_type": "execute_result"
    }
   ],
   "source": [
    "[str(x)+str(y) for x in [0,0,0] for y in [1,1,1] ]\n"
   ]
  },
  {
   "cell_type": "code",
   "execution_count": 51,
   "metadata": {},
   "outputs": [
    {
     "name": "stdout",
     "output_type": "stream",
     "text": [
      "2\n",
      "10\n",
      "174\n",
      "['Z2BYD', 'ZDPNZ']\n",
      "['SMVCS', 'XSWMB', 'YHTKC', 'YKKTR', 'YVBRP', 'Z2BYD', 'ZDPNZ', 'ZNNGY', 'ZPGND', 'ZRYSY']\n"
     ]
    }
   ],
   "source": [
    "task = 'story'\n",
    "manual_accuracy_dir = '/vol/tensusers2/wharmsen/SERDA-annotations/round1_stories_all_11jan/03_scoring_csv'\n",
    "manualStory1DF, manualStory2DF, manualStory3DF = read_manual_scores(manual_accuracy_dir, task, 'chunk_starttime')\n",
    "outputDir = ''\n",
    "asrModelName='whispert_dis'\n",
    "\n",
    "asr_accuracy_dir = '/vol/tensusers2/wharmsen/SERDA-experiment-data/round1/stories_manann_11jan/whispert_dis/csv-scores'\n",
    "asrStory1DF, asrStory2DF, asrStory3DF = read_automatic_scores(asr_accuracy_dir, task, 'StartSpeak')\n",
    "\n",
    "print(len(manualStory1DF.index))\n",
    "print(len(asrStory1DF.index))\n",
    "print(len(set(manualStory1DF+asrStory1DF)))\n",
    "print(sorted(manualStory1DF.index)[0:20])\n",
    "print(sorted(asrStory1DF.index)[0:20])"
   ]
  },
  {
   "cell_type": "code",
   "execution_count": null,
   "metadata": {},
   "outputs": [],
   "source": []
  },
  {
   "cell_type": "code",
   "execution_count": 60,
   "metadata": {},
   "outputs": [
    {
     "data": {
      "text/html": [
       "<div>\n",
       "<style scoped>\n",
       "    .dataframe tbody tr th:only-of-type {\n",
       "        vertical-align: middle;\n",
       "    }\n",
       "\n",
       "    .dataframe tbody tr th {\n",
       "        vertical-align: top;\n",
       "    }\n",
       "\n",
       "    .dataframe thead th {\n",
       "        text-align: right;\n",
       "    }\n",
       "</style>\n",
       "<table border=\"1\" class=\"dataframe\">\n",
       "  <thead>\n",
       "    <tr style=\"text-align: right;\">\n",
       "      <th></th>\n",
       "      <th>0-0-Bang</th>\n",
       "      <th>0-1-in</th>\n",
       "      <th>0-2-het</th>\n",
       "      <th>0-3-donker</th>\n",
       "      <th>1-0-Als</th>\n",
       "      <th>1-1-de</th>\n",
       "      <th>1-2-beker</th>\n",
       "      <th>1-3-vol</th>\n",
       "      <th>1-4-is</th>\n",
       "      <th>1-5-doet</th>\n",
       "      <th>...</th>\n",
       "      <th>19-2-sliep</th>\n",
       "      <th>19-3-ze</th>\n",
       "      <th>19-4-altijd</th>\n",
       "      <th>19-5-met</th>\n",
       "      <th>19-6-haar</th>\n",
       "      <th>19-7-broer</th>\n",
       "      <th>19-8-Hidde</th>\n",
       "      <th>19-9-op</th>\n",
       "      <th>19-10-een</th>\n",
       "      <th>19-11-kamer</th>\n",
       "    </tr>\n",
       "  </thead>\n",
       "  <tbody>\n",
       "    <tr>\n",
       "      <th>Z2BYD</th>\n",
       "      <td>NaN</td>\n",
       "      <td>2.50</td>\n",
       "      <td>2.76</td>\n",
       "      <td>3.24</td>\n",
       "      <td>4.28</td>\n",
       "      <td>4.54</td>\n",
       "      <td>NaN</td>\n",
       "      <td>6.58</td>\n",
       "      <td>6.98</td>\n",
       "      <td>7.48</td>\n",
       "      <td>...</td>\n",
       "      <td>92.14</td>\n",
       "      <td>NaN</td>\n",
       "      <td>93.48</td>\n",
       "      <td>NaN</td>\n",
       "      <td>NaN</td>\n",
       "      <td>96.70</td>\n",
       "      <td>97.92</td>\n",
       "      <td>NaN</td>\n",
       "      <td>NaN</td>\n",
       "      <td>NaN</td>\n",
       "    </tr>\n",
       "    <tr>\n",
       "      <th>ZDPNZ</th>\n",
       "      <td>2.96</td>\n",
       "      <td>3.22</td>\n",
       "      <td>3.50</td>\n",
       "      <td>3.66</td>\n",
       "      <td>5.60</td>\n",
       "      <td>5.86</td>\n",
       "      <td>6.04</td>\n",
       "      <td>6.38</td>\n",
       "      <td>7.00</td>\n",
       "      <td>8.92</td>\n",
       "      <td>...</td>\n",
       "      <td>116.00</td>\n",
       "      <td>NaN</td>\n",
       "      <td>116.38</td>\n",
       "      <td>NaN</td>\n",
       "      <td>NaN</td>\n",
       "      <td>119.66</td>\n",
       "      <td>NaN</td>\n",
       "      <td>NaN</td>\n",
       "      <td>NaN</td>\n",
       "      <td>NaN</td>\n",
       "    </tr>\n",
       "  </tbody>\n",
       "</table>\n",
       "<p>2 rows × 174 columns</p>\n",
       "</div>"
      ],
      "text/plain": [
       "       0-0-Bang  0-1-in  0-2-het  0-3-donker  1-0-Als  1-1-de  1-2-beker  \\\n",
       "Z2BYD       NaN    2.50     2.76        3.24     4.28    4.54        NaN   \n",
       "ZDPNZ      2.96    3.22     3.50        3.66     5.60    5.86       6.04   \n",
       "\n",
       "       1-3-vol  1-4-is  1-5-doet  ...  19-2-sliep  19-3-ze  19-4-altijd  \\\n",
       "Z2BYD     6.58    6.98      7.48  ...       92.14      NaN        93.48   \n",
       "ZDPNZ     6.38    7.00      8.92  ...      116.00      NaN       116.38   \n",
       "\n",
       "       19-5-met  19-6-haar  19-7-broer  19-8-Hidde  19-9-op  19-10-een  \\\n",
       "Z2BYD       NaN        NaN       96.70       97.92      NaN        NaN   \n",
       "ZDPNZ       NaN        NaN      119.66         NaN      NaN        NaN   \n",
       "\n",
       "       19-11-kamer  \n",
       "Z2BYD          NaN  \n",
       "ZDPNZ          NaN  \n",
       "\n",
       "[2 rows x 174 columns]"
      ]
     },
     "execution_count": 60,
     "metadata": {},
     "output_type": "execute_result"
    }
   ],
   "source": [
    "# In asr timings: replace 0.0 with np.nan\n",
    "# asrStory1DF = [np.nan if x==0.0 else x for x in list(np.array(asrStory1DF).flatten())]\n",
    "asrStory1DF = asrStory1DF.loc[manualStory1DF.index].replace(0.0, np.nan).replace(999, np.nan)\n",
    "asrStory1DF"
   ]
  },
  {
   "cell_type": "code",
   "execution_count": 61,
   "metadata": {},
   "outputs": [
    {
     "data": {
      "text/html": [
       "<div>\n",
       "<style scoped>\n",
       "    .dataframe tbody tr th:only-of-type {\n",
       "        vertical-align: middle;\n",
       "    }\n",
       "\n",
       "    .dataframe tbody tr th {\n",
       "        vertical-align: top;\n",
       "    }\n",
       "\n",
       "    .dataframe thead th {\n",
       "        text-align: right;\n",
       "    }\n",
       "</style>\n",
       "<table border=\"1\" class=\"dataframe\">\n",
       "  <thead>\n",
       "    <tr style=\"text-align: right;\">\n",
       "      <th></th>\n",
       "      <th>0-0-Bang</th>\n",
       "      <th>0-1-in</th>\n",
       "      <th>0-2-het</th>\n",
       "      <th>0-3-donker</th>\n",
       "      <th>1-0-Als</th>\n",
       "      <th>1-1-de</th>\n",
       "      <th>1-2-beker</th>\n",
       "      <th>1-3-vol</th>\n",
       "      <th>1-4-is</th>\n",
       "      <th>1-5-doet</th>\n",
       "      <th>...</th>\n",
       "      <th>19-2-sliep</th>\n",
       "      <th>19-3-ze</th>\n",
       "      <th>19-4-altijd</th>\n",
       "      <th>19-5-met</th>\n",
       "      <th>19-6-haar</th>\n",
       "      <th>19-7-broer</th>\n",
       "      <th>19-8-Hidde</th>\n",
       "      <th>19-9-op</th>\n",
       "      <th>19-10-een</th>\n",
       "      <th>19-11-kamer</th>\n",
       "    </tr>\n",
       "  </thead>\n",
       "  <tbody>\n",
       "    <tr>\n",
       "      <th>Z2BYD</th>\n",
       "      <td>1.592487</td>\n",
       "      <td>2.539807</td>\n",
       "      <td>2.748852</td>\n",
       "      <td>3.420973</td>\n",
       "      <td>4.265572</td>\n",
       "      <td>4.803234</td>\n",
       "      <td>5.989206</td>\n",
       "      <td>6.579623</td>\n",
       "      <td>7.113180</td>\n",
       "      <td>7.448758</td>\n",
       "      <td>...</td>\n",
       "      <td>92.192542</td>\n",
       "      <td>92.487830</td>\n",
       "      <td>93.534866</td>\n",
       "      <td>95.445759</td>\n",
       "      <td>95.764352</td>\n",
       "      <td>96.788808</td>\n",
       "      <td>97.837448</td>\n",
       "      <td>98.599460</td>\n",
       "      <td>98.921850</td>\n",
       "      <td>99.258894</td>\n",
       "    </tr>\n",
       "    <tr>\n",
       "      <th>ZDPNZ</th>\n",
       "      <td>3.002905</td>\n",
       "      <td>3.293981</td>\n",
       "      <td>3.452750</td>\n",
       "      <td>3.680318</td>\n",
       "      <td>5.651853</td>\n",
       "      <td>5.923873</td>\n",
       "      <td>6.058045</td>\n",
       "      <td>6.523051</td>\n",
       "      <td>7.041001</td>\n",
       "      <td>9.058533</td>\n",
       "      <td>...</td>\n",
       "      <td>115.872978</td>\n",
       "      <td>116.247924</td>\n",
       "      <td>116.417017</td>\n",
       "      <td>119.218084</td>\n",
       "      <td>119.482751</td>\n",
       "      <td>119.732715</td>\n",
       "      <td>121.764616</td>\n",
       "      <td>122.698304</td>\n",
       "      <td>122.916393</td>\n",
       "      <td>123.247228</td>\n",
       "    </tr>\n",
       "  </tbody>\n",
       "</table>\n",
       "<p>2 rows × 174 columns</p>\n",
       "</div>"
      ],
      "text/plain": [
       "       0-0-Bang    0-1-in   0-2-het  0-3-donker   1-0-Als    1-1-de  \\\n",
       "Z2BYD  1.592487  2.539807  2.748852    3.420973  4.265572  4.803234   \n",
       "ZDPNZ  3.002905  3.293981  3.452750    3.680318  5.651853  5.923873   \n",
       "\n",
       "       1-2-beker   1-3-vol    1-4-is  1-5-doet  ...  19-2-sliep     19-3-ze  \\\n",
       "Z2BYD   5.989206  6.579623  7.113180  7.448758  ...   92.192542   92.487830   \n",
       "ZDPNZ   6.058045  6.523051  7.041001  9.058533  ...  115.872978  116.247924   \n",
       "\n",
       "       19-4-altijd    19-5-met   19-6-haar  19-7-broer  19-8-Hidde  \\\n",
       "Z2BYD    93.534866   95.445759   95.764352   96.788808   97.837448   \n",
       "ZDPNZ   116.417017  119.218084  119.482751  119.732715  121.764616   \n",
       "\n",
       "          19-9-op   19-10-een  19-11-kamer  \n",
       "Z2BYD   98.599460   98.921850    99.258894  \n",
       "ZDPNZ  122.698304  122.916393   123.247228  \n",
       "\n",
       "[2 rows x 174 columns]"
      ]
     },
     "execution_count": 61,
     "metadata": {},
     "output_type": "execute_result"
    }
   ],
   "source": [
    "manualStory1DF"
   ]
  },
  {
   "cell_type": "code",
   "execution_count": 62,
   "metadata": {},
   "outputs": [
    {
     "data": {
      "text/html": [
       "<div>\n",
       "<style scoped>\n",
       "    .dataframe tbody tr th:only-of-type {\n",
       "        vertical-align: middle;\n",
       "    }\n",
       "\n",
       "    .dataframe tbody tr th {\n",
       "        vertical-align: top;\n",
       "    }\n",
       "\n",
       "    .dataframe thead th {\n",
       "        text-align: right;\n",
       "    }\n",
       "</style>\n",
       "<table border=\"1\" class=\"dataframe\">\n",
       "  <thead>\n",
       "    <tr style=\"text-align: right;\">\n",
       "      <th></th>\n",
       "      <th>0-0-Bang</th>\n",
       "      <th>0-1-in</th>\n",
       "      <th>0-2-het</th>\n",
       "      <th>0-3-donker</th>\n",
       "      <th>1-0-Als</th>\n",
       "      <th>1-1-de</th>\n",
       "      <th>1-2-beker</th>\n",
       "      <th>1-3-vol</th>\n",
       "      <th>1-4-is</th>\n",
       "      <th>1-5-doet</th>\n",
       "      <th>...</th>\n",
       "      <th>19-2-sliep</th>\n",
       "      <th>19-3-ze</th>\n",
       "      <th>19-4-altijd</th>\n",
       "      <th>19-5-met</th>\n",
       "      <th>19-6-haar</th>\n",
       "      <th>19-7-broer</th>\n",
       "      <th>19-8-Hidde</th>\n",
       "      <th>19-9-op</th>\n",
       "      <th>19-10-een</th>\n",
       "      <th>19-11-kamer</th>\n",
       "    </tr>\n",
       "  </thead>\n",
       "  <tbody>\n",
       "    <tr>\n",
       "      <th>Z2BYD</th>\n",
       "      <td>NaN</td>\n",
       "      <td>0.039807</td>\n",
       "      <td>-0.011148</td>\n",
       "      <td>0.180973</td>\n",
       "      <td>-0.014428</td>\n",
       "      <td>0.263234</td>\n",
       "      <td>NaN</td>\n",
       "      <td>-0.000377</td>\n",
       "      <td>0.133180</td>\n",
       "      <td>-0.031242</td>\n",
       "      <td>...</td>\n",
       "      <td>0.052542</td>\n",
       "      <td>NaN</td>\n",
       "      <td>0.054866</td>\n",
       "      <td>NaN</td>\n",
       "      <td>NaN</td>\n",
       "      <td>0.088808</td>\n",
       "      <td>-0.082552</td>\n",
       "      <td>NaN</td>\n",
       "      <td>NaN</td>\n",
       "      <td>NaN</td>\n",
       "    </tr>\n",
       "    <tr>\n",
       "      <th>ZDPNZ</th>\n",
       "      <td>0.042905</td>\n",
       "      <td>0.073981</td>\n",
       "      <td>-0.047250</td>\n",
       "      <td>0.020318</td>\n",
       "      <td>0.051853</td>\n",
       "      <td>0.063873</td>\n",
       "      <td>0.018045</td>\n",
       "      <td>0.143051</td>\n",
       "      <td>0.041001</td>\n",
       "      <td>0.138533</td>\n",
       "      <td>...</td>\n",
       "      <td>-0.127022</td>\n",
       "      <td>NaN</td>\n",
       "      <td>0.037017</td>\n",
       "      <td>NaN</td>\n",
       "      <td>NaN</td>\n",
       "      <td>0.072715</td>\n",
       "      <td>NaN</td>\n",
       "      <td>NaN</td>\n",
       "      <td>NaN</td>\n",
       "      <td>NaN</td>\n",
       "    </tr>\n",
       "  </tbody>\n",
       "</table>\n",
       "<p>2 rows × 174 columns</p>\n",
       "</div>"
      ],
      "text/plain": [
       "       0-0-Bang    0-1-in   0-2-het  0-3-donker   1-0-Als    1-1-de  \\\n",
       "Z2BYD       NaN  0.039807 -0.011148    0.180973 -0.014428  0.263234   \n",
       "ZDPNZ  0.042905  0.073981 -0.047250    0.020318  0.051853  0.063873   \n",
       "\n",
       "       1-2-beker   1-3-vol    1-4-is  1-5-doet  ...  19-2-sliep  19-3-ze  \\\n",
       "Z2BYD        NaN -0.000377  0.133180 -0.031242  ...    0.052542      NaN   \n",
       "ZDPNZ   0.018045  0.143051  0.041001  0.138533  ...   -0.127022      NaN   \n",
       "\n",
       "       19-4-altijd  19-5-met  19-6-haar  19-7-broer  19-8-Hidde  19-9-op  \\\n",
       "Z2BYD     0.054866       NaN        NaN    0.088808   -0.082552      NaN   \n",
       "ZDPNZ     0.037017       NaN        NaN    0.072715         NaN      NaN   \n",
       "\n",
       "       19-10-een  19-11-kamer  \n",
       "Z2BYD        NaN          NaN  \n",
       "ZDPNZ        NaN          NaN  \n",
       "\n",
       "[2 rows x 174 columns]"
      ]
     },
     "execution_count": 62,
     "metadata": {},
     "output_type": "execute_result"
    }
   ],
   "source": [
    "differenceDF = manualStory1DF - asrStory1DF\n",
    "differenceDF"
   ]
  },
  {
   "cell_type": "code",
   "execution_count": 63,
   "metadata": {},
   "outputs": [],
   "source": [
    "for idx, row in differenceDF.iterrows():\n",
    "    for column in differenceDF.columns:\n",
    "        if row[column] <-700:\n",
    "            print(idx, column)"
   ]
  },
  {
   "cell_type": "code",
   "execution_count": 64,
   "metadata": {},
   "outputs": [
    {
     "data": {
      "text/plain": [
       "nan"
      ]
     },
     "execution_count": 64,
     "metadata": {},
     "output_type": "execute_result"
    }
   ],
   "source": [
    "asrStory1DF.loc['Z2BYD', '15-1-rilt']"
   ]
  },
  {
   "cell_type": "code",
   "execution_count": 65,
   "metadata": {},
   "outputs": [
    {
     "data": {
      "text/plain": [
       "73.58561307290553"
      ]
     },
     "execution_count": 65,
     "metadata": {},
     "output_type": "execute_result"
    }
   ],
   "source": [
    "manualStory1DF.loc['Z2BYD', '15-1-rilt']"
   ]
  },
  {
   "cell_type": "code",
   "execution_count": 67,
   "metadata": {},
   "outputs": [
    {
     "data": {
      "text/plain": [
       "(array([ 2.,  1.,  2.,  3., 11., 55., 88., 26.,  7.,  3.]),\n",
       " array([-0.41824492, -0.3462824 , -0.27431989, -0.20235737, -0.13039485,\n",
       "        -0.05843233,  0.01353019,  0.08549271,  0.15745523,  0.22941774,\n",
       "         0.30138026]),\n",
       " <BarContainer object of 10 artists>)"
      ]
     },
     "execution_count": 67,
     "metadata": {},
     "output_type": "execute_result"
    },
    {
     "data": {
      "image/png": "[encoded data removed]",
      "text/plain": [
       "<Figure size 640x480 with 1 Axes>"
      ]
     },
     "metadata": {},
     "output_type": "display_data"
    }
   ],
   "source": [
    "plt.hist(np.array(differenceDF).flatten())"
   ]
  },
  {
   "cell_type": "code",
   "execution_count": 69,
   "metadata": {},
   "outputs": [
    {
     "data": {
      "text/plain": [
       "count    198.000000\n",
       "mean       0.027831\n",
       "std        0.090631\n",
       "min       -0.418245\n",
       "25%       -0.007664\n",
       "50%        0.035159\n",
       "75%        0.072263\n",
       "max        0.301380\n",
       "dtype: float64"
      ]
     },
     "execution_count": 69,
     "metadata": {},
     "output_type": "execute_result"
    }
   ],
   "source": [
    "pd.Series(np.array(differenceDF).flatten()).describe()"
   ]
  },
  {
   "cell_type": "code",
   "execution_count": 12,
   "metadata": {},
   "outputs": [
    {
     "data": {
      "text/html": [
       "<div>\n",
       "<style scoped>\n",
       "    .dataframe tbody tr th:only-of-type {\n",
       "        vertical-align: middle;\n",
       "    }\n",
       "\n",
       "    .dataframe tbody tr th {\n",
       "        vertical-align: top;\n",
       "    }\n",
       "\n",
       "    .dataframe thead th {\n",
       "        text-align: right;\n",
       "    }\n",
       "</style>\n",
       "<table border=\"1\" class=\"dataframe\">\n",
       "  <thead>\n",
       "    <tr style=\"text-align: right;\">\n",
       "      <th></th>\n",
       "      <th>0-0-Bang</th>\n",
       "      <th>0-1-in</th>\n",
       "      <th>0-2-het</th>\n",
       "      <th>0-3-donker</th>\n",
       "      <th>1-0-Als</th>\n",
       "      <th>1-1-de</th>\n",
       "      <th>1-2-beker</th>\n",
       "      <th>1-3-vol</th>\n",
       "      <th>1-4-is</th>\n",
       "      <th>1-5-doet</th>\n",
       "      <th>...</th>\n",
       "      <th>19-2-sliep</th>\n",
       "      <th>19-3-ze</th>\n",
       "      <th>19-4-altijd</th>\n",
       "      <th>19-5-met</th>\n",
       "      <th>19-6-haar</th>\n",
       "      <th>19-7-broer</th>\n",
       "      <th>19-8-Hidde</th>\n",
       "      <th>19-9-op</th>\n",
       "      <th>19-10-een</th>\n",
       "      <th>19-11-kamer</th>\n",
       "    </tr>\n",
       "  </thead>\n",
       "  <tbody>\n",
       "    <tr>\n",
       "      <th>Z2BYD</th>\n",
       "      <td>1.592487</td>\n",
       "      <td>2.539807</td>\n",
       "      <td>2.748852</td>\n",
       "      <td>3.420973</td>\n",
       "      <td>4.265572</td>\n",
       "      <td>4.803234</td>\n",
       "      <td>5.989206</td>\n",
       "      <td>6.579623</td>\n",
       "      <td>7.113180</td>\n",
       "      <td>7.448758</td>\n",
       "      <td>...</td>\n",
       "      <td>92.192542</td>\n",
       "      <td>92.487830</td>\n",
       "      <td>93.534866</td>\n",
       "      <td>95.445759</td>\n",
       "      <td>95.764352</td>\n",
       "      <td>96.788808</td>\n",
       "      <td>97.837448</td>\n",
       "      <td>98.599460</td>\n",
       "      <td>98.921850</td>\n",
       "      <td>99.258894</td>\n",
       "    </tr>\n",
       "    <tr>\n",
       "      <th>ZDPNZ</th>\n",
       "      <td>3.002905</td>\n",
       "      <td>3.293981</td>\n",
       "      <td>3.452750</td>\n",
       "      <td>3.680318</td>\n",
       "      <td>5.651853</td>\n",
       "      <td>5.923873</td>\n",
       "      <td>6.058045</td>\n",
       "      <td>6.523051</td>\n",
       "      <td>7.041001</td>\n",
       "      <td>9.058533</td>\n",
       "      <td>...</td>\n",
       "      <td>115.872978</td>\n",
       "      <td>116.247924</td>\n",
       "      <td>116.417017</td>\n",
       "      <td>119.218084</td>\n",
       "      <td>119.482751</td>\n",
       "      <td>119.732715</td>\n",
       "      <td>121.764616</td>\n",
       "      <td>122.698304</td>\n",
       "      <td>122.916393</td>\n",
       "      <td>123.247228</td>\n",
       "    </tr>\n",
       "  </tbody>\n",
       "</table>\n",
       "<p>2 rows × 174 columns</p>\n",
       "</div>"
      ],
      "text/plain": [
       "       0-0-Bang    0-1-in   0-2-het  0-3-donker   1-0-Als    1-1-de  \\\n",
       "Z2BYD  1.592487  2.539807  2.748852    3.420973  4.265572  4.803234   \n",
       "ZDPNZ  3.002905  3.293981  3.452750    3.680318  5.651853  5.923873   \n",
       "\n",
       "       1-2-beker   1-3-vol    1-4-is  1-5-doet  ...  19-2-sliep     19-3-ze  \\\n",
       "Z2BYD   5.989206  6.579623  7.113180  7.448758  ...   92.192542   92.487830   \n",
       "ZDPNZ   6.058045  6.523051  7.041001  9.058533  ...  115.872978  116.247924   \n",
       "\n",
       "       19-4-altijd    19-5-met   19-6-haar  19-7-broer  19-8-Hidde  \\\n",
       "Z2BYD    93.534866   95.445759   95.764352   96.788808   97.837448   \n",
       "ZDPNZ   116.417017  119.218084  119.482751  119.732715  121.764616   \n",
       "\n",
       "          19-9-op   19-10-een  19-11-kamer  \n",
       "Z2BYD   98.599460   98.921850    99.258894  \n",
       "ZDPNZ  122.698304  122.916393   123.247228  \n",
       "\n",
       "[2 rows x 174 columns]"
      ]
     },
     "execution_count": 12,
     "metadata": {},
     "output_type": "execute_result"
    }
   ],
   "source": [
    "x_manual = manualStory1DF\n",
    "x_manual"
   ]
  },
  {
   "cell_type": "code",
   "execution_count": 35,
   "metadata": {},
   "outputs": [
    {
     "data": {
      "text/plain": [
       "0"
      ]
     },
     "execution_count": 35,
     "metadata": {},
     "output_type": "execute_result"
    }
   ],
   "source": [
    "list(np.array(x_manual).flatten()).index(1.59248707080382)"
   ]
  },
  {
   "cell_type": "code",
   "execution_count": 13,
   "metadata": {},
   "outputs": [
    {
     "data": {
      "text/html": [
       "<div>\n",
       "<style scoped>\n",
       "    .dataframe tbody tr th:only-of-type {\n",
       "        vertical-align: middle;\n",
       "    }\n",
       "\n",
       "    .dataframe tbody tr th {\n",
       "        vertical-align: top;\n",
       "    }\n",
       "\n",
       "    .dataframe thead th {\n",
       "        text-align: right;\n",
       "    }\n",
       "</style>\n",
       "<table border=\"1\" class=\"dataframe\">\n",
       "  <thead>\n",
       "    <tr style=\"text-align: right;\">\n",
       "      <th></th>\n",
       "      <th>0-0-Bang</th>\n",
       "      <th>0-1-in</th>\n",
       "      <th>0-2-het</th>\n",
       "      <th>0-3-donker</th>\n",
       "      <th>1-0-Als</th>\n",
       "      <th>1-1-de</th>\n",
       "      <th>1-2-beker</th>\n",
       "      <th>1-3-vol</th>\n",
       "      <th>1-4-is</th>\n",
       "      <th>1-5-doet</th>\n",
       "      <th>...</th>\n",
       "      <th>19-2-sliep</th>\n",
       "      <th>19-3-ze</th>\n",
       "      <th>19-4-altijd</th>\n",
       "      <th>19-5-met</th>\n",
       "      <th>19-6-haar</th>\n",
       "      <th>19-7-broer</th>\n",
       "      <th>19-8-Hidde</th>\n",
       "      <th>19-9-op</th>\n",
       "      <th>19-10-een</th>\n",
       "      <th>19-11-kamer</th>\n",
       "    </tr>\n",
       "  </thead>\n",
       "  <tbody>\n",
       "    <tr>\n",
       "      <th>Z2BYD</th>\n",
       "      <td>0.00</td>\n",
       "      <td>2.50</td>\n",
       "      <td>2.76</td>\n",
       "      <td>3.24</td>\n",
       "      <td>4.28</td>\n",
       "      <td>4.54</td>\n",
       "      <td>0.00</td>\n",
       "      <td>6.58</td>\n",
       "      <td>6.98</td>\n",
       "      <td>7.48</td>\n",
       "      <td>...</td>\n",
       "      <td>92.14</td>\n",
       "      <td>0.0</td>\n",
       "      <td>93.48</td>\n",
       "      <td>0.0</td>\n",
       "      <td>0.0</td>\n",
       "      <td>96.70</td>\n",
       "      <td>97.92</td>\n",
       "      <td>0.0</td>\n",
       "      <td>0.0</td>\n",
       "      <td>0.0</td>\n",
       "    </tr>\n",
       "    <tr>\n",
       "      <th>ZDPNZ</th>\n",
       "      <td>2.96</td>\n",
       "      <td>3.22</td>\n",
       "      <td>3.50</td>\n",
       "      <td>3.66</td>\n",
       "      <td>5.60</td>\n",
       "      <td>5.86</td>\n",
       "      <td>6.04</td>\n",
       "      <td>6.38</td>\n",
       "      <td>7.00</td>\n",
       "      <td>8.92</td>\n",
       "      <td>...</td>\n",
       "      <td>116.00</td>\n",
       "      <td>0.0</td>\n",
       "      <td>116.38</td>\n",
       "      <td>0.0</td>\n",
       "      <td>0.0</td>\n",
       "      <td>119.66</td>\n",
       "      <td>0.00</td>\n",
       "      <td>0.0</td>\n",
       "      <td>0.0</td>\n",
       "      <td>0.0</td>\n",
       "    </tr>\n",
       "  </tbody>\n",
       "</table>\n",
       "<p>2 rows × 174 columns</p>\n",
       "</div>"
      ],
      "text/plain": [
       "       0-0-Bang  0-1-in  0-2-het  0-3-donker  1-0-Als  1-1-de  1-2-beker  \\\n",
       "Z2BYD      0.00    2.50     2.76        3.24     4.28    4.54       0.00   \n",
       "ZDPNZ      2.96    3.22     3.50        3.66     5.60    5.86       6.04   \n",
       "\n",
       "       1-3-vol  1-4-is  1-5-doet  ...  19-2-sliep  19-3-ze  19-4-altijd  \\\n",
       "Z2BYD     6.58    6.98      7.48  ...       92.14      0.0        93.48   \n",
       "ZDPNZ     6.38    7.00      8.92  ...      116.00      0.0       116.38   \n",
       "\n",
       "       19-5-met  19-6-haar  19-7-broer  19-8-Hidde  19-9-op  19-10-een  \\\n",
       "Z2BYD       0.0        0.0       96.70       97.92      0.0        0.0   \n",
       "ZDPNZ       0.0        0.0      119.66        0.00      0.0        0.0   \n",
       "\n",
       "       19-11-kamer  \n",
       "Z2BYD          0.0  \n",
       "ZDPNZ          0.0  \n",
       "\n",
       "[2 rows x 174 columns]"
      ]
     },
     "execution_count": 13,
     "metadata": {},
     "output_type": "execute_result"
    }
   ],
   "source": [
    "x_asr = asrStory1DF.loc[manualStory1DF.index]\n",
    "x_asr"
   ]
  },
  {
   "cell_type": "code",
   "execution_count": 46,
   "metadata": {},
   "outputs": [
    {
     "data": {
      "text/plain": [
       "array([[  0.  ,   2.5 ,   2.76,   3.24,   4.28,   4.54,   0.  ,   6.58,\n",
       "          6.98,   7.48,   8.2 ,   0.  ,   9.08,   9.52,   9.96,  10.18,\n",
       "         10.5 ,  10.7 ,  11.04,  11.24,  11.98,  12.12,   0.  ,  13.12,\n",
       "         13.6 ,  13.92,  14.26,  14.66,  15.02,  15.94,   0.  ,  16.26,\n",
       "         16.52,  17.02,   0.  ,  17.54,  17.96,   0.  ,  20.64,  21.08,\n",
       "         21.36,  22.16,  22.28,  22.92,  23.56,  23.72,  24.66,  24.84,\n",
       "         25.46,  26.  ,  26.52,  27.14,  27.48,  27.86,  28.1 ,  28.48,\n",
       "          0.  ,  29.88,  30.98,   0.  ,  32.06,  32.82,  33.34,   0.  ,\n",
       "         34.06,  34.56,   0.  ,   0.  ,  36.24,  37.42,  37.58,  38.3 ,\n",
       "          0.  ,  40.8 ,  41.54,  41.94,  42.44,  42.7 ,  43.76,  44.2 ,\n",
       "          0.  ,  44.84,  45.38,   0.  ,   0.  ,   0.  ,   0.  ,  47.4 ,\n",
       "         47.76,   0.  ,   0.  ,  49.62,   0.  ,   0.  ,   0.  ,   0.  ,\n",
       "         51.4 ,  51.9 ,   0.  ,   0.  ,  54.34,   0.  ,  55.6 ,  56.14,\n",
       "         56.72,   0.  ,   0.  ,  57.72,   0.  ,  59.  ,   0.  ,   0.  ,\n",
       "          0.  ,   0.  ,  63.72,   0.  ,  65.38,   0.  ,   0.  ,  66.34,\n",
       "          0.  ,   0.  ,   0.  ,  68.66,  70.5 ,   0.  ,   0.  ,  71.62,\n",
       "          0.  , 999.  ,   0.  ,  74.46,  75.04,   0.  ,   0.  ,   0.  ,\n",
       "          0.  ,  77.9 ,  78.04,   0.  ,   0.  ,  78.92,   0.  ,   0.  ,\n",
       "          0.  ,  81.36,   0.  ,  83.34,   0.  ,   0.  ,   0.  ,  84.76,\n",
       "         85.9 ,   0.  ,   0.  ,   0.  ,   0.  ,   0.  ,   0.  ,  89.68,\n",
       "          0.  ,  90.5 ,  91.06,  91.46,  92.14,   0.  ,  93.48,   0.  ,\n",
       "          0.  ,  96.7 ,  97.92,   0.  ,   0.  ,   0.  ],\n",
       "       [  2.96,   3.22,   3.5 ,   3.66,   5.6 ,   5.86,   6.04,   6.38,\n",
       "          7.  ,   8.92,   0.  ,   0.  ,  14.22,  14.66,  15.94,  16.7 ,\n",
       "         16.94,  17.08,  17.28,  17.42,  18.38,  18.68,   0.  ,   0.  ,\n",
       "         21.  ,  21.18,  21.4 ,  21.72,  21.94,  25.92,   0.  ,  26.34,\n",
       "         26.58,  26.86,   0.  ,  27.2 ,  27.44,   0.  ,  30.86,  32.72,\n",
       "          0.  ,  33.5 ,  33.84,  34.5 ,  35.1 ,  35.14,   0.  ,  35.5 ,\n",
       "         35.98,  37.02,  37.24,  37.78,  38.72,  38.98,  39.24,  40.52,\n",
       "          0.  ,   0.  ,  42.08,   0.  ,  44.06,  44.78,  45.3 ,   0.  ,\n",
       "         46.08,  46.52,   0.  ,   0.  ,   0.  ,   0.  ,  53.38,  53.94,\n",
       "          0.  ,  54.78,  55.  ,  55.64,  56.26,  56.44,  58.74,  59.14,\n",
       "          0.  ,  59.7 ,  59.9 ,   0.  ,   0.  ,   0.  ,   0.  ,   0.  ,\n",
       "         62.58,   0.  ,   0.  ,   0.  ,   0.  ,   0.  ,   0.  ,   0.  ,\n",
       "         66.66,  67.16,   0.  ,   0.  ,  69.14,   0.  ,  70.22,  71.64,\n",
       "         72.2 ,   0.  ,   0.  ,  72.9 ,   0.  ,  74.38,   0.  ,   0.  ,\n",
       "          0.  ,   0.  ,  76.26,   0.  ,  79.54,   0.  ,   0.  ,   0.  ,\n",
       "          0.  ,   0.  ,   0.  ,  84.38,  85.18,   0.  ,   0.  ,  86.16,\n",
       "          0.  ,   0.  ,   0.  ,  93.96,  95.52,   0.  ,   0.  ,  96.9 ,\n",
       "          0.  ,   0.  ,  98.42,   0.  ,   0.  , 100.44,   0.  ,   0.  ,\n",
       "          0.  , 105.48,   0.  , 106.18,   0.  ,   0.  ,   0.  , 108.52,\n",
       "        110.24,   0.  , 110.92,   0.  ,   0.  ,   0.  ,   0.  , 112.64,\n",
       "          0.  , 113.36, 115.1 , 115.34, 116.  ,   0.  , 116.38,   0.  ,\n",
       "          0.  , 119.66,   0.  ,   0.  ,   0.  ,   0.  ]])"
      ]
     },
     "execution_count": 46,
     "metadata": {},
     "output_type": "execute_result"
    }
   ],
   "source": [
    "x_asr.to_numpy()"
   ]
  },
  {
   "cell_type": "code",
   "execution_count": 47,
   "metadata": {},
   "outputs": [
    {
     "data": {
      "text/html": [
       "<div>\n",
       "<style scoped>\n",
       "    .dataframe tbody tr th:only-of-type {\n",
       "        vertical-align: middle;\n",
       "    }\n",
       "\n",
       "    .dataframe tbody tr th {\n",
       "        vertical-align: top;\n",
       "    }\n",
       "\n",
       "    .dataframe thead th {\n",
       "        text-align: right;\n",
       "    }\n",
       "</style>\n",
       "<table border=\"1\" class=\"dataframe\">\n",
       "  <thead>\n",
       "    <tr style=\"text-align: right;\">\n",
       "      <th></th>\n",
       "      <th>0-0-Bang</th>\n",
       "      <th>0-1-in</th>\n",
       "      <th>0-2-het</th>\n",
       "      <th>0-3-donker</th>\n",
       "      <th>1-0-Als</th>\n",
       "      <th>1-1-de</th>\n",
       "      <th>1-2-beker</th>\n",
       "      <th>1-3-vol</th>\n",
       "      <th>1-4-is</th>\n",
       "      <th>1-5-doet</th>\n",
       "      <th>...</th>\n",
       "      <th>19-2-sliep</th>\n",
       "      <th>19-3-ze</th>\n",
       "      <th>19-4-altijd</th>\n",
       "      <th>19-5-met</th>\n",
       "      <th>19-6-haar</th>\n",
       "      <th>19-7-broer</th>\n",
       "      <th>19-8-Hidde</th>\n",
       "      <th>19-9-op</th>\n",
       "      <th>19-10-een</th>\n",
       "      <th>19-11-kamer</th>\n",
       "    </tr>\n",
       "  </thead>\n",
       "  <tbody>\n",
       "    <tr>\n",
       "      <th>Z2BYD</th>\n",
       "      <td>NaN</td>\n",
       "      <td>2.50</td>\n",
       "      <td>2.76</td>\n",
       "      <td>3.24</td>\n",
       "      <td>4.28</td>\n",
       "      <td>4.54</td>\n",
       "      <td>NaN</td>\n",
       "      <td>6.58</td>\n",
       "      <td>6.98</td>\n",
       "      <td>7.48</td>\n",
       "      <td>...</td>\n",
       "      <td>92.14</td>\n",
       "      <td>NaN</td>\n",
       "      <td>93.48</td>\n",
       "      <td>NaN</td>\n",
       "      <td>NaN</td>\n",
       "      <td>96.70</td>\n",
       "      <td>97.92</td>\n",
       "      <td>NaN</td>\n",
       "      <td>NaN</td>\n",
       "      <td>NaN</td>\n",
       "    </tr>\n",
       "    <tr>\n",
       "      <th>ZDPNZ</th>\n",
       "      <td>2.96</td>\n",
       "      <td>3.22</td>\n",
       "      <td>3.50</td>\n",
       "      <td>3.66</td>\n",
       "      <td>5.60</td>\n",
       "      <td>5.86</td>\n",
       "      <td>6.04</td>\n",
       "      <td>6.38</td>\n",
       "      <td>7.00</td>\n",
       "      <td>8.92</td>\n",
       "      <td>...</td>\n",
       "      <td>116.00</td>\n",
       "      <td>NaN</td>\n",
       "      <td>116.38</td>\n",
       "      <td>NaN</td>\n",
       "      <td>NaN</td>\n",
       "      <td>119.66</td>\n",
       "      <td>NaN</td>\n",
       "      <td>NaN</td>\n",
       "      <td>NaN</td>\n",
       "      <td>NaN</td>\n",
       "    </tr>\n",
       "  </tbody>\n",
       "</table>\n",
       "<p>2 rows × 174 columns</p>\n",
       "</div>"
      ],
      "text/plain": [
       "       0-0-Bang  0-1-in  0-2-het  0-3-donker  1-0-Als  1-1-de  1-2-beker  \\\n",
       "Z2BYD       NaN    2.50     2.76        3.24     4.28    4.54        NaN   \n",
       "ZDPNZ      2.96    3.22     3.50        3.66     5.60    5.86       6.04   \n",
       "\n",
       "       1-3-vol  1-4-is  1-5-doet  ...  19-2-sliep  19-3-ze  19-4-altijd  \\\n",
       "Z2BYD     6.58    6.98      7.48  ...       92.14      NaN        93.48   \n",
       "ZDPNZ     6.38    7.00      8.92  ...      116.00      NaN       116.38   \n",
       "\n",
       "       19-5-met  19-6-haar  19-7-broer  19-8-Hidde  19-9-op  19-10-een  \\\n",
       "Z2BYD       NaN        NaN       96.70       97.92      NaN        NaN   \n",
       "ZDPNZ       NaN        NaN      119.66         NaN      NaN        NaN   \n",
       "\n",
       "       19-11-kamer  \n",
       "Z2BYD          NaN  \n",
       "ZDPNZ          NaN  \n",
       "\n",
       "[2 rows x 174 columns]"
      ]
     },
     "execution_count": 47,
     "metadata": {},
     "output_type": "execute_result"
    }
   ],
   "source": []
  },
  {
   "cell_type": "code",
   "execution_count": 45,
   "metadata": {},
   "outputs": [
    {
     "ename": "ValueError",
     "evalue": "The truth value of an array with more than one element is ambiguous. Use a.any() or a.all()",
     "output_type": "error",
     "traceback": [
      "\u001b[0;31m---------------------------------------------------------------------------\u001b[0m",
      "\u001b[0;31mValueError\u001b[0m                                Traceback (most recent call last)",
      "Cell \u001b[0;32mIn[45], line 2\u001b[0m\n\u001b[1;32m      1\u001b[0m \u001b[38;5;66;03m# In asr timings: replace 0.0 with np.nan\u001b[39;00m\n\u001b[0;32m----> 2\u001b[0m [np\u001b[38;5;241m.\u001b[39mnan \u001b[38;5;28;01mif\u001b[39;00m x\u001b[38;5;241m==\u001b[39m\u001b[38;5;241m0.0\u001b[39m \u001b[38;5;28;01melse\u001b[39;00m x \u001b[38;5;28;01mfor\u001b[39;00m x \u001b[38;5;129;01min\u001b[39;00m x_asr\u001b[38;5;241m.\u001b[39mto_numpy()]\n",
      "Cell \u001b[0;32mIn[45], line 2\u001b[0m, in \u001b[0;36m<listcomp>\u001b[0;34m(.0)\u001b[0m\n\u001b[1;32m      1\u001b[0m \u001b[38;5;66;03m# In asr timings: replace 0.0 with np.nan\u001b[39;00m\n\u001b[0;32m----> 2\u001b[0m [np\u001b[38;5;241m.\u001b[39mnan \u001b[38;5;28;01mif\u001b[39;00m x\u001b[38;5;241m==\u001b[39m\u001b[38;5;241m0.0\u001b[39m \u001b[38;5;28;01melse\u001b[39;00m x \u001b[38;5;28;01mfor\u001b[39;00m x \u001b[38;5;129;01min\u001b[39;00m x_asr\u001b[38;5;241m.\u001b[39mto_numpy()]\n",
      "\u001b[0;31mValueError\u001b[0m: The truth value of an array with more than one element is ambiguous. Use a.any() or a.all()"
     ]
    }
   ],
   "source": [
    "# In asr timings: replace 0.0 with np.nan\n",
    "[np.nan if x==0.0 else x for x in x_asr.to_numpy()]"
   ]
  },
  {
   "cell_type": "code",
   "execution_count": 26,
   "metadata": {},
   "outputs": [
    {
     "data": {
      "text/plain": [
       "array([  1.59248707,   2.53980661,   2.74885198,   3.42097255,\n",
       "         4.26557196,   4.80323424,   5.98920608,   6.57962307,\n",
       "         7.11317973,   7.44875831,   8.22146718,   8.91417222,\n",
       "         9.11992832,   9.62533388,   9.96809687,  10.18161324,\n",
       "        10.56730631,  10.79299697,  11.03390519,  11.26250894,\n",
       "        11.81482531,  12.15319202,  12.97807444,  13.18762788,\n",
       "        13.71181088,  13.96811476,  14.43762667,  14.7540123 ,\n",
       "        15.18469976,  15.88355699,  16.10190288,  16.27350361,\n",
       "        16.75122682,  17.10424766,  17.40758725,  17.59282763,\n",
       "        18.03259814,  20.16273165,  20.61085608,  21.08125225,\n",
       "        21.37712211,  21.94423525,  22.28245933,  22.79579087,\n",
       "        23.49509912,  23.77206135,  24.61979662,  24.84107332,\n",
       "        25.5399306 ,  25.99187535,  26.66669239,  27.19718805,\n",
       "        27.65439554,  27.92886548,  28.12229941,  28.48939314,\n",
       "        29.74554418,  29.87156932,  31.05533417,  31.5657349 ,\n",
       "        32.00097899,  32.90600787,  33.50918031,  33.91656391,\n",
       "        34.13769793,  34.57585511,  35.6187981 ,  35.92213769,\n",
       "        36.36073334,  37.29830955,  37.57087555,  38.60138026,\n",
       "        40.54744291,  40.88097129,  41.563857  ,  42.04890726,\n",
       "        42.48852984,  42.77296704,  43.81283125,  44.34302386,\n",
       "        44.72696092,  44.89255209,  45.50305157,  46.35870753,\n",
       "        46.49352512,  46.75422522,  47.23194843,  47.50422908,\n",
       "        47.76214099,  48.59464106,  48.78660959,  49.75876191,\n",
       "        50.19838449,  50.51786131,  50.90312115,  51.19327205,\n",
       "        51.40897767,  52.02635323,  53.00584513,  53.52592251,\n",
       "        54.04996288,  54.87263827,  55.62439819,  56.13875662,\n",
       "        56.70896623,  57.24925104,  57.57648813,  57.68478569,\n",
       "        58.7280015 ,  59.02987568,  59.52212808,  62.65678142,\n",
       "        63.31328448,  63.53450611,  63.74303266,  65.21049309,\n",
       "        65.45375092,  65.86041068,  66.19745466,  66.31570708,\n",
       "        66.80808438,  67.06013466,  67.23891451,  68.66563935,\n",
       "        70.53740998,  71.2378753 ,  71.48992558,  71.60715827,\n",
       "        72.76791506,  73.58561307,  74.31437742,  74.53125789,\n",
       "        75.00605029,  75.44567287,  75.80352842,  76.62972108,\n",
       "        77.40345684,  77.7551549 ,  78.0599599 ,  78.43306318,\n",
       "        78.72321409,  78.91371721,  79.43935323,  79.77010759,\n",
       "        80.18921445,  81.42586416,  81.74532324,  83.3413012 ,\n",
       "        83.75353723,  84.24005289,  84.47744909,  84.91707167,\n",
       "        85.91603992,  86.42600212,  87.10814621,  87.91705177,\n",
       "        88.41428155,  89.03898415,  89.32327342,  89.84597858,\n",
       "        90.3266326 ,  90.4614502 ,  91.26054167,  91.43932152,\n",
       "        92.19254155,  92.48783025,  93.53486638,  95.44575922,\n",
       "        95.76435183,  96.78880789,  97.83744783,  98.59946032,\n",
       "        98.92185021,  99.25889419,   3.00290536,   3.29398119,\n",
       "         3.45274983,   3.68031821,   5.65185318,   5.92387276,\n",
       "         6.05804457,   6.52305102,   7.04100075,   9.05853291,\n",
       "        10.65815031,  13.95743891,  14.30297729,  14.7146826 ,\n",
       "        15.95715041,  16.73720754,  16.95041208,  17.06069029,\n",
       "        17.3180061 ,  17.40622867,  18.41093142,  18.69765476,\n",
       "        20.65585074,  20.8065643 ,  21.05469026,  21.2127557 ,\n",
       "        21.44801587,  21.75607252,  22.0097124 ,  26.01173775,\n",
       "        26.24148402,  26.37933178,  26.64014464,  26.89562249,\n",
       "        27.0426601 ,  27.15110034,  27.4672312 ,  30.22842552,\n",
       "        30.79635829,  32.59115388,  32.96977573,  33.50444609,\n",
       "        33.8849059 ,  34.5532047 ,  34.95020625,  35.11378559,\n",
       "        35.366502  ,  35.43634487,  35.96751824,  37.05469527,\n",
       "        37.27892762,  37.73842016,  38.83201903,  39.0121401 ,\n",
       "        39.17388147,  40.5867437 ,  41.23003325,  41.3623671 ,\n",
       "        42.09204124,  43.54406647,  44.07542537,  44.81007004,\n",
       "        45.41660019,  45.89833389,  46.16116362,  46.5563272 ,\n",
       "        49.34272539,  49.60555511,  50.04115404,  52.77532223,\n",
       "        53.39839411,  53.95200985,  54.59916087,  54.84177293,\n",
       "        54.98329663,  55.68356325,  56.19139296,  56.41378734,\n",
       "        58.81529862,  59.25807046,  59.5760393 ,  59.70285924,\n",
       "        59.96568897,  60.35241391,  60.56378047,  60.60421582,\n",
       "        62.01340211,  62.18984724,  62.70815482,  63.47386603,\n",
       "        63.80653863,  64.59502781,  65.26001516,  65.43278435,\n",
       "        65.63128512,  66.50966253,  66.66956593,  67.24301262,\n",
       "        67.64552807,  67.83300103,  69.24549877,  69.89889267,\n",
       "        70.35048989,  71.38876412,  72.19930895,  72.56397819,\n",
       "        72.75145114,  72.87275717,  74.16301884,  74.46628392,\n",
       "        74.83939185,  75.45713535,  75.90855367,  76.11808227,\n",
       "        76.2945274 ,  79.38416841,  79.50363647,  80.94204475,\n",
       "        81.21406433,  81.43057578,  82.80537744,  83.05534137,\n",
       "        83.26119403,  84.32878455,  85.24776962,  85.76240125,\n",
       "        86.00501331,  86.20351408,  89.32370056,  92.81603592,\n",
       "        93.51446457,  93.9622136 ,  95.10175508,  95.99133262,\n",
       "        96.72652068,  96.96178085,  97.98794703,  98.20850344,\n",
       "        98.42170798,  99.44361937,  99.65682391, 100.02810709,\n",
       "       102.75199204, 103.07547479, 103.53129138, 105.53100289,\n",
       "       105.87654127, 106.2441353 , 106.60437744, 108.15400062,\n",
       "       108.33044575, 108.47748336, 110.29856049, 110.72496956,\n",
       "       110.96022974, 111.35723129, 111.64395463, 112.16339106,\n",
       "       112.3765956 , 112.68537458, 113.1705987 , 113.31763631,\n",
       "       115.14514185, 115.31423511, 115.87297803, 116.24792393,\n",
       "       116.41701719, 119.21808367, 119.48275137, 119.73271531,\n",
       "       121.76461563, 122.69830446, 122.91639298, 123.2472276 ])"
      ]
     },
     "execution_count": 26,
     "metadata": {},
     "output_type": "execute_result"
    }
   ],
   "source": [
    "one_array = np.array(x_manual-x_asr).flatten()\n",
    "one_array"
   ]
  },
  {
   "cell_type": "code",
   "execution_count": 41,
   "metadata": {},
   "outputs": [
    {
     "data": {
      "text/plain": [
       "nan"
      ]
     },
     "execution_count": 41,
     "metadata": {},
     "output_type": "execute_result"
    }
   ],
   "source": [
    "9-np.nan"
   ]
  },
  {
   "cell_type": "code",
   "execution_count": 24,
   "metadata": {},
   "outputs": [
    {
     "data": {
      "text/plain": [
       "(array([  1.,   0.,   0.,   0.,   0.,   0.,   0.,   0., 206., 141.]),\n",
       " array([-925.41438693, -820.54822547, -715.68206402, -610.81590257,\n",
       "        -505.94974112, -401.08357966, -296.21741821, -191.35125676,\n",
       "         -86.48509531,   18.38106615,  123.2472276 ]),\n",
       " <BarContainer object of 10 artists>)"
      ]
     },
     "execution_count": 24,
     "metadata": {},
     "output_type": "execute_result"
    },
    {
     "data": {
      "image/png": "[encoded data removed]",
      "text/plain": [
       "<Figure size 640x480 with 1 Axes>"
      ]
     },
     "metadata": {},
     "output_type": "display_data"
    }
   ],
   "source": [
    "\n",
    "\n",
    "plt.hist(one_array)"
   ]
  },
  {
   "cell_type": "code",
   "execution_count": null,
   "metadata": {},
   "outputs": [],
   "source": [
    "# python3 ./eval-stories-diag-metrics.py --asr_model $modelname --task $task --manual_accuracy_dir $csv_accuracy_scores_manual --asr_accuracy_dir $csv_accuracy_scores_automatic --output_dir $output_dir_eval_metrics\n",
    "# def main():\n",
    "#     parser = argparse.ArgumentParser(\"Message\")\n",
    "#     parser.add_argument(\"--asr_model\", type=str, help = \"The name of the ASR model.\")\n",
    "#     parser.add_argument(\"--task\", type=str, help = \"either story or words\")\n",
    "#     parser.add_argument(\"--manual_accuracy_dir\", type=str, help = \"studentID x prompt accuracy file\")\n",
    "#     parser.add_argument(\"--asr_accuracy_dir\", type=str, help = \"studentID x prompt accuracy file\")\n",
    "\n",
    "#     parser.add_argument(\"--output_dir\", type=str, help = \"Output directory - evaluation measures\")\n",
    "#     parser.set_defaults(func=run)\n",
    "#     args = parser.parse_args()\n",
    "#     args.func(args)\n",
    "\n",
    "# if __name__ == \"__main__\":\n",
    "#     main()"
   ]
  }
 ],
 "metadata": {
  "kernelspec": {
   "display_name": "virenv-wav2vec2",
   "language": "python",
   "name": "python3"
  },
  "language_info": {
   "codemirror_mode": {
    "name": "ipython",
    "version": 3
   },
   "file_extension": ".py",
   "mimetype": "text/x-python",
   "name": "python",
   "nbconvert_exporter": "python",
   "pygments_lexer": "ipython3",
   "version": "3.10.12"
  }
 },
 "nbformat": 4,
 "nbformat_minor": 2
}
