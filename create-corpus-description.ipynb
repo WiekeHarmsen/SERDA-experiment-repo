{
 "cells": [
  {
   "cell_type": "code",
   "execution_count": 29,
   "metadata": {},
   "outputs": [],
   "source": [
    "import os\n",
    "import librosa\n",
    "import pandas as pd\n",
    "import numpy as np"
   ]
  },
  {
   "cell_type": "markdown",
   "metadata": {},
   "source": [
    "ROUND 1: METADATA"
   ]
  },
  {
   "cell_type": "code",
   "execution_count": 30,
   "metadata": {},
   "outputs": [
    {
     "data": {
      "text/html": [
       "<div>\n",
       "<style scoped>\n",
       "    .dataframe tbody tr th:only-of-type {\n",
       "        vertical-align: middle;\n",
       "    }\n",
       "\n",
       "    .dataframe tbody tr th {\n",
       "        vertical-align: top;\n",
       "    }\n",
       "\n",
       "    .dataframe thead th {\n",
       "        text-align: right;\n",
       "    }\n",
       "</style>\n",
       "<table border=\"1\" class=\"dataframe\">\n",
       "  <thead>\n",
       "    <tr style=\"text-align: right;\">\n",
       "      <th></th>\n",
       "      <th>Code</th>\n",
       "      <th>School_Province</th>\n",
       "      <th>School</th>\n",
       "      <th>Class</th>\n",
       "      <th>Class_Categorical</th>\n",
       "      <th>Gender</th>\n",
       "      <th>Birth_Province</th>\n",
       "      <th>Birth_Province_Categorical</th>\n",
       "      <th>Birth_Place_Categorical</th>\n",
       "      <th>Birth_Place_Categorical2</th>\n",
       "      <th>Language_Home</th>\n",
       "      <th>Language_Home_Categorical</th>\n",
       "      <th>Expected_Dyslexia</th>\n",
       "      <th>Date_collected</th>\n",
       "      <th>Age_Months</th>\n",
       "      <th>Age_Years</th>\n",
       "      <th>Task_Completed</th>\n",
       "    </tr>\n",
       "  </thead>\n",
       "  <tbody>\n",
       "    <tr>\n",
       "      <th>0</th>\n",
       "      <td>WHHXX</td>\n",
       "      <td>Utrecht</td>\n",
       "      <td>1</td>\n",
       "      <td>4B</td>\n",
       "      <td>4</td>\n",
       "      <td>Boy</td>\n",
       "      <td>Utrecht</td>\n",
       "      <td>Utrecht</td>\n",
       "      <td>Amersfoort</td>\n",
       "      <td>Amersfoort</td>\n",
       "      <td>Nederlands</td>\n",
       "      <td>dutch</td>\n",
       "      <td>Yes</td>\n",
       "      <td>1-11-2022 00:00</td>\n",
       "      <td>87.0</td>\n",
       "      <td>7.0</td>\n",
       "      <td>Yes</td>\n",
       "    </tr>\n",
       "    <tr>\n",
       "      <th>1</th>\n",
       "      <td>BRSBY</td>\n",
       "      <td>Utrecht</td>\n",
       "      <td>1</td>\n",
       "      <td>4A</td>\n",
       "      <td>4</td>\n",
       "      <td>Girl</td>\n",
       "      <td>Utrecht</td>\n",
       "      <td>Utrecht</td>\n",
       "      <td>Amersfoort</td>\n",
       "      <td>Amersfoort</td>\n",
       "      <td>Nederlands</td>\n",
       "      <td>dutch</td>\n",
       "      <td>No</td>\n",
       "      <td>1-11-2022 00:00</td>\n",
       "      <td>NaN</td>\n",
       "      <td>NaN</td>\n",
       "      <td>Yes</td>\n",
       "    </tr>\n",
       "    <tr>\n",
       "      <th>2</th>\n",
       "      <td>2W45J</td>\n",
       "      <td>Utrecht</td>\n",
       "      <td>1</td>\n",
       "      <td>4A</td>\n",
       "      <td>4</td>\n",
       "      <td>Boy</td>\n",
       "      <td>Utrecht</td>\n",
       "      <td>Utrecht</td>\n",
       "      <td>Woerden</td>\n",
       "      <td>Woerden</td>\n",
       "      <td>Nederlands; Armeens</td>\n",
       "      <td>alsodutch</td>\n",
       "      <td>No</td>\n",
       "      <td>1-11-2022 00:00</td>\n",
       "      <td>84.0</td>\n",
       "      <td>7.0</td>\n",
       "      <td>Yes</td>\n",
       "    </tr>\n",
       "    <tr>\n",
       "      <th>3</th>\n",
       "      <td>5HMXC</td>\n",
       "      <td>Utrecht</td>\n",
       "      <td>1</td>\n",
       "      <td>4A</td>\n",
       "      <td>4</td>\n",
       "      <td>Boy</td>\n",
       "      <td>Utrecht</td>\n",
       "      <td>Utrecht</td>\n",
       "      <td>NaN</td>\n",
       "      <td>NaN</td>\n",
       "      <td>Nederlands</td>\n",
       "      <td>dutch</td>\n",
       "      <td>No</td>\n",
       "      <td>1-11-2022 00:00</td>\n",
       "      <td>NaN</td>\n",
       "      <td>NaN</td>\n",
       "      <td>Yes</td>\n",
       "    </tr>\n",
       "    <tr>\n",
       "      <th>4</th>\n",
       "      <td>NS3TP</td>\n",
       "      <td>Utrecht</td>\n",
       "      <td>1</td>\n",
       "      <td>4A</td>\n",
       "      <td>4</td>\n",
       "      <td>Girl</td>\n",
       "      <td>Utrecht</td>\n",
       "      <td>Utrecht</td>\n",
       "      <td>Amersfoort</td>\n",
       "      <td>Amersfoort</td>\n",
       "      <td>Nederlands</td>\n",
       "      <td>dutch</td>\n",
       "      <td>No</td>\n",
       "      <td>1-11-2022 00:00</td>\n",
       "      <td>NaN</td>\n",
       "      <td>NaN</td>\n",
       "      <td>Yes</td>\n",
       "    </tr>\n",
       "  </tbody>\n",
       "</table>\n",
       "</div>"
      ],
      "text/plain": [
       "    Code School_Province  School Class  Class_Categorical Gender  \\\n",
       "0  WHHXX         Utrecht       1    4B                  4    Boy   \n",
       "1  BRSBY         Utrecht       1    4A                  4   Girl   \n",
       "2  2W45J         Utrecht       1    4A                  4    Boy   \n",
       "3  5HMXC         Utrecht       1    4A                  4    Boy   \n",
       "4  NS3TP         Utrecht       1    4A                  4   Girl   \n",
       "\n",
       "  Birth_Province Birth_Province_Categorical Birth_Place_Categorical  \\\n",
       "0        Utrecht                    Utrecht              Amersfoort   \n",
       "1        Utrecht                    Utrecht              Amersfoort   \n",
       "2        Utrecht                    Utrecht                 Woerden   \n",
       "3        Utrecht                    Utrecht                     NaN   \n",
       "4        Utrecht                    Utrecht              Amersfoort   \n",
       "\n",
       "  Birth_Place_Categorical2        Language_Home Language_Home_Categorical  \\\n",
       "0               Amersfoort           Nederlands                     dutch   \n",
       "1               Amersfoort           Nederlands                     dutch   \n",
       "2                  Woerden  Nederlands; Armeens                 alsodutch   \n",
       "3                      NaN           Nederlands                     dutch   \n",
       "4               Amersfoort           Nederlands                     dutch   \n",
       "\n",
       "  Expected_Dyslexia   Date_collected  Age_Months  Age_Years Task_Completed  \n",
       "0               Yes  1-11-2022 00:00        87.0        7.0            Yes  \n",
       "1                No  1-11-2022 00:00         NaN        NaN            Yes  \n",
       "2                No  1-11-2022 00:00        84.0        7.0            Yes  \n",
       "3                No  1-11-2022 00:00         NaN        NaN            Yes  \n",
       "4                No  1-11-2022 00:00         NaN        NaN            Yes  "
      ]
     },
     "execution_count": 30,
     "metadata": {},
     "output_type": "execute_result"
    }
   ],
   "source": [
    "# Read metadata of all signed-up participants\n",
    "r1_metadata = pd.read_csv('/vol/tensusers2/wharmsen/SERDA/round1/Personal_Data_v2.csv', sep=',')\n",
    "\n",
    "# Select metadata of participants that in the end participated in the study]\n",
    "r1_metadata = r1_metadata[r1_metadata['Task_Completed'] == 'Yes']\n",
    "\n",
    "assert len(r1_metadata) == 197, \"Something not right\"\n",
    "\n",
    "r1_metadata.head()"
   ]
  },
  {
   "cell_type": "code",
   "execution_count": 31,
   "metadata": {},
   "outputs": [],
   "source": [
    "r1_metadata.to_csv('/vol/tensusers2/wharmsen/SERDA/round1/Personal_Data_197selection.csv', sep=',')"
   ]
  },
  {
   "cell_type": "code",
   "execution_count": 32,
   "metadata": {},
   "outputs": [
    {
     "data": {
      "text/plain": [
       "True"
      ]
     },
     "execution_count": 32,
     "metadata": {},
     "output_type": "execute_result"
    }
   ],
   "source": [
    "np.isnan(r1_metadata.loc[1, 'Age_Months'])"
   ]
  },
  {
   "cell_type": "code",
   "execution_count": null,
   "metadata": {},
   "outputs": [],
   "source": [
    "# Select validation set\n",
    "\n",
    "# group1 = 5 boys from fourth grade, each from a different school (4 only dutch, 1 also/no dutch)\n",
    "# group2 = 5 boys from fifth grade, each from a different school (4 only dutch, 1 also/no dutch)\n",
    "# group3 = 5 girls from fifth grade, each from a different school (4 only dutch, 1 also/no dutch)\n",
    "# group4 = 5 girls from fifth grade, each from a different school (4 only dutch, 1 also/no dutch)"
   ]
  },
  {
   "cell_type": "code",
   "execution_count": 51,
   "metadata": {},
   "outputs": [
    {
     "data": {
      "text/plain": [
       "[1, 5, 4, 3]"
      ]
     },
     "execution_count": 51,
     "metadata": {},
     "output_type": "execute_result"
    }
   ],
   "source": [
    "import random\n",
    "from random import sample\n",
    "\n",
    "# Boy, 4th grade, dutch\n",
    "group1a = r1_metadata[(r1_metadata['Gender'] == 'Boy') &  (r1_metadata['Class_Categorical'] == 4) & (r1_metadata['Language_Home_Categorical'] == 'dutch')]\n",
    "\n",
    "# Generate 4 random schoolIDs\n",
    "randomSchoolIDs = random.sample(range(1,8), 4)\n",
    "\n",
    "# Select one student for each schoolID\n",
    "for randomSchoolID in randomSchoolIDs:\n",
    "    speakerSample = group1a[group1a['School']==randomSchoolID]\n",
    "    random.sample(list(speakerSample.index), 1)"
   ]
  },
  {
   "cell_type": "code",
   "execution_count": 33,
   "metadata": {},
   "outputs": [],
   "source": [
    "def getUniqueValues(pdSeries):\n",
    "    notNullValues = [x for x in pdSeries if pd.notnull(x) ]\n",
    "    uniqueValues = list(set(notNullValues))\n",
    "    return str(len(uniqueValues)), uniqueValues\n",
    "\n",
    "def getNotMissingValues(pdSeries):\n",
    "    return [pd.notnull(x) for x in pdSeries].count(True)\n",
    "\n",
    "def getNrOfMissingValues(pdSeries):\n",
    "    return [pd.notnull(x) for x in pdSeries].count(False)\n",
    "    "
   ]
  },
  {
   "cell_type": "code",
   "execution_count": 34,
   "metadata": {},
   "outputs": [
    {
     "name": "stdout",
     "output_type": "stream",
     "text": [
      "Code & 197 & 197 & ['QPPY5', 'GFQVX', 'VVJRW', 'TYV5D', 'HT3HW', 'R53TR', 'XJH3H', 'ZMQG2', 'XMNKP', 'GFPYG', 'TCRRQ', 'ZQV5W', 'DNGRJ', 'WHHXX', 'NBCKJ', 'YHTKC', 'SGX5X', 'QNWKW', 'ZPGND', '2RRDV', 'SMVCS', 'MPPFZ', 'M2KZF', 'WCHGN', 'NN5TJ', '5XVWF', 'F4NQX', 'GNDNW', 'JVZYJ', 'BNXP5', '54TTZ', '4MD4Y', '5B2ZB', 'TZTQK', 'P5ZTP', 'CNCNC', 'KKKJP', 'XSWMB', 'GPDTS', 'GTQ2M', 'DMWJG', 'W4K5X', 'QNHZG', 'XVF23', 'GDPCH', 'DXBKX', 'BCJPZ', 'CSRJW', 'KRBXR', 'BW5HH', 'YHSSX', 'QR4MQ', 'BBKVQ', 'FRXZG', 'GBHNS', '5NFJG', 'FKK54', 'JFMWH', '5M3XR', '33JNC', 'JDNHX', 'QYBYP', 'CHHGP', 'QTVMH', 'QZSCD', 'GQZ4Z', 'BYRP5', 'JTWQH', 'GN5JG', 'RB4VY', 'VJCMQ', 'T3NSR', 'YVBRP', 'QBJFC', 'ZDPNZ', 'CTDKM', 'YQFGF', 'WWHRQ', 'RFBHH', 'JMKY3', 'JSCZB', 'XMM5H', 'BQCK2', 'XVCJB', 'CSNVV', 'GXMGW', 'NSSJN', 'DW3NF', 'DQNKY', '4SJSC', 'TQMGF', '2RWNQ', 'NBXPM', 'FWGHG', '5C2HJ', 'YWPWY', 'SJ5CF', 'FQWJQ', 'XFP2N', 'FZQCX', 'DFVCK', 'YJ3PN', 'NPTRF', 'YKKTR', 'HKT5V', 'FTGHB', 'DWNWQ', 'PVNW4', 'PS2R2', 'ZNNGY', 'TSSRS', '2W45J', 'MCDBK', 'JCN5J', 'PVKS2', 'VPCCK', '3PBFH', 'WRXMR', 'Y5KKR', 'P5DXM', 'MHTZG', 'FPDWY', 'DVNPZ', 'JTKFV', '5NMJH', 'NBGBB', '3MGQC', 'RZ2Q2', 'XMK5S', 'PCPRD', 'XXVSF', 'FQY3S', 'RTMGT', 'HVXJ4', 'BVXRK', 'H3MPB', 'JTCV3', '5PTZK', 'SHSTV', 'TXYMH', 'CJPVZ', 'YKGD3', 'JFTD5', 'XNXBH', 'CWMS3', 'XBD5S', 'BNQQ5', 'TZDKZ', 'QXYDH', 'Z2BYD', 'VMKMK', 'CJVCD', 'VNFYJ', 'CPSGN', 'RMGB2', 'MC2HC', 'VM4DX', 'QRJKJ', 'WSCSG', 'TM2WG', 'PVTGG', 'KCPXP', 'C2WKS', 'S2PPT', 'NS3TP', 'BCKTK', 'HBTWG', 'BNTNR', '5HVDT', 'GWBXN', '4QX3R', 'NRNRF', 'S45GK', '5DT2P', 'YMRDV', 'Q4NNP', '4KCW4', 'H2S4W', 'NBPKR', 'JBQTR', 'B4HNC', 'GVGGB', 'BRSBY', 'CQNJN', 'MDRJV', '5HMXC', 'TJWQ3', 'QTB2S', '4JDM4', 'PYK3C', 'BHB52', 'KTGVM', '5FHDQ', 'TCHJY', 'ZRYSY', 'MGWBQ', 'CCXBB'] \\\\\n",
      "School_Province & 197 & 5 & ['Gelderland', 'Noord-Holland', 'Noord-Brabant', 'Utrecht', 'Zuid-Holland'] \\\\\n",
      "School & 197 & 7 & [1, 2, 3, 4, 5, 6, 7] \\\\\n",
      "Class & 197 & 6 & ['5B', '4B', '5', '4', '5A', '4A'] \\\\\n",
      "Class_Categorical & 197 & 2 & [4, 5] \\\\\n",
      "Gender & 197 & 2 & ['Girl', 'Boy'] \\\\\n",
      "Birth_Province & 197 & 17 & ['Gelderland', 'Limburg', 'Noord-Holland', 'Syrië', 'Noord-Brabant', 'Irak', 'Overijssel', 'Utrecht', 'Curacao', 'Zuid-Holland', 'Aruba', 'Friesland', 'Zuid-Afrika', 'Duitsland', 'Brazilie', 'Polen', 'Flevoland'] \\\\\n",
      "Birth_Province_Categorical & 197 & 10 & ['Anders', 'Gelderland', 'Limburg', 'Noord-Holland', 'Noord-Brabant', 'Overijssel', 'Utrecht', 'Zuid-Holland', 'Friesland', 'Flevoland'] \\\\\n",
      "Birth_Place_Categorical & 169 & 28 & ['Tollebeek', 'Venlo', 'Amersfoort', 'Irak', 'Hengelo', 'Utrecht', 'Zutphen', 'Dordrecht', 'Woerden', 'Delft', 'Den Bosch', 'Sneek', 'Amsterdam', 'Blaricum', 'Duitsland', 'Curacao', 'Polen', 'Beek (berg en dal)', 'Lelystad', 'Schiedam', 'Nederhorst den Berg', 'Rotterdam', 'Urk', 'Arnhem', 'Nijmegen', 'Anders: Syrië', 'Zwolle', 'Leiden'] \\\\\n",
      "Birth_Place_Categorical2 & 169 & 24 & ['Tollebeek', 'Venlo', 'Amersfoort', 'Hengelo', 'Utrecht', 'Zutphen', 'Dordrecht', 'Woerden', 'Anders', 'Delft', 'Den Bosch', 'Sneek', 'Amsterdam', 'Blaricum', 'Beek (berg en dal)', 'Lelystad', 'Schiedam', 'Nederhorst den Berg', 'Rotterdam', 'Urk', 'Arnhem', 'Nijmegen', 'Zwolle', 'Leiden'] \\\\\n",
      "Language_Home & 197 & 28 & ['Nederlands; Chinees', 'Nederlands; Armeens', 'Afgaans', 'Nederlands; Portugees', 'Papiaments', 'Nederlands; Arabisch', 'Turks', 'Nederlands; Koerdisch', 'Nederlands; Farsi/Perzisch', 'Nederlands; Pools', 'Nederlands; Fins; Engels', 'Portugees', 'Nederlands; Papiaments', 'Nederlands; Perzisch', 'Nederlands; Papiaments; Italiaans', 'Pools', 'Zuid-Afrikaans', 'Nederlands; Tsjechisch; Engels', 'Nederlands; Duits', 'Engels; Pools', 'Nederlands; Arabisch; Berbers', 'Nederlands; Limburgs', 'Nederlands', 'Nederlands; Urks', 'Arabisch', 'Nederlands; Turks', 'Nederlands; Russisch; Duits', 'Nederlands; Jolla'] \\\\\n",
      "Language_Home_Categorical & 197 & 3 & ['dutch', 'alsodutch', 'notdutch'] \\\\\n",
      "Expected_Dyslexia & 187 & 2 & ['Yes', 'No'] \\\\\n",
      "Date_collected & 197 & 2 & ['1-11-2022 00:00', '1-1-2023 00:00'] \\\\\n",
      "Age_Months & 145 & 33 & [83.0, 84.0, 85.0, 86.0, 87.0, 88.0, 89.0, 90.0, 91.0, 92.0, 93.0, 94.0, 95.0, 96.0, 97.0, 98.0, 99.0, 100.0, 101.0, 102.0, 103.0, 104.0, 105.0, 106.0, 107.0, 108.0, 109.0, 110.0, 111.0, 112.0, 114.0, 116.0, 120.0] \\\\\n",
      "Age_Years & 145 & 5 & [6.0, 7.0, 8.0, 9.0, 10.0] \\\\\n",
      "Task_Completed & 197 & 1 & ['Yes'] \\\\\n"
     ]
    }
   ],
   "source": [
    "# Print Latex Table\n",
    "for header in r1_metadata.columns:\n",
    "    print(header,'&', getNotMissingValues(r1_metadata[header]), '&',getUniqueValues(r1_metadata[header])[0] , '&', getUniqueValues(r1_metadata[header])[1], '\\\\\\\\'  )\n",
    "    "
   ]
  },
  {
   "cell_type": "code",
   "execution_count": 35,
   "metadata": {},
   "outputs": [
    {
     "data": {
      "text/plain": [
       "School_Province\n",
       "Gelderland       49\n",
       "Utrecht          42\n",
       "Noord-Brabant    41\n",
       "Noord-Holland    33\n",
       "Zuid-Holland     32\n",
       "Name: count, dtype: int64"
      ]
     },
     "execution_count": 35,
     "metadata": {},
     "output_type": "execute_result"
    }
   ],
   "source": [
    "r1_metadata['School_Province'].value_counts()"
   ]
  },
  {
   "cell_type": "markdown",
   "metadata": {},
   "source": [
    "- grade (groep 4 of 5)\n",
    "- gender (boy/girl)\n",
    "- home language (nederlands, nederlands en anders, anders)\n",
    "- birth province"
   ]
  },
  {
   "cell_type": "markdown",
   "metadata": {},
   "source": [
    "GENDER"
   ]
  },
  {
   "cell_type": "code",
   "execution_count": 7,
   "metadata": {},
   "outputs": [
    {
     "name": "stdout",
     "output_type": "stream",
     "text": [
      "Girl 95\n",
      "Boy 102\n"
     ]
    }
   ],
   "source": [
    "genderValues = ['Girl', 'Boy']\n",
    "\n",
    "for genderValue in genderValues:\n",
    "    print(genderValue, len(r1_metadata[r1_metadata['Gender']==genderValue]))\n",
    "\n",
    "assert 101+104==205, 'something is not right'"
   ]
  },
  {
   "cell_type": "markdown",
   "metadata": {},
   "source": [
    "CLASS"
   ]
  },
  {
   "cell_type": "code",
   "execution_count": 8,
   "metadata": {},
   "outputs": [
    {
     "name": "stdout",
     "output_type": "stream",
     "text": [
      "4 113\n",
      "5 84\n"
     ]
    }
   ],
   "source": [
    "classValues = ['4', '5']\n",
    "\n",
    "for classValue in classValues:\n",
    "    print(classValue, len(r1_metadata[r1_metadata['Class'].str.contains(classValue)]))\n",
    "assert 118+87==205, 'something is not right'"
   ]
  },
  {
   "cell_type": "code",
   "execution_count": 9,
   "metadata": {},
   "outputs": [],
   "source": [
    "grade4IDS = r1_metadata[r1_metadata['Class'].str.contains('4')]['Code']\n",
    "grade5IDS = r1_metadata[r1_metadata['Class'].str.contains('5')]['Code']"
   ]
  },
  {
   "cell_type": "markdown",
   "metadata": {},
   "source": [
    "DYSLEXIA"
   ]
  },
  {
   "cell_type": "code",
   "execution_count": 10,
   "metadata": {},
   "outputs": [
    {
     "name": "stdout",
     "output_type": "stream",
     "text": [
      "Yes 14\n",
      "No 173\n",
      "NaN 10\n"
     ]
    }
   ],
   "source": [
    "expectedDyslexiaValues = ['Yes', 'No', 'NaN']\n",
    "\n",
    "for expectedDyslexiaValue in expectedDyslexiaValues:\n",
    "    if(expectedDyslexiaValue == 'NaN'):\n",
    "        print(expectedDyslexiaValue, getNrOfMissingValues(r1_metadata['Expected_Dyslexia']))\n",
    "    else:\n",
    "        print(expectedDyslexiaValue, len(r1_metadata[r1_metadata['Expected_Dyslexia']==expectedDyslexiaValue]))\n",
    "\n",
    "assert 14+180+11==205, \"Something went wrong\""
   ]
  },
  {
   "cell_type": "code",
   "execution_count": 11,
   "metadata": {},
   "outputs": [
    {
     "name": "stdout",
     "output_type": "stream",
     "text": [
      "These students have expected dyslexia:\n",
      "['WHHXX', 'H2S4W', 'MC2HC', 'RB4VY', 'CJVCD', 'CSNVV', '5HVDT', '5PTZK', 'P5ZTP', 'YQFGF', 'NRNRF', 'JBQTR', '4MD4Y', 'B4HNC']\n"
     ]
    }
   ],
   "source": [
    "print(\"These students have expected dyslexia:\")\n",
    "print((list(r1_metadata[r1_metadata['Expected_Dyslexia'] == 'Yes']['Code'])))"
   ]
  },
  {
   "cell_type": "markdown",
   "metadata": {},
   "source": [
    "TASK COMPLETED"
   ]
  },
  {
   "cell_type": "code",
   "execution_count": 12,
   "metadata": {},
   "outputs": [
    {
     "name": "stdout",
     "output_type": "stream",
     "text": [
      "These students did not finish all tasks:\n"
     ]
    },
    {
     "data": {
      "text/plain": [
       "[]"
      ]
     },
     "execution_count": 12,
     "metadata": {},
     "output_type": "execute_result"
    }
   ],
   "source": [
    "print(\"These students did not finish all tasks:\")\n",
    "list(r1_metadata[r1_metadata['Task_Completed'] != 'Yes']['Code'])"
   ]
  },
  {
   "cell_type": "code",
   "execution_count": 13,
   "metadata": {},
   "outputs": [
    {
     "data": {
      "text/html": [
       "<div>\n",
       "<style scoped>\n",
       "    .dataframe tbody tr th:only-of-type {\n",
       "        vertical-align: middle;\n",
       "    }\n",
       "\n",
       "    .dataframe tbody tr th {\n",
       "        vertical-align: top;\n",
       "    }\n",
       "\n",
       "    .dataframe thead th {\n",
       "        text-align: right;\n",
       "    }\n",
       "</style>\n",
       "<table border=\"1\" class=\"dataframe\">\n",
       "  <thead>\n",
       "    <tr style=\"text-align: right;\">\n",
       "      <th></th>\n",
       "      <th>Code</th>\n",
       "      <th>School</th>\n",
       "      <th>Class</th>\n",
       "      <th>Gender</th>\n",
       "      <th>Birth_Province</th>\n",
       "      <th>Birth_place</th>\n",
       "      <th>Language_Homa</th>\n",
       "      <th>Expected_Dyslexia</th>\n",
       "      <th>Date_collected</th>\n",
       "      <th>Age_Months</th>\n",
       "      <th>Age_Years</th>\n",
       "      <th>Task_Completed</th>\n",
       "    </tr>\n",
       "  </thead>\n",
       "  <tbody>\n",
       "  </tbody>\n",
       "</table>\n",
       "</div>"
      ],
      "text/plain": [
       "Empty DataFrame\n",
       "Columns: [Code, School, Class, Gender, Birth_Province, Birth_place, Language_Homa, Expected_Dyslexia, Date_collected, Age_Months, Age_Years, Task_Completed]\n",
       "Index: []"
      ]
     },
     "execution_count": 13,
     "metadata": {},
     "output_type": "execute_result"
    }
   ],
   "source": [
    "r1_metadata[r1_metadata['Code'] == 'CSRJW']"
   ]
  },
  {
   "cell_type": "code",
   "execution_count": 14,
   "metadata": {},
   "outputs": [
    {
     "name": "stdout",
     "output_type": "stream",
     "text": [
      "197\n",
      "['WHHXX', 'BRSBY', '2W45J', '5HMXC', 'NS3TP', '5FHDQ', 'HT3HW', 'CJVPZ', 'TQMGF', '4SJSC', 'CSRWJ', 'H2S4W', 'MPPFZ', 'TM2WG', 'R53TR', 'SMVCS', 'MC2HC', 'QZSCD', 'VM4DX', 'FKK54', 'BVXRK', 'ZDPNZ', 'FTGHB', 'GTQ2M', 'JVZYJ', 'QBJFC', 'BNXP5', 'DW3NF', 'CWMS3', '5NMJH', 'NBXPM', 'WCHGN', 'NN5TJ', 'TZDKZ', 'DWNWQ', 'ZMQG2', '3MGQC', 'TSSRS', 'SJ5CF', 'RB4VY', 'WRXMR', 'YKKTR', 'YMRDV', 'JCN5J', 'NBCKJ', '5C2HJ', 'PS2R2', 'JTWQH', 'XVF23', '4JDM4', 'CJVCD', 'PYK3C', 'RFBHH', 'CTDKM', '4QX3R', 'C2WKS', 'JTCV3', 'XVCJB', 'Q4NNP', 'NBGBB', 'VMKMK', 'WSCSG', 'HVXJ4', 'F4NQX', 'GBHNS', 'MCDBK', 'TZTQK', 'YHTKC', 'BQCK2', '54TTZ', '5B2ZB', 'GWBXN', 'MGWBQ', 'GQZ4Z', 'VNFYJ', 'VJCMQ', 'MDRJV', 'XFP2N', 'T3NSR', 'XJH3H', 'CSNVV', 'BCKTK', 'M2KZF', 'DNGRJ', 'BCJPZ', 'XXVSF', 'TYV5D', 'BYRP5', '5XVWF', 'QYBYP', 'ZQV5W', 'DQNKY', 'PVNW4', 'TCHJY', 'DMWJG', 'PVKS2', '5HVDT', 'JFMWH', 'QRJKJ', 'DXBKX', 'CCXBB', '5M3XR', '5NFJG', 'JMKY3', 'YJ3PN', 'BNTNR', '33JNC', '4KCW4', 'GDPCH', 'WWHRQ', '5PTZK', 'S2PPT', 'JSCZB', 'HKT5V', '2RRDV', 'YWPWY', 'P5ZTP', 'GN5JG', 'CHHGP', 'XBD5S', 'DVNPZ', 'QNWKW', 'QTVMH', 'RZ2Q2', 'ZPGND', 'KTGVM', 'YQFGF', 'MHTZG', 'NRNRF', 'H3MPB', 'KKKJP', '2RWNQ', 'QR4MQ', 'JBQTR', 'BNQQ5', 'XMM5H', 'PVTGG', 'FQY3S', 'XNXBH', 'DFVCK', 'YHSSX', '4MD4Y', 'BBKVQ', 'BHB52', 'KCPXP', 'CPSGN', 'QXYDH', 'Z2BYD', 'B4HNC', 'GVGGB', 'NPTRF', 'YKGD3', 'SHSTV', 'VVJRW', 'TJWQ3', 'GFPYG', 'GXMGW', 'FZQCX', 'QTB2S', 'W4K5X', 'BW5HH', 'S45GK', 'XSWMB', 'TXYMH', 'VPCCK', 'GPDTS', 'FRXZG', 'FPDWY', 'RMGB2', 'TCRRQ', 'XMNKP', 'GFQVX', 'XMK5S', 'QNHZG', 'SGX5X', 'FWGHG', 'ZRYSY', 'NBPKR', 'YVBRP', 'ZNNGY', 'JDNHX', 'NSSJN', '5DT2P', 'P5DXM', 'HBTWG', 'JFTD5', 'GNDNW', 'FQWJQ', '3PBFH', 'CQNJN', 'KRBXR', 'PCPRD', 'JTKFV', 'Y5KKR', 'RTMGT', 'QPPY5', 'CNCNC']\n"
     ]
    }
   ],
   "source": [
    "completedStudents = list(r1_metadata[r1_metadata['Task_Completed'] == 'Yes']['Code'])\n",
    "print(len(set(completedStudents)))\n",
    "print(completedStudents)"
   ]
  },
  {
   "cell_type": "markdown",
   "metadata": {},
   "source": [
    "# AUDIO duration"
   ]
  },
  {
   "cell_type": "code",
   "execution_count": 1,
   "metadata": {},
   "outputs": [],
   "source": [
    "import librosa\n",
    "import glob"
   ]
  },
  {
   "cell_type": "code",
   "execution_count": 2,
   "metadata": {},
   "outputs": [],
   "source": [
    "def get_duration_librosa(file_path):\n",
    "   audio_data, sample_rate = librosa.load(file_path)\n",
    "   duration = librosa.get_duration(y=audio_data, sr=sample_rate)\n",
    "   return duration"
   ]
  },
  {
   "cell_type": "code",
   "execution_count": 3,
   "metadata": {},
   "outputs": [
    {
     "ename": "NameError",
     "evalue": "name 'pd' is not defined",
     "output_type": "error",
     "traceback": [
      "\u001b[0;31m---------------------------------------------------------------------------\u001b[0m",
      "\u001b[0;31mNameError\u001b[0m                                 Traceback (most recent call last)",
      "\u001b[1;32m/vol/tensusers5/wharmsen/ASTLA/astla-round2/create-corpus-description.ipynb Cell 27\u001b[0m line \u001b[0;36m7\n\u001b[1;32m      <a href='vscode-notebook-cell://ssh-remote%2Bfeatherweight.science.ru.nl/vol/tensusers5/wharmsen/ASTLA/astla-round2/create-corpus-description.ipynb#X35sdnNjb2RlLXJlbW90ZQ%3D%3D?line=4'>5</a>\u001b[0m audio_files \u001b[39m=\u001b[39m glob\u001b[39m.\u001b[39mglob(\u001b[39m'\u001b[39m\u001b[39m/vol/tensusers2/wharmsen/SERDA/round1/audio/stories/*-\u001b[39m\u001b[39m'\u001b[39m \u001b[39m+\u001b[39m task \u001b[39m+\u001b[39m \u001b[39m'\u001b[39m\u001b[39m-*.wav\u001b[39m\u001b[39m'\u001b[39m)\n\u001b[1;32m      <a href='vscode-notebook-cell://ssh-remote%2Bfeatherweight.science.ru.nl/vol/tensusers5/wharmsen/ASTLA/astla-round2/create-corpus-description.ipynb#X35sdnNjb2RlLXJlbW90ZQ%3D%3D?line=5'>6</a>\u001b[0m durationList \u001b[39m=\u001b[39m [\u001b[39mint\u001b[39m(get_duration_librosa(audio_file)) \u001b[39mfor\u001b[39;00m audio_file \u001b[39min\u001b[39;00m audio_files]\n\u001b[0;32m----> <a href='vscode-notebook-cell://ssh-remote%2Bfeatherweight.science.ru.nl/vol/tensusers5/wharmsen/ASTLA/astla-round2/create-corpus-description.ipynb#X35sdnNjb2RlLXJlbW90ZQ%3D%3D?line=6'>7</a>\u001b[0m durationStats\u001b[39m.\u001b[39mappend(pd\u001b[39m.\u001b[39mSeries(durationList)\u001b[39m.\u001b[39mdescribe())\n\u001b[1;32m      <a href='vscode-notebook-cell://ssh-remote%2Bfeatherweight.science.ru.nl/vol/tensusers5/wharmsen/ASTLA/astla-round2/create-corpus-description.ipynb#X35sdnNjb2RlLXJlbW90ZQ%3D%3D?line=8'>9</a>\u001b[0m \u001b[39m# According to metadata, eight students did not finish all tasks. Let's check if there is audio of these students in the dataset.\u001b[39;00m\n\u001b[1;32m     <a href='vscode-notebook-cell://ssh-remote%2Bfeatherweight.science.ru.nl/vol/tensusers5/wharmsen/ASTLA/astla-round2/create-corpus-description.ipynb#X35sdnNjb2RlLXJlbW90ZQ%3D%3D?line=9'>10</a>\u001b[0m \u001b[39m# notCompletedStudents = ['WRTX4', 'PGRQC', 'ZRKMN', '3DZKT', '2HBRY', 'GMNSD', 'YWV3W', 'YJDXD']\u001b[39;00m\n\u001b[1;32m     <a href='vscode-notebook-cell://ssh-remote%2Bfeatherweight.science.ru.nl/vol/tensusers5/wharmsen/ASTLA/astla-round2/create-corpus-description.ipynb#X35sdnNjb2RlLXJlbW90ZQ%3D%3D?line=10'>11</a>\u001b[0m \u001b[39m# foundAudioOfNotComplStudents = [x for x in audio_files if os.path.basename(x).split('-')[0] in notCompletedStudents]\u001b[39;00m\n\u001b[0;32m   (...)\u001b[0m\n\u001b[1;32m     <a href='vscode-notebook-cell://ssh-remote%2Bfeatherweight.science.ru.nl/vol/tensusers5/wharmsen/ASTLA/astla-round2/create-corpus-description.ipynb#X35sdnNjb2RlLXJlbW90ZQ%3D%3D?line=14'>15</a>\u001b[0m \u001b[39m# print(len(completedStudents), len(audioStudents))\u001b[39;00m\n\u001b[1;32m     <a href='vscode-notebook-cell://ssh-remote%2Bfeatherweight.science.ru.nl/vol/tensusers5/wharmsen/ASTLA/astla-round2/create-corpus-description.ipynb#X35sdnNjb2RlLXJlbW90ZQ%3D%3D?line=15'>16</a>\u001b[0m \u001b[39m# print(sorted(set(completedStudents) - set(audioStudents)))\u001b[39;00m\n",
      "\u001b[0;31mNameError\u001b[0m: name 'pd' is not defined"
     ]
    }
   ],
   "source": [
    "storyTasks = ['story_1', 'story_2', 'story_3']\n",
    "\n",
    "durationStats = []\n",
    "for task in storyTasks:\n",
    "    audio_files = glob.glob('/vol/tensusers2/wharmsen/SERDA/round1/audio/stories/*-' + task + '-*.wav')\n",
    "    durationList = [int(get_duration_librosa(audio_file)) for audio_file in audio_files]\n",
    "    durationStats.append(pd.Series(durationList).describe())\n",
    "\n",
    "    # According to metadata, eight students did not finish all tasks. Let's check if there is audio of these students in the dataset.\n",
    "    # notCompletedStudents = ['WRTX4', 'PGRQC', 'ZRKMN', '3DZKT', '2HBRY', 'GMNSD', 'YWV3W', 'YJDXD']\n",
    "    # foundAudioOfNotComplStudents = [x for x in audio_files if os.path.basename(x).split('-')[0] in notCompletedStudents]\n",
    "    # print(foundAudioOfNotComplStudents)\n",
    "\n",
    "    # audioStudents = [os.path.basename(x).split('-')[0] for x in audio_files]\n",
    "    # print(len(completedStudents), len(audioStudents))\n",
    "    # print(sorted(set(completedStudents) - set(audioStudents)))\n"
   ]
  },
  {
   "cell_type": "code",
   "execution_count": null,
   "metadata": {},
   "outputs": [
    {
     "data": {
      "text/html": [
       "<div>\n",
       "<style scoped>\n",
       "    .dataframe tbody tr th:only-of-type {\n",
       "        vertical-align: middle;\n",
       "    }\n",
       "\n",
       "    .dataframe tbody tr th {\n",
       "        vertical-align: top;\n",
       "    }\n",
       "\n",
       "    .dataframe thead th {\n",
       "        text-align: right;\n",
       "    }\n",
       "</style>\n",
       "<table border=\"1\" class=\"dataframe\">\n",
       "  <thead>\n",
       "    <tr style=\"text-align: right;\">\n",
       "      <th></th>\n",
       "      <th>count</th>\n",
       "      <th>mean</th>\n",
       "      <th>std</th>\n",
       "      <th>min</th>\n",
       "      <th>25%</th>\n",
       "      <th>50%</th>\n",
       "      <th>75%</th>\n",
       "      <th>max</th>\n",
       "    </tr>\n",
       "    <tr>\n",
       "      <th>task</th>\n",
       "      <th></th>\n",
       "      <th></th>\n",
       "      <th></th>\n",
       "      <th></th>\n",
       "      <th></th>\n",
       "      <th></th>\n",
       "      <th></th>\n",
       "      <th></th>\n",
       "    </tr>\n",
       "  </thead>\n",
       "  <tbody>\n",
       "    <tr>\n",
       "      <th>story_1</th>\n",
       "      <td>194.0</td>\n",
       "      <td>121.670103</td>\n",
       "      <td>36.808487</td>\n",
       "      <td>59.0</td>\n",
       "      <td>92.25</td>\n",
       "      <td>112.5</td>\n",
       "      <td>149.75</td>\n",
       "      <td>184.0</td>\n",
       "    </tr>\n",
       "    <tr>\n",
       "      <th>story_2</th>\n",
       "      <td>195.0</td>\n",
       "      <td>120.092308</td>\n",
       "      <td>35.695038</td>\n",
       "      <td>64.0</td>\n",
       "      <td>90.50</td>\n",
       "      <td>113.0</td>\n",
       "      <td>145.50</td>\n",
       "      <td>182.0</td>\n",
       "    </tr>\n",
       "    <tr>\n",
       "      <th>story_3</th>\n",
       "      <td>195.0</td>\n",
       "      <td>126.097436</td>\n",
       "      <td>36.653655</td>\n",
       "      <td>56.0</td>\n",
       "      <td>95.00</td>\n",
       "      <td>120.0</td>\n",
       "      <td>157.50</td>\n",
       "      <td>184.0</td>\n",
       "    </tr>\n",
       "  </tbody>\n",
       "</table>\n",
       "</div>"
      ],
      "text/plain": [
       "         count        mean        std   min    25%    50%     75%    max\n",
       "task                                                                    \n",
       "story_1  194.0  121.670103  36.808487  59.0  92.25  112.5  149.75  184.0\n",
       "story_2  195.0  120.092308  35.695038  64.0  90.50  113.0  145.50  182.0\n",
       "story_3  195.0  126.097436  36.653655  56.0  95.00  120.0  157.50  184.0"
      ]
     },
     "execution_count": 26,
     "metadata": {},
     "output_type": "execute_result"
    }
   ],
   "source": [
    "storyStatsDF = pd.DataFrame(durationStats)\n",
    "storyStatsDF['task'] = storyTasks\n",
    "storyStatsDF = storyStatsDF.set_index('task')\n",
    "storyStatsDF"
   ]
  },
  {
   "cell_type": "code",
   "execution_count": null,
   "metadata": {},
   "outputs": [
    {
     "name": "stdout",
     "output_type": "stream",
     "text": [
      "[]\n",
      "[]\n",
      "[]\n"
     ]
    }
   ],
   "source": [
    "wordTasks = ['words_1', 'words_2', 'words_3']\n",
    "\n",
    "wordDurationStats = []\n",
    "for task in wordTasks:\n",
    "    audio_files = glob.glob('/vol/tensusers2/wharmsen/SERDA/round1/audio/words/full/*-' + task + '-*.wav')\n",
    "    durationList = [int(get_duration_librosa(audio_file)) for audio_file in audio_files]\n",
    "    wordDurationStats.append(pd.Series(durationList).describe())\n",
    "\n",
    "    # According to metadata, eight students did not finish all tasks. Let's check if there is audio of these students in the dataset.\n",
    "    notCompletedStudents = ['WRTX4', 'PGRQC', 'ZRKMN', '3DZKT', '2HBRY', 'GMNSD', 'YWV3W', 'YJDXD']\n",
    "    foundAudioOfNotComplStudents = [x for x in audio_files if os.path.basename(x).split('-')[0] in notCompletedStudents]\n",
    "    print(foundAudioOfNotComplStudents)\n",
    "\n",
    "    # # Code to detect typo\n",
    "    # audioStudents = [os.path.basename(x).split('-')[0] for x in audio_files]\n",
    "    # print(len(completedStudents), len(audioStudents))\n",
    "    # print(sorted(set(completedStudents) - set(audioStudents)))\n",
    "    # print(sorted(set(audioStudents) - set(completedStudents)))"
   ]
  },
  {
   "cell_type": "code",
   "execution_count": null,
   "metadata": {},
   "outputs": [
    {
     "data": {
      "text/html": [
       "<div>\n",
       "<style scoped>\n",
       "    .dataframe tbody tr th:only-of-type {\n",
       "        vertical-align: middle;\n",
       "    }\n",
       "\n",
       "    .dataframe tbody tr th {\n",
       "        vertical-align: top;\n",
       "    }\n",
       "\n",
       "    .dataframe thead th {\n",
       "        text-align: right;\n",
       "    }\n",
       "</style>\n",
       "<table border=\"1\" class=\"dataframe\">\n",
       "  <thead>\n",
       "    <tr style=\"text-align: right;\">\n",
       "      <th></th>\n",
       "      <th>count</th>\n",
       "      <th>mean</th>\n",
       "      <th>std</th>\n",
       "      <th>min</th>\n",
       "      <th>25%</th>\n",
       "      <th>50%</th>\n",
       "      <th>75%</th>\n",
       "      <th>max</th>\n",
       "    </tr>\n",
       "    <tr>\n",
       "      <th>task</th>\n",
       "      <th></th>\n",
       "      <th></th>\n",
       "      <th></th>\n",
       "      <th></th>\n",
       "      <th></th>\n",
       "      <th></th>\n",
       "      <th></th>\n",
       "      <th></th>\n",
       "    </tr>\n",
       "  </thead>\n",
       "  <tbody>\n",
       "    <tr>\n",
       "      <th>words_1</th>\n",
       "      <td>197.0</td>\n",
       "      <td>194.852792</td>\n",
       "      <td>55.994658</td>\n",
       "      <td>87.0</td>\n",
       "      <td>158.0</td>\n",
       "      <td>183.0</td>\n",
       "      <td>213.0</td>\n",
       "      <td>499.0</td>\n",
       "    </tr>\n",
       "    <tr>\n",
       "      <th>words_2</th>\n",
       "      <td>197.0</td>\n",
       "      <td>203.908629</td>\n",
       "      <td>60.127346</td>\n",
       "      <td>115.0</td>\n",
       "      <td>163.0</td>\n",
       "      <td>192.0</td>\n",
       "      <td>224.0</td>\n",
       "      <td>503.0</td>\n",
       "    </tr>\n",
       "    <tr>\n",
       "      <th>words_3</th>\n",
       "      <td>197.0</td>\n",
       "      <td>220.720812</td>\n",
       "      <td>67.111453</td>\n",
       "      <td>92.0</td>\n",
       "      <td>171.0</td>\n",
       "      <td>204.0</td>\n",
       "      <td>254.0</td>\n",
       "      <td>429.0</td>\n",
       "    </tr>\n",
       "  </tbody>\n",
       "</table>\n",
       "</div>"
      ],
      "text/plain": [
       "         count        mean        std    min    25%    50%    75%    max\n",
       "task                                                                    \n",
       "words_1  197.0  194.852792  55.994658   87.0  158.0  183.0  213.0  499.0\n",
       "words_2  197.0  203.908629  60.127346  115.0  163.0  192.0  224.0  503.0\n",
       "words_3  197.0  220.720812  67.111453   92.0  171.0  204.0  254.0  429.0"
      ]
     },
     "execution_count": 24,
     "metadata": {},
     "output_type": "execute_result"
    }
   ],
   "source": [
    "wordStatsDF = pd.DataFrame(wordDurationStats)\n",
    "wordStatsDF['task'] = wordTasks\n",
    "wordStatsDF = wordStatsDF.set_index('task')\n",
    "wordStatsDF"
   ]
  },
  {
   "cell_type": "code",
   "execution_count": null,
   "metadata": {},
   "outputs": [],
   "source": []
  },
  {
   "cell_type": "code",
   "execution_count": null,
   "metadata": {},
   "outputs": [],
   "source": []
  },
  {
   "cell_type": "code",
   "execution_count": null,
   "metadata": {},
   "outputs": [],
   "source": []
  }
 ],
 "metadata": {
  "kernelspec": {
   "display_name": "virenv-wav2vec2",
   "language": "python",
   "name": "python3"
  },
  "language_info": {
   "codemirror_mode": {
    "name": "ipython",
    "version": 3
   },
   "file_extension": ".py",
   "mimetype": "text/x-python",
   "name": "python",
   "nbconvert_exporter": "python",
   "pygments_lexer": "ipython3",
   "version": "3.10.12"
  }
 },
 "nbformat": 4,
 "nbformat_minor": 2
}
