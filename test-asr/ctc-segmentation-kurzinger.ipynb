{
 "cells": [
  {
   "cell_type": "code",
   "execution_count": 6,
   "metadata": {},
   "outputs": [
    {
     "name": "stderr",
     "output_type": "stream",
     "text": [
      "WARNING:speechbrain.alignment.ctc_segmentation:The dictionary has 5000 tokens with a max length of 15. This may lead to low alignment performance and low accuracy.\n"
     ]
    }
   ],
   "source": [
    "# pip install ctc-segmentation\n",
    "# pip install speechbrain\n",
    "\n",
    "from speechbrain.pretrained import EncoderDecoderASR\n",
    "from speechbrain.alignment.ctc_segmentation import CTCSegmentation\n",
    "\n",
    "# Requires a model with CTC output\n",
    "asr_model = EncoderDecoderASR.from_hparams(source=\"speechbrain/asr-transformer-transformerlm-librispeech\")\n",
    "aligner = CTCSegmentation(asr_model, kaldi_style_text=False)\n"
   ]
  },
  {
   "cell_type": "code",
   "execution_count": 7,
   "metadata": {},
   "outputs": [
    {
     "ename": "RuntimeError",
     "evalue": "The size of tensor a (4604) must match the size of tensor b (2500) at non-singleton dimension 1",
     "output_type": "error",
     "traceback": [
      "\u001b[0;31m---------------------------------------------------------------------------\u001b[0m",
      "\u001b[0;31mRuntimeError\u001b[0m                              Traceback (most recent call last)",
      "Cell \u001b[0;32mIn[7], line 4\u001b[0m\n\u001b[1;32m      1\u001b[0m audio_path \u001b[38;5;241m=\u001b[39m \u001b[38;5;124m\"\u001b[39m\u001b[38;5;124m/vol/tensusers2/wharmsen/SERDA/round1/audio/stories/2RRDV-story_1-20230113142045040.wav\u001b[39m\u001b[38;5;124m\"\u001b[39m\n\u001b[1;32m      3\u001b[0m text \u001b[38;5;241m=\u001b[39m [\u001b[38;5;124m\"\u001b[39m\u001b[38;5;124mbang in het donker als de\u001b[39m\u001b[38;5;124m\"\u001b[39m]\n\u001b[0;32m----> 4\u001b[0m segments \u001b[38;5;241m=\u001b[39m \u001b[43maligner\u001b[49m\u001b[43m(\u001b[49m\u001b[43maudio_path\u001b[49m\u001b[43m,\u001b[49m\u001b[43m \u001b[49m\u001b[43mtext\u001b[49m\u001b[43m,\u001b[49m\u001b[43m \u001b[49m\u001b[43mname\u001b[49m\u001b[38;5;241;43m=\u001b[39;49m\u001b[38;5;124;43m\"\u001b[39;49m\u001b[38;5;124;43mexample1\u001b[39;49m\u001b[38;5;124;43m\"\u001b[39;49m\u001b[43m)\u001b[49m\n\u001b[1;32m      5\u001b[0m \u001b[38;5;28mprint\u001b[39m(segments)\n\u001b[1;32m      6\u001b[0m \u001b[38;5;66;03m# example1_0000 example1 0.04 0.70 -0.0122 THE BIRCH CANOE\u001b[39;00m\n\u001b[1;32m      7\u001b[0m \u001b[38;5;66;03m# example1_0001 example1 0.97 1.97 -0.0295 SLID ON THE\u001b[39;00m\n\u001b[1;32m      8\u001b[0m \u001b[38;5;66;03m# example1_0002 example1 1.97 3.00 -0.0258 SMOOTH PLANKS\u001b[39;00m\n",
      "File \u001b[0;32m/vol/tensusers5/wharmsen/virenv-wav2vec2/lib/python3.10/site-packages/speechbrain/alignment/ctc_segmentation.py:658\u001b[0m, in \u001b[0;36mCTCSegmentation.__call__\u001b[0;34m(self, speech, text, name)\u001b[0m\n\u001b[1;32m    656\u001b[0m     speech \u001b[38;5;241m=\u001b[39m \u001b[38;5;28mself\u001b[39m\u001b[38;5;241m.\u001b[39masr_model\u001b[38;5;241m.\u001b[39mload_audio(speech)\n\u001b[1;32m    657\u001b[0m \u001b[38;5;66;03m# Get log CTC posterior probabilities\u001b[39;00m\n\u001b[0;32m--> 658\u001b[0m lpz \u001b[38;5;241m=\u001b[39m \u001b[38;5;28;43mself\u001b[39;49m\u001b[38;5;241;43m.\u001b[39;49m\u001b[43mget_lpz\u001b[49m\u001b[43m(\u001b[49m\u001b[43mspeech\u001b[49m\u001b[43m)\u001b[49m\n\u001b[1;32m    659\u001b[0m \u001b[38;5;66;03m# Conflate text & lpz & config as a segmentation task object\u001b[39;00m\n\u001b[1;32m    660\u001b[0m task \u001b[38;5;241m=\u001b[39m \u001b[38;5;28mself\u001b[39m\u001b[38;5;241m.\u001b[39mprepare_segmentation_task(text, lpz, name, speech\u001b[38;5;241m.\u001b[39mshape[\u001b[38;5;241m0\u001b[39m])\n",
      "File \u001b[0;32m/vol/tensusers5/wharmsen/virenv-wav2vec2/lib/python3.10/site-packages/torch/utils/_contextlib.py:115\u001b[0m, in \u001b[0;36mcontext_decorator.<locals>.decorate_context\u001b[0;34m(*args, **kwargs)\u001b[0m\n\u001b[1;32m    112\u001b[0m \u001b[38;5;129m@functools\u001b[39m\u001b[38;5;241m.\u001b[39mwraps(func)\n\u001b[1;32m    113\u001b[0m \u001b[38;5;28;01mdef\u001b[39;00m \u001b[38;5;21mdecorate_context\u001b[39m(\u001b[38;5;241m*\u001b[39margs, \u001b[38;5;241m*\u001b[39m\u001b[38;5;241m*\u001b[39mkwargs):\n\u001b[1;32m    114\u001b[0m     \u001b[38;5;28;01mwith\u001b[39;00m ctx_factory():\n\u001b[0;32m--> 115\u001b[0m         \u001b[38;5;28;01mreturn\u001b[39;00m \u001b[43mfunc\u001b[49m\u001b[43m(\u001b[49m\u001b[38;5;241;43m*\u001b[39;49m\u001b[43margs\u001b[49m\u001b[43m,\u001b[49m\u001b[43m \u001b[49m\u001b[38;5;241;43m*\u001b[39;49m\u001b[38;5;241;43m*\u001b[39;49m\u001b[43mkwargs\u001b[49m\u001b[43m)\u001b[49m\n",
      "File \u001b[0;32m/vol/tensusers5/wharmsen/virenv-wav2vec2/lib/python3.10/site-packages/speechbrain/alignment/ctc_segmentation.py:470\u001b[0m, in \u001b[0;36mCTCSegmentation.get_lpz\u001b[0;34m(self, speech)\u001b[0m\n\u001b[1;32m    468\u001b[0m speech \u001b[38;5;241m=\u001b[39m speech\u001b[38;5;241m.\u001b[39munsqueeze(\u001b[38;5;241m0\u001b[39m)\u001b[38;5;241m.\u001b[39mto(\u001b[38;5;28mself\u001b[39m\u001b[38;5;241m.\u001b[39masr_model\u001b[38;5;241m.\u001b[39mdevice)\n\u001b[1;32m    469\u001b[0m wav_lens \u001b[38;5;241m=\u001b[39m torch\u001b[38;5;241m.\u001b[39mtensor([\u001b[38;5;241m1.0\u001b[39m])\u001b[38;5;241m.\u001b[39mto(\u001b[38;5;28mself\u001b[39m\u001b[38;5;241m.\u001b[39masr_model\u001b[38;5;241m.\u001b[39mdevice)\n\u001b[0;32m--> 470\u001b[0m enc \u001b[38;5;241m=\u001b[39m \u001b[38;5;28;43mself\u001b[39;49m\u001b[38;5;241;43m.\u001b[39;49m\u001b[43m_encode\u001b[49m\u001b[43m(\u001b[49m\u001b[43mspeech\u001b[49m\u001b[43m,\u001b[49m\u001b[43m \u001b[49m\u001b[43mwav_lens\u001b[49m\u001b[43m)\u001b[49m\n\u001b[1;32m    471\u001b[0m \u001b[38;5;66;03m# Apply ctc layer to obtain log character probabilities\u001b[39;00m\n\u001b[1;32m    472\u001b[0m lpz \u001b[38;5;241m=\u001b[39m \u001b[38;5;28mself\u001b[39m\u001b[38;5;241m.\u001b[39m_ctc(enc)\u001b[38;5;241m.\u001b[39mdetach()\n",
      "File \u001b[0;32m/vol/tensusers5/wharmsen/virenv-wav2vec2/lib/python3.10/site-packages/speechbrain/pretrained/interfaces.py:706\u001b[0m, in \u001b[0;36mEncoderDecoderASR.encode_batch\u001b[0;34m(self, wavs, wav_lens)\u001b[0m\n\u001b[1;32m    704\u001b[0m wavs \u001b[38;5;241m=\u001b[39m wavs\u001b[38;5;241m.\u001b[39mfloat()\n\u001b[1;32m    705\u001b[0m wavs, wav_lens \u001b[38;5;241m=\u001b[39m wavs\u001b[38;5;241m.\u001b[39mto(\u001b[38;5;28mself\u001b[39m\u001b[38;5;241m.\u001b[39mdevice), wav_lens\u001b[38;5;241m.\u001b[39mto(\u001b[38;5;28mself\u001b[39m\u001b[38;5;241m.\u001b[39mdevice)\n\u001b[0;32m--> 706\u001b[0m encoder_out \u001b[38;5;241m=\u001b[39m \u001b[38;5;28;43mself\u001b[39;49m\u001b[38;5;241;43m.\u001b[39;49m\u001b[43mmods\u001b[49m\u001b[38;5;241;43m.\u001b[39;49m\u001b[43mencoder\u001b[49m\u001b[43m(\u001b[49m\u001b[43mwavs\u001b[49m\u001b[43m,\u001b[49m\u001b[43m \u001b[49m\u001b[43mwav_lens\u001b[49m\u001b[43m)\u001b[49m\n\u001b[1;32m    707\u001b[0m \u001b[38;5;28;01mreturn\u001b[39;00m encoder_out\n",
      "File \u001b[0;32m/vol/tensusers5/wharmsen/virenv-wav2vec2/lib/python3.10/site-packages/torch/nn/modules/module.py:1501\u001b[0m, in \u001b[0;36mModule._call_impl\u001b[0;34m(self, *args, **kwargs)\u001b[0m\n\u001b[1;32m   1496\u001b[0m \u001b[38;5;66;03m# If we don't have any hooks, we want to skip the rest of the logic in\u001b[39;00m\n\u001b[1;32m   1497\u001b[0m \u001b[38;5;66;03m# this function, and just call forward.\u001b[39;00m\n\u001b[1;32m   1498\u001b[0m \u001b[38;5;28;01mif\u001b[39;00m \u001b[38;5;129;01mnot\u001b[39;00m (\u001b[38;5;28mself\u001b[39m\u001b[38;5;241m.\u001b[39m_backward_hooks \u001b[38;5;129;01mor\u001b[39;00m \u001b[38;5;28mself\u001b[39m\u001b[38;5;241m.\u001b[39m_backward_pre_hooks \u001b[38;5;129;01mor\u001b[39;00m \u001b[38;5;28mself\u001b[39m\u001b[38;5;241m.\u001b[39m_forward_hooks \u001b[38;5;129;01mor\u001b[39;00m \u001b[38;5;28mself\u001b[39m\u001b[38;5;241m.\u001b[39m_forward_pre_hooks\n\u001b[1;32m   1499\u001b[0m         \u001b[38;5;129;01mor\u001b[39;00m _global_backward_pre_hooks \u001b[38;5;129;01mor\u001b[39;00m _global_backward_hooks\n\u001b[1;32m   1500\u001b[0m         \u001b[38;5;129;01mor\u001b[39;00m _global_forward_hooks \u001b[38;5;129;01mor\u001b[39;00m _global_forward_pre_hooks):\n\u001b[0;32m-> 1501\u001b[0m     \u001b[38;5;28;01mreturn\u001b[39;00m \u001b[43mforward_call\u001b[49m\u001b[43m(\u001b[49m\u001b[38;5;241;43m*\u001b[39;49m\u001b[43margs\u001b[49m\u001b[43m,\u001b[49m\u001b[43m \u001b[49m\u001b[38;5;241;43m*\u001b[39;49m\u001b[38;5;241;43m*\u001b[39;49m\u001b[43mkwargs\u001b[49m\u001b[43m)\u001b[49m\n\u001b[1;32m   1502\u001b[0m \u001b[38;5;66;03m# Do not call functions when jit is used\u001b[39;00m\n\u001b[1;32m   1503\u001b[0m full_backward_hooks, non_full_backward_hooks \u001b[38;5;241m=\u001b[39m [], []\n",
      "File \u001b[0;32m/vol/tensusers5/wharmsen/virenv-wav2vec2/lib/python3.10/site-packages/speechbrain/nnet/containers.py:191\u001b[0m, in \u001b[0;36mLengthsCapableSequential.forward\u001b[0;34m(self, x, lengths)\u001b[0m\n\u001b[1;32m    189\u001b[0m     x \u001b[38;5;241m=\u001b[39m layer(x, lengths\u001b[38;5;241m=\u001b[39mlengths)\n\u001b[1;32m    190\u001b[0m \u001b[38;5;28;01melse\u001b[39;00m:\n\u001b[0;32m--> 191\u001b[0m     x \u001b[38;5;241m=\u001b[39m \u001b[43mlayer\u001b[49m\u001b[43m(\u001b[49m\u001b[43mx\u001b[49m\u001b[43m)\u001b[49m\n\u001b[1;32m    192\u001b[0m \u001b[38;5;28;01mif\u001b[39;00m \u001b[38;5;28misinstance\u001b[39m(x, \u001b[38;5;28mtuple\u001b[39m):\n\u001b[1;32m    193\u001b[0m     x \u001b[38;5;241m=\u001b[39m x[\u001b[38;5;241m0\u001b[39m]\n",
      "File \u001b[0;32m/vol/tensusers5/wharmsen/virenv-wav2vec2/lib/python3.10/site-packages/torch/nn/modules/module.py:1501\u001b[0m, in \u001b[0;36mModule._call_impl\u001b[0;34m(self, *args, **kwargs)\u001b[0m\n\u001b[1;32m   1496\u001b[0m \u001b[38;5;66;03m# If we don't have any hooks, we want to skip the rest of the logic in\u001b[39;00m\n\u001b[1;32m   1497\u001b[0m \u001b[38;5;66;03m# this function, and just call forward.\u001b[39;00m\n\u001b[1;32m   1498\u001b[0m \u001b[38;5;28;01mif\u001b[39;00m \u001b[38;5;129;01mnot\u001b[39;00m (\u001b[38;5;28mself\u001b[39m\u001b[38;5;241m.\u001b[39m_backward_hooks \u001b[38;5;129;01mor\u001b[39;00m \u001b[38;5;28mself\u001b[39m\u001b[38;5;241m.\u001b[39m_backward_pre_hooks \u001b[38;5;129;01mor\u001b[39;00m \u001b[38;5;28mself\u001b[39m\u001b[38;5;241m.\u001b[39m_forward_hooks \u001b[38;5;129;01mor\u001b[39;00m \u001b[38;5;28mself\u001b[39m\u001b[38;5;241m.\u001b[39m_forward_pre_hooks\n\u001b[1;32m   1499\u001b[0m         \u001b[38;5;129;01mor\u001b[39;00m _global_backward_pre_hooks \u001b[38;5;129;01mor\u001b[39;00m _global_backward_hooks\n\u001b[1;32m   1500\u001b[0m         \u001b[38;5;129;01mor\u001b[39;00m _global_forward_hooks \u001b[38;5;129;01mor\u001b[39;00m _global_forward_pre_hooks):\n\u001b[0;32m-> 1501\u001b[0m     \u001b[38;5;28;01mreturn\u001b[39;00m \u001b[43mforward_call\u001b[49m\u001b[43m(\u001b[49m\u001b[38;5;241;43m*\u001b[39;49m\u001b[43margs\u001b[49m\u001b[43m,\u001b[49m\u001b[43m \u001b[49m\u001b[38;5;241;43m*\u001b[39;49m\u001b[38;5;241;43m*\u001b[39;49m\u001b[43mkwargs\u001b[49m\u001b[43m)\u001b[49m\n\u001b[1;32m   1502\u001b[0m \u001b[38;5;66;03m# Do not call functions when jit is used\u001b[39;00m\n\u001b[1;32m   1503\u001b[0m full_backward_hooks, non_full_backward_hooks \u001b[38;5;241m=\u001b[39m [], []\n",
      "File \u001b[0;32m/vol/tensusers5/wharmsen/virenv-wav2vec2/lib/python3.10/site-packages/speechbrain/lobes/models/transformer/TransformerASR.py:375\u001b[0m, in \u001b[0;36mEncoderWrapper.forward\u001b[0;34m(self, x, wav_lens, pad_idx)\u001b[0m\n\u001b[1;32m    373\u001b[0m \u001b[38;5;28;01mdef\u001b[39;00m \u001b[38;5;21mforward\u001b[39m(\u001b[38;5;28mself\u001b[39m, x, wav_lens\u001b[38;5;241m=\u001b[39m\u001b[38;5;28;01mNone\u001b[39;00m, pad_idx\u001b[38;5;241m=\u001b[39m\u001b[38;5;241m0\u001b[39m):\n\u001b[1;32m    374\u001b[0m \u001b[38;5;250m    \u001b[39m\u001b[38;5;124;03m\"\"\" Processes the input tensor x and returns an output tensor.\"\"\"\u001b[39;00m\n\u001b[0;32m--> 375\u001b[0m     x \u001b[38;5;241m=\u001b[39m \u001b[38;5;28;43mself\u001b[39;49m\u001b[38;5;241;43m.\u001b[39;49m\u001b[43mtransformer\u001b[49m\u001b[38;5;241;43m.\u001b[39;49m\u001b[43mencode\u001b[49m\u001b[43m(\u001b[49m\u001b[43mx\u001b[49m\u001b[43m,\u001b[49m\u001b[43m \u001b[49m\u001b[43mwav_lens\u001b[49m\u001b[43m,\u001b[49m\u001b[43m \u001b[49m\u001b[43mpad_idx\u001b[49m\u001b[43m)\u001b[49m\n\u001b[1;32m    376\u001b[0m     \u001b[38;5;28;01mreturn\u001b[39;00m x\n",
      "File \u001b[0;32m/vol/tensusers5/wharmsen/virenv-wav2vec2/lib/python3.10/site-packages/speechbrain/lobes/models/transformer/TransformerASR.py:328\u001b[0m, in \u001b[0;36mTransformerASR.encode\u001b[0;34m(self, src, wav_len, pad_idx)\u001b[0m\n\u001b[1;32m    326\u001b[0m     pos_embs_source \u001b[38;5;241m=\u001b[39m \u001b[38;5;28mself\u001b[39m\u001b[38;5;241m.\u001b[39mpositional_encoding(src)\n\u001b[1;32m    327\u001b[0m \u001b[38;5;28;01melif\u001b[39;00m \u001b[38;5;28mself\u001b[39m\u001b[38;5;241m.\u001b[39mpositional_encoding_type \u001b[38;5;241m==\u001b[39m \u001b[38;5;124m\"\u001b[39m\u001b[38;5;124mfixed_abs_sine\u001b[39m\u001b[38;5;124m\"\u001b[39m:\n\u001b[0;32m--> 328\u001b[0m     src \u001b[38;5;241m=\u001b[39m \u001b[43msrc\u001b[49m\u001b[43m \u001b[49m\u001b[38;5;241;43m+\u001b[39;49m\u001b[43m \u001b[49m\u001b[38;5;28;43mself\u001b[39;49m\u001b[38;5;241;43m.\u001b[39;49m\u001b[43mpositional_encoding\u001b[49m\u001b[43m(\u001b[49m\u001b[43msrc\u001b[49m\u001b[43m)\u001b[49m\n\u001b[1;32m    329\u001b[0m     pos_embs_source \u001b[38;5;241m=\u001b[39m \u001b[38;5;28;01mNone\u001b[39;00m\n\u001b[1;32m    331\u001b[0m encoder_out, _ \u001b[38;5;241m=\u001b[39m \u001b[38;5;28mself\u001b[39m\u001b[38;5;241m.\u001b[39mencoder(\n\u001b[1;32m    332\u001b[0m     src\u001b[38;5;241m=\u001b[39msrc,\n\u001b[1;32m    333\u001b[0m     src_key_padding_mask\u001b[38;5;241m=\u001b[39msrc_key_padding_mask,\n\u001b[1;32m    334\u001b[0m     pos_embs\u001b[38;5;241m=\u001b[39mpos_embs_source,\n\u001b[1;32m    335\u001b[0m )\n",
      "\u001b[0;31mRuntimeError\u001b[0m: The size of tensor a (4604) must match the size of tensor b (2500) at non-singleton dimension 1"
     ]
    }
   ],
   "source": [
    "audio_path = \"/vol/tensusers2/wharmsen/SERDA/round1/audio/stories/2RRDV-story_1-20230113142045040.wav\"\n",
    "\n",
    "text = [\"bang in het donker als de\"]\n",
    "segments = aligner(audio_path, text, name=\"example1\")\n",
    "print(segments)\n",
    "# example1_0000 example1 0.04 0.70 -0.0122 THE BIRCH CANOE\n",
    "# example1_0001 example1 0.97 1.97 -0.0295 SLID ON THE\n",
    "# example1_0002 example1 1.97 3.00 -0.0258 SMOOTH PLANKS"
   ]
  },
  {
   "cell_type": "code",
   "execution_count": 2,
   "metadata": {},
   "outputs": [
    {
     "ename": "NameError",
     "evalue": "name 'aligner' is not defined",
     "output_type": "error",
     "traceback": [
      "\u001b[0;31m---------------------------------------------------------------------------\u001b[0m",
      "\u001b[0;31mNameError\u001b[0m                                 Traceback (most recent call last)",
      "Cell \u001b[0;32mIn[2], line 6\u001b[0m\n\u001b[1;32m      3\u001b[0m y_segment \u001b[38;5;241m=\u001b[39m y[\u001b[38;5;241m0\u001b[39m:\u001b[38;5;241m10\u001b[39m]\n\u001b[1;32m      5\u001b[0m text \u001b[38;5;241m=\u001b[39m [\u001b[38;5;124m\"\u001b[39m\u001b[38;5;124mbang in het donker als de\u001b[39m\u001b[38;5;124m\"\u001b[39m]\n\u001b[0;32m----> 6\u001b[0m segments \u001b[38;5;241m=\u001b[39m \u001b[43maligner\u001b[49m(y_segment, text, name\u001b[38;5;241m=\u001b[39m\u001b[38;5;124m\"\u001b[39m\u001b[38;5;124mexample1\u001b[39m\u001b[38;5;124m\"\u001b[39m)\n\u001b[1;32m      7\u001b[0m \u001b[38;5;28mprint\u001b[39m(segments)\n",
      "\u001b[0;31mNameError\u001b[0m: name 'aligner' is not defined"
     ]
    }
   ],
   "source": [
    "import librosa\n",
    "y, sr = librosa.load(audio_path, sr=16000)\n",
    "y_segment = y[0:10]\n",
    "\n",
    "text = [\"bang in het donker als de\"]\n",
    "segments = aligner(y_segment, text, name=\"example1\")\n",
    "print(segments)"
   ]
  },
  {
   "cell_type": "code",
   "execution_count": null,
   "metadata": {},
   "outputs": [],
   "source": []
  },
  {
   "cell_type": "code",
   "execution_count": 3,
   "metadata": {},
   "outputs": [
    {
     "name": "stderr",
     "output_type": "stream",
     "text": [
      "It is strongly recommended to pass the ``sampling_rate`` argument to this function. Failing to do so can result in silent errors that might be hard to debug.\n"
     ]
    },
    {
     "name": "stdout",
     "output_type": "stream",
     "text": [
      "align_with_transcript\n"
     ]
    },
    {
     "name": "stderr",
     "output_type": "stream",
     "text": [
      "It is strongly recommended to pass the ``sampling_rate`` argument to this function. Failing to do so can result in silent errors that might be hard to debug.\n"
     ]
    },
    {
     "name": "stdout",
     "output_type": "stream",
     "text": [
      "[{'text': 'bang in het donker', 'start': 0.010001195002715915, 'end': 7.5208986420423685, 'conf': 0.0}, {'text': 'als de beker vol is doet marte de kraam dicht', 'start': 7.5208986420423685, 'end': 31.903812058663767, 'conf': 0.0}, {'text': 'nu moet je echt gaan slapen zegt mama', 'start': 31.903812058663767, 'end': 37.06436892992939, 'conf': 0.0}, {'text': 'je kwam al drie keer uit bed', 'start': 37.22450755024443, 'end': 43.60515046170559, 'conf': 0.0}, {'text': 'ben je niet blij met je eigen slaapkamer', 'start': 43.905305812058664, 'end': 52.026156653992395, 'conf': 0.0}, {'text': 'marte voelt haar wangen warm worden', 'start': 55.00663226507333, 'end': 63.18749027702336, 'conf': 0.0}, {'text': 'jawel ik vind hem hartstikke mooi', 'start': 63.98770537751223, 'end': 72.22857055947854, 'conf': 0.0}, {'text': 'ze draait zich om en loopt langzaam de zoldertramp op', 'start': 73.74887170016295, 'end': 86.41032482346552, 'conf': 0.0}, {'text': 'de traptreden kraken onder haar blote voeten', 'start': 86.4103845736013, 'end': 100.62202292232482, 'conf': 0.0}, {'text': 'het is een naar geluid dat ze nog nooit eerder heeft gehoord', 'start': 100.62202292232482, 'end': 112.14339956545356, 'conf': 0.0}, {'text': 'alles klinkt een beetje anders in het donker', 'start': 112.39348919065725, 'end': 120.93439022270505, 'conf': 0.0}, {'text': 'de deur van haar slaapkamer staat op een kier', 'start': 122.6747176534492, 'end': 128.76538565996742, 'conf': 0.0}, {'text': 'het lampje boven haar bed brand en maakt vreemde vlekken op de muur', 'start': 128.76538565996742, 'end': 146.5875151548072, 'conf': 0.0}, {'text': 'haar oude knuffelbeer staat op een kastje', 'start': 147.13764063009233, 'end': 157.71884519282997, 'conf': 0.0}, {'text': 'de vlek van de lamp op de mmur erachter lijkt op een monster', 'start': 158.31897664312874, 'end': 170.70039630635523, 'conf': 0.0}, {'text': 'marte rilt en kruipt snel onder de dekens', 'start': 171.12050624660512, 'end': 179.0913989136339, 'conf': 0.0}, {'text': 'niet bang zijn het is gewoon haar eigen knuffelbeer', 'start': 179.0913989136339, 'end': 180.13152319391634, 'conf': 0.0}, {'text': 'maar haar hart bonst in haar keel', 'start': 180.13152319391634, 'end': 180.89161401412275, 'conf': 0.0}, {'text': 'voor het eerst heeft ze een eigen kamer op zolder', 'start': 180.89161401412275, 'end': 182.53180999456816, 'conf': 0.0}, {'text': 'tot gisteren sliep ze altijd met haar broer hidde op een kamer', 'start': 182.53180999456816, 'end': 184.0719940249864, 'conf': 0.0}]\n",
      "get_word_timestamps\n",
      "[{'text': 'lse', 'start': 0.010001195002715915, 'end': 2.90028680065182, 'conf': 0.0}, {'text': 'bang', 'start': 5.440709831613254, 'end': 6.170737316675719, 'conf': 0.0}, {'text': 'is', 'start': 6.170737316675719, 'end': 6.550782726778925, 'conf': 0.19317456515931325}, {'text': 'dedonker', 'start': 6.550782726778925, 'end': 7.5208986420423685, 'conf': 0.0}, {'text': 'alwek', 'start': 7.5208986420423685, 'end': 16.72199804454101, 'conf': 0.0}, {'text': 'newekke', 'start': 16.72199804454101, 'end': 18.742239435089623, 'conf': 0.0}, {'text': 'vol', 'start': 18.742239435089623, 'end': 19.44232308527974, 'conf': 0.0}, {'text': 'isdoet', 'start': 19.44232308527974, 'end': 21.752599130907114, 'conf': 0.0}, {'text': 'aamaarmar', 'start': 21.822667246061922, 'end': 25.98310461705595, 'conf': 0.0}, {'text': 'de', 'start': 25.98310461705595, 'end': 26.81320380228137, 'conf': 0.0}, {'text': 'krant', 'start': 26.81320380228137, 'end': 27.703310157523084, 'conf': 0.0}, {'text': '', 'start': 27.703310157523084, 'end': 27.703310157523084, 'conf': -10000000000.0}, {'text': 'nederaandicht', 'start': 27.703310157523084, 'end': 31.903812058663767, 'conf': 0.0}, {'text': 'nu', 'start': 31.903812058663767, 'end': 32.603895708853884, 'conf': 0.0}, {'text': 'moet', 'start': 32.603895708853884, 'end': 33.72402954915806, 'conf': 0.0}, {'text': 'je', 'start': 33.72402954915806, 'end': 34.05406898424769, 'conf': 0.12898861653989258}, {'text': 'echt', 'start': 34.05406898424769, 'end': 34.464117979359045, 'conf': 0.3020195050170341}, {'text': 'gaan', 'start': 34.464117979359045, 'end': 35.274214774579036, 'conf': 0.0}, {'text': 'slapen', 'start': 35.274214774579036, 'end': 35.92429244975557, 'conf': 0.0}, {'text': 'zeg', 'start': 35.92429244975557, 'end': 36.214327104834325, 'conf': 0.3694297309958919}, {'text': 'mamajewam', 'start': 36.214327104834325, 'end': 39.9047680608365, 'conf': 0.0}, {'text': 'al', 'start': 39.9047680608365, 'end': 40.38482542096686, 'conf': 0.10883847735253009}, {'text': 'driekeer', 'start': 40.38482542096686, 'end': 42.07502737642585, 'conf': 0.0}, {'text': 'uit', 'start': 42.07502737642585, 'end': 42.575087126561655, 'conf': 0.1817587694002043}, {'text': 'bed', 'start': 42.575087126561655, 'end': 43.60515046170559, 'conf': 0.0}, {'text': 'benje', 'start': 43.905305812058664, 'end': 44.93536914720261, 'conf': 0.0}, {'text': 'nieti', 'start': 44.93536914720261, 'end': 47.01561770776752, 'conf': 0.0}, {'text': 'met', 'start': 47.12569060293319, 'end': 48.42572645301467, 'conf': 0.0}, {'text': 'met', 'start': 48.745884193373165, 'end': 49.41590450841934, 'conf': 0.0}, {'text': 'je', 'start': 49.41590450841934, 'end': 49.605927213470935, 'conf': 0.43370151528943096}, {'text': 'eigen', 'start': 49.605927213470935, 'end': 50.50603476371538, 'conf': 0.0}, {'text': 'saapkamerartnvoe', 'start': 50.50603476371538, 'end': 57.65688919065725, 'conf': 0.0}, {'text': 'haarvangen', 'start': 57.65688919065725, 'end': 60.83726920152091, 'conf': 0.0}, {'text': 'warm', 'start': 60.83726920152091, 'end': 61.86739228680065, 'conf': 0.0}, {'text': 'worden', 'start': 61.86739228680065, 'end': 63.18749027702336, 'conf': 0.0}, {'text': 'jewel', 'start': 63.98770537751223, 'end': 65.30780336773492, 'conf': 0.0}, {'text': 'ik', 'start': 65.30780336773492, 'end': 65.73785475285172, 'conf': 0.18545899332068227}, {'text': 'vindt', 'start': 65.73785475285172, 'end': 66.55795274307442, 'conf': 0.0}, {'text': 'hem', 'start': 66.55795274307442, 'end': 67.78809972840847, 'conf': 0.0}, {'text': 'hartstikke', 'start': 68.76827658881042, 'end': 71.35852634437805, 'conf': 0.0}, {'text': 'mooi', 'start': 71.35852634437805, 'end': 72.22857055947854, 'conf': 0.0}, {'text': 'ze', 'start': 73.74887170016295, 'end': 74.78893623030962, 'conf': 0.0}, {'text': 'ze', 'start': 74.78893623030962, 'end': 75.35900434546443, 'conf': 0.13352381900021382}, {'text': 'drijdt', 'start': 75.35900434546443, 'end': 76.33912145573058, 'conf': 0.0}, {'text': 'om', 'start': 76.33912145573058, 'end': 76.82918001086367, 'conf': 0.14632868252654588}, {'text': 'en', 'start': 76.82918001086367, 'end': 77.43925290602934, 'conf': 0.0}, {'text': 'loopt', 'start': 77.43925290602934, 'end': 78.72934731124388, 'conf': 0.0}, {'text': 'langzaamzo', 'start': 78.88948593155894, 'end': 82.89990537751223, 'conf': 0.0}, {'text': 'd', 'start': 82.89990537751223, 'end': 83.23994600760456, 'conf': 0.08928600773500268}, {'text': 'ned', 'start': 83.23994600760456, 'end': 84.49009538294405, 'conf': 0.0}, {'text': 'zoldetrap', 'start': 84.49009538294405, 'end': 85.67023639326453, 'conf': 0.0}, {'text': 'op', 'start': 85.67023639326453, 'end': 86.41032482346552, 'conf': 0.0}, {'text': 'de', 'start': 86.4103845736013, 'end': 87.17041564367192, 'conf': 0.0}, {'text': 'duroppenkracht', 'start': 87.17041564367192, 'end': 92.87109679521998, 'conf': 0.0}, {'text': 'krachtenonter', 'start': 93.63124736556219, 'end': 96.9015783813145, 'conf': 0.0}, {'text': 'haarrote', 'start': 96.9015783813145, 'end': 98.80180543183053, 'conf': 0.0}, {'text': 'voete', 'start': 98.95188310700706, 'end': 100.22197512221618, 'conf': 0.0}, {'text': 'het', 'start': 100.22197512221618, 'end': 101.19209103747963, 'conf': 0.0}, {'text': 'isn', 'start': 101.19209103747963, 'end': 103.33234676806083, 'conf': 0.0}, {'text': 'nagluid', 'start': 103.33234676806083, 'end': 105.65262400869094, 'conf': 0.0}, {'text': 'dat', 'start': 105.65262400869094, 'end': 105.9526598587724, 'conf': 0.2585538951359922}, {'text': 'is', 'start': 105.9526598587724, 'end': 106.30270168386747, 'conf': 0.21520016050314605}, {'text': 't', 'start': 106.63280086909289, 'end': 107.41283432916893, 'conf': 0.0}, {'text': 'ook', 'start': 107.41283432916893, 'end': 108.34294546442152, 'conf': 0.0}, {'text': 'nooiteerder', 'start': 108.34294546442152, 'end': 110.99326214014123, 'conf': 0.0}, {'text': 'heeft', 'start': 110.99326214014123, 'end': 111.63333862031504, 'conf': 0.0}, {'text': 'gehoord', 'start': 111.63333862031504, 'end': 112.14339956545356, 'conf': 0.2789945942320628}, {'text': 'alles', 'start': 112.39348919065725, 'end': 114.20364573601304, 'conf': 0.0}, {'text': '', 'start': 114.3137186311787, 'end': 114.20364573601304, 'conf': -10000000000.0}, {'text': 'klinkt', 'start': 114.3137186311787, 'end': 115.72382737642586, 'conf': 0.0}, {'text': 'een', 'start': 115.72382737642586, 'end': 116.45391461162411, 'conf': 0.0}, {'text': 'beetje', 'start': 116.51398153177621, 'end': 117.36402335687126, 'conf': 0.0}, {'text': 'andes', 'start': 117.36402335687126, 'end': 118.80419543726236, 'conf': 0.0}, {'text': 'en', 'start': 118.80419543726236, 'end': 119.2642504073873, 'conf': 0.17258160893850966}, {'text': 'hetdonke', 'start': 119.2642504073873, 'end': 120.8343782726779, 'conf': 0.0}, {'text': 'de', 'start': 122.6747176534492, 'end': 123.23472482346551, 'conf': 0.10834478785264016}, {'text': 'deuren', 'start': 123.23472482346551, 'end': 123.76478815860945, 'conf': 0.34142559908613634}, {'text': 'van', 'start': 123.76478815860945, 'end': 124.49487539380772, 'conf': 0.0}, {'text': 'haar', 'start': 124.49487539380772, 'end': 124.76490765888104, 'conf': 0.47911313158328994}, {'text': 'slaapkamer', 'start': 124.76490765888104, 'end': 125.88504149918523, 'conf': 0.0}, {'text': 'staan', 'start': 125.88504149918523, 'end': 126.82515382944052, 'conf': 0.0}, {'text': 'op', 'start': 126.83521477457903, 'end': 128.09530559478543, 'conf': 0.0}, {'text': 'een', 'start': 128.09530559478543, 'end': 128.33533427485062, 'conf': 0.45466711874845106}, {'text': 'keer', 'start': 128.33533427485062, 'end': 128.76538565996742, 'conf': 0.20805561811456838}, {'text': 'het', 'start': 128.76538565996742, 'end': 129.72550038022814, 'conf': 0.0}, {'text': 'lampjeboven', 'start': 129.72550038022814, 'end': 132.7258588810429, 'conf': 0.0}, {'text': 'haarbedrant', 'start': 132.7258588810429, 'end': 137.38641575230855, 'conf': 0.0}, {'text': 'en', 'start': 137.41647908745247, 'end': 138.58655915263444, 'conf': 0.0}, {'text': 'maak', 'start': 138.58655915263444, 'end': 139.59662009777296, 'conf': 0.0}, {'text': 'rejvreemde', 'start': 139.6967515480717, 'end': 142.47702400869093, 'conf': 0.0}, {'text': 'vlekken', 'start': 142.47702400869093, 'end': 143.3371267789245, 'conf': 0.0}, {'text': 'op', 'start': 143.9572606192287, 'end': 145.96744106463876, 'conf': 0.0}, {'text': 'de', 'start': 145.96744106463876, 'end': 146.17746615969583, 'conf': 0.39402780236587825}, {'text': 'muur', 'start': 146.17746615969583, 'end': 146.5875151548072, 'conf': 0.18405011818136752}, {'text': 'haar', 'start': 147.13764063009233, 'end': 150.09787485062466, 'conf': 0.0}, {'text': 'oude', 'start': 150.33802303096144, 'end': 151.1280576860402, 'conf': 0.0}, {'text': 'knuffel', 'start': 151.2581329712113, 'end': 152.58823215643673, 'conf': 0.0}, {'text': 'staat', 'start': 152.7583122216187, 'end': 154.31843889190657, 'conf': 0.0}, {'text': 'p', 'start': 154.31843889190657, 'end': 154.9085093970668, 'conf': 0.022240585445889995}, {'text': 'enkastje', 'start': 154.9085093970668, 'end': 157.71884519282997, 'conf': 0.0}, {'text': 'de', 'start': 158.31897664312874, 'end': 158.9189885931559, 'conf': 0.12075396142368883}, {'text': 'slaavan', 'start': 158.9189885931559, 'end': 160.18914035850082, 'conf': 0.0}, {'text': 'd', 'start': 160.18914035850082, 'end': 160.2991535035307, 'conf': 0.13620144626960004}, {'text': 'lanp', 'start': 160.57924671374252, 'end': 161.5593040738729, 'conf': 0.0}, {'text': 'op', 'start': 161.5593040738729, 'end': 161.94935067897882, 'conf': 0.11471919179235843}, {'text': 'het', 'start': 161.94935067897882, 'end': 162.47941401412277, 'conf': 0.21968063092680057}, {'text': 'uur', 'start': 162.47941401412277, 'end': 163.02947973927212, 'conf': 0.098890232274197}, {'text': 'enchterlek', 'start': 165.37982031504617, 'end': 168.490132210755, 'conf': 0.0}, {'text': 'een', 'start': 168.490132210755, 'end': 169.26022422596415, 'conf': 0.0}, {'text': 'mon', 'start': 169.26022422596415, 'end': 169.91030190114066, 'conf': 0.0}, {'text': 'monster', 'start': 169.91030190114066, 'end': 170.70039630635523, 'conf': 0.0}, {'text': 'maaar', 'start': 171.12050624660512, 'end': 172.1905743617599, 'conf': 0.0}, {'text': 'mrteeel', 'start': 172.7607022270505, 'end': 175.13092569255838, 'conf': 0.0}, {'text': 'enrujpeld', 'start': 175.13092569255838, 'end': 177.9012567083107, 'conf': 0.0}, {'text': 'de', 'start': 177.9613236284628, 'end': 178.5913391634981, 'conf': 0.0}, {'text': 'deken', 'start': 178.5913391634981, 'end': 179.13140369364476, 'conf': 0.1883358058171325}, {'text': '', 'start': 179.38149331884844, 'end': 179.13140369364476, 'conf': -10000000000.0}, {'text': 'niet', 'start': 179.38149331884844, 'end': 181.2316546442151, 'conf': 0.0}, {'text': 'bang', 'start': 181.2316546442151, 'end': 181.58169646931015, 'conf': 0.34380795063514646}, {'text': 'zijn', 'start': 181.58169646931015, 'end': 182.44173948940792, 'conf': 0.0}]\n"
     ]
    }
   ],
   "source": [
    "import torch\n",
    "import numpy as np\n",
    "from typing import List\n",
    "import ctc_segmentation\n",
    "from datasets import load_dataset\n",
    "from transformers import Wav2Vec2Processor, Wav2Vec2ForCTC, Wav2Vec2CTCTokenizer\n",
    "\n",
    "cache_dir = '/vol/tensusers5/wharmsen/wav2vec2/cache/'\n",
    "\n",
    "# load model, processor and tokenizer\n",
    "model_name = \"FremyCompany/xls-r-2b-nl-v2_lm-5gram-os2_hunspell\" #\"jonatasgrosman/wav2vec2-large-xlsr-53-dutch\"\n",
    "processor = Wav2Vec2Processor.from_pretrained(model_name, cache_dir=cache_dir)\n",
    "tokenizer = Wav2Vec2CTCTokenizer.from_pretrained(model_name, cache_dir=cache_dir)\n",
    "model = Wav2Vec2ForCTC.from_pretrained(model_name, cache_dir=cache_dir)\n",
    "\n",
    "# load dummy dataset and read soundfiles\n",
    "SAMPLERATE = 16000\n",
    "audio_path = \"/vol/tensusers2/wharmsen/SERDA/round1/audio/stories/2RRDV-story_1-20230113142045040.wav\"\n",
    "# ds = load_dataset(\"patrickvonplaten/librispeech_asr_dummy\", \"clean\", split=\"validation\")\n",
    "audio, sr = librosa.load(audio_path, sr=16000)\n",
    "\n",
    "prompt = \"bang in het donker als de beker vol is doet marte de kraan dicht nu moet je echt gaan slapen zegt mama je kwam al drie keer uit bed ben je niet blij met je eigen slaapkamer marte voelt haar wangen warm worden jawel ik vind hem hartstikke mooi ze draait zich om en loopt langzaam de zoldertrap op de traptreden kraken onder haar blote voeten het is een naar geluid dat ze nog nooit eerder heeft gehoord alles klinkt een beetje anders in het donker de deur van haar slaapkamer staat op een kier het lampje boven haar bed brandt en maakt vreemde vlekken op de muur haar oude knuffelbeer staat op een kastje de vlek van de lamp op de muur erachter lijkt op een monster marte rilt en kruipt snel onder de dekens niet bang zijn het is gewoon haar eigen knuffelbeer maar haar hart bonst in haar keel voor het eerst heeft ze een eigen kamer op zolder tot gisteren sliep ze altijd met haar broer hidde op een kamer\"\n",
    "transcripts = [\"bang in het donker\", \"als de beker vol is doet marte de kraam dicht\", \"nu moet je echt gaan slapen zegt mama\", \"je kwam al drie keer uit bed\", \"ben je niet blij met je eigen slaapkamer\", \"marte voelt haar wangen warm worden\", \"jawel ik vind hem hartstikke mooi\", \"ze draait zich om en loopt langzaam de zoldertramp op\", \"de traptreden kraken onder haar blote voeten\", \"het is een naar geluid dat ze nog nooit eerder heeft gehoord\", \"alles klinkt een beetje anders in het donker\", \"de deur van haar slaapkamer staat op een kier\", \"het lampje boven haar bed brand en maakt vreemde vlekken op de muur\", \"haar oude knuffelbeer staat op een kastje\", \"de vlek van de lamp op de mmur erachter lijkt op een monster\", \"marte rilt en kruipt snel onder de dekens\", \"niet bang zijn het is gewoon haar eigen knuffelbeer\", \"maar haar hart bonst in haar keel\", \"voor het eerst heeft ze een eigen kamer op zolder\", \"tot gisteren sliep ze altijd met haar broer hidde op een kamer\"] #prompt.split(\" \")\n",
    "\n",
    "def align_with_transcript(\n",
    "    audio : np.ndarray,\n",
    "    transcripts : List[str],\n",
    "    samplerate : int = SAMPLERATE,\n",
    "    model : Wav2Vec2ForCTC = model,\n",
    "    processor : Wav2Vec2Processor = processor,\n",
    "    tokenizer : Wav2Vec2CTCTokenizer = tokenizer\n",
    "):\n",
    "    print('align_with_transcript')\n",
    "\n",
    "    assert audio.ndim == 1\n",
    "    # Run prediction, get logits and probabilities\n",
    "    inputs = processor(audio, sampling_rate=16_000, return_tensors=\"pt\", padding=\"longest\")\n",
    "    with torch.no_grad():\n",
    "        logits = model(inputs.input_values).logits.cpu()[0]\n",
    "        probs = torch.nn.functional.softmax(logits,dim=-1)\n",
    "    \n",
    "    # Tokenize transcripts\n",
    "    vocab = tokenizer.get_vocab()\n",
    "    inv_vocab = {v:k for k,v in vocab.items()}\n",
    "    unk_id = vocab[\"[UNK]\"] #vocab[\"<unk>\"]\n",
    "    \n",
    "    tokens = []\n",
    "    for transcript in transcripts:\n",
    "        assert len(transcript) > 0\n",
    "        tok_ids = tokenizer(transcript.replace(\"\\n\",\" \").lower())['input_ids']\n",
    "        tok_ids = np.array(tok_ids)\n",
    "        tokens.append(tok_ids[tok_ids != unk_id])\n",
    "    \n",
    "    # Align\n",
    "    char_list = [inv_vocab[i] for i in range(len(inv_vocab))]\n",
    "    config = ctc_segmentation.CtcSegmentationParameters(char_list=char_list)\n",
    "    config.index_duration = audio.shape[0] / probs.size()[0] / samplerate\n",
    "    \n",
    "    ground_truth_mat, utt_begin_indices = ctc_segmentation.prepare_token_list(config, tokens)\n",
    "    timings, char_probs, state_list = ctc_segmentation.ctc_segmentation(config, probs.numpy(), ground_truth_mat)\n",
    "    segments = ctc_segmentation.determine_utterance_segments(config, utt_begin_indices, char_probs, timings, transcripts)\n",
    "    return [{\"text\" : t, \"start\" : p[0], \"end\" : p[1], \"conf\" : p[2]} for t,p in zip(transcripts, segments)]\n",
    "    \n",
    "def get_word_timestamps(\n",
    "    audio : np.ndarray,\n",
    "    samplerate : int = SAMPLERATE,\n",
    "    model : Wav2Vec2ForCTC = model,\n",
    "    processor : Wav2Vec2Processor = processor,\n",
    "    tokenizer : Wav2Vec2CTCTokenizer = tokenizer\n",
    "):\n",
    "    print('get_word_timestamps')\n",
    "    assert audio.ndim == 1\n",
    "    # Run prediction, get logits and probabilities\n",
    "    inputs = processor(audio, sampling_rate=16_000, return_tensors=\"pt\", padding=\"longest\")\n",
    "    with torch.no_grad():\n",
    "        logits = model(inputs.input_values).logits.cpu()[0]\n",
    "        probs = torch.nn.functional.softmax(logits,dim=-1)\n",
    "        \n",
    "    predicted_ids = torch.argmax(logits, dim=-1)\n",
    "    pred_transcript = processor.decode(predicted_ids)\n",
    "    \n",
    "    # Split the transcription into words\n",
    "    words = pred_transcript.split(\" \")\n",
    "    \n",
    "    # Align\n",
    "    vocab = tokenizer.get_vocab()\n",
    "    inv_vocab = {v:k for k,v in vocab.items()}\n",
    "    char_list = [inv_vocab[i] for i in range(len(inv_vocab))]\n",
    "    config = ctc_segmentation.CtcSegmentationParameters(char_list=char_list)\n",
    "    config.index_duration = audio.shape[0] / probs.size()[0] / samplerate\n",
    "    \n",
    "    ground_truth_mat, utt_begin_indices = ctc_segmentation.prepare_text(config, words)\n",
    "    timings, char_probs, state_list = ctc_segmentation.ctc_segmentation(config, probs.numpy(), ground_truth_mat)\n",
    "    segments = ctc_segmentation.determine_utterance_segments(config, utt_begin_indices, char_probs, timings, words)\n",
    "    return [{\"text\" : w, \"start\" : p[0], \"end\" : p[1], \"conf\" : p[2]} for w,p in zip(words, segments)]\n",
    "\n",
    "print(align_with_transcript(audio,transcripts))\n",
    "# [{'text': 'A MAN SAID TO THE UNIVERSE', 'start': 0.08124999999999993, 'end': 2.034375, 'conf': 0.0}, \n",
    "#  {'text': 'SIR I EXIST', 'start': 2.3260775862068965, 'end': 4.078771551724138, 'conf': 0.0}]\n",
    "\n",
    "print(get_word_timestamps(audio))\n",
    "# [{'text': 'a', 'start': 0.08124999999999993, 'end': 0.5912715517241378, 'conf': 0.9999501323699951}, \n",
    "# {'text': 'man', 'start': 0.5912715517241378, 'end': 0.9219827586206896, 'conf': 0.9409108982174931}, \n",
    "# {'text': 'said', 'start': 0.9219827586206896, 'end': 1.2326508620689656, 'conf': 0.7700278702302796}, \n",
    "# {'text': 'to', 'start': 1.2326508620689656, 'end': 1.3529094827586206, 'conf': 0.5094435178226225}, \n",
    "# {'text': 'the', 'start': 1.3529094827586206, 'end': 1.4831896551724135, 'conf': 0.4580493446392211}, \n",
    "# {'text': 'universe', 'start': 1.4831896551724135, 'end': 2.034375, 'conf': 0.9285054256219009}, \n",
    "# {'text': 'sir', 'start': 2.3260775862068965, 'end': 3.036530172413793, 'conf': 0.0}, \n",
    "# {'text': 'i', 'start': 3.036530172413793, 'end': 3.347198275862069, 'conf': 0.7995760873559864}, \n",
    "# {'text': 'exist', 'start': 3.347198275862069, 'end': 4.078771551724138, 'conf': 0.0}]"
   ]
  },
  {
   "cell_type": "code",
   "execution_count": 20,
   "metadata": {},
   "outputs": [
    {
     "data": {
      "text/plain": [
       "{'a': 1,\n",
       " 'b': 2,\n",
       " 'c': 3,\n",
       " 'd': 4,\n",
       " 'e': 5,\n",
       " 'f': 6,\n",
       " 'g': 7,\n",
       " 'h': 8,\n",
       " 'i': 9,\n",
       " 'j': 10,\n",
       " 'k': 11,\n",
       " 'l': 12,\n",
       " 'm': 13,\n",
       " 'n': 14,\n",
       " 'o': 15,\n",
       " 'p': 16,\n",
       " 'q': 17,\n",
       " 'r': 18,\n",
       " 's': 19,\n",
       " 't': 20,\n",
       " 'u': 21,\n",
       " 'v': 22,\n",
       " 'w': 23,\n",
       " 'x': 24,\n",
       " 'y': 25,\n",
       " 'z': 26,\n",
       " 'à': 27,\n",
       " 'â': 28,\n",
       " 'ä': 29,\n",
       " 'æ': 30,\n",
       " 'ç': 31,\n",
       " 'è': 32,\n",
       " 'é': 33,\n",
       " 'ê': 34,\n",
       " 'ë': 35,\n",
       " 'î': 36,\n",
       " 'ï': 37,\n",
       " 'ó': 38,\n",
       " 'ô': 39,\n",
       " 'ö': 40,\n",
       " 'ù': 41,\n",
       " 'û': 42,\n",
       " 'ü': 43,\n",
       " '|': 0,\n",
       " '[UNK]': 44,\n",
       " '[PAD]': 45,\n",
       " '<s>': 46,\n",
       " '</s>': 47}"
      ]
     },
     "execution_count": 20,
     "metadata": {},
     "output_type": "execute_result"
    }
   ],
   "source": [
    "vocab = tokenizer.get_vocab()\n",
    "vocab"
   ]
  },
  {
   "cell_type": "code",
   "execution_count": null,
   "metadata": {},
   "outputs": [],
   "source": [
    "# Vocab of CGN model:\n",
    "{'a': 1,\n",
    " 'b': 2,\n",
    " 'c': 3,\n",
    " 'd': 4,\n",
    " 'e': 5,\n",
    " 'f': 6,\n",
    " 'g': 7,\n",
    " 'h': 8,\n",
    " 'i': 9,\n",
    " 'j': 10,\n",
    " 'k': 11,\n",
    " 'l': 12,\n",
    " 'm': 13,\n",
    " 'n': 14,\n",
    " 'o': 15,\n",
    " 'p': 16,\n",
    " 'q': 17,\n",
    " 'r': 18,\n",
    " 's': 19,\n",
    " 't': 20,\n",
    " 'u': 21,\n",
    " 'v': 22,\n",
    " 'w': 23,\n",
    " 'x': 24,\n",
    " 'y': 25,\n",
    " 'z': 26,\n",
    " 'à': 27,\n",
    " 'â': 28,\n",
    " 'ä': 29,\n",
    " 'æ': 30,\n",
    " 'ç': 31,\n",
    " 'è': 32,\n",
    " 'é': 33,\n",
    " 'ê': 34,\n",
    " 'ë': 35,\n",
    " 'î': 36,\n",
    " 'ï': 37,\n",
    " 'ó': 38,\n",
    " 'ô': 39,\n",
    " 'ö': 40,\n",
    " 'ù': 41,\n",
    " 'û': 42,\n",
    " 'ü': 43,\n",
    " '|': 0,\n",
    " '[UNK]': 44,\n",
    " '[PAD]': 45,\n",
    " '<s>': 46,\n",
    " '</s>': 47}"
   ]
  }
 ],
 "metadata": {
  "kernelspec": {
   "display_name": "virenv-wav2vec2",
   "language": "python",
   "name": "python3"
  },
  "language_info": {
   "codemirror_mode": {
    "name": "ipython",
    "version": 3
   },
   "file_extension": ".py",
   "mimetype": "text/x-python",
   "name": "python",
   "nbconvert_exporter": "python",
   "pygments_lexer": "ipython3",
   "version": "3.10.12"
  }
 },
 "nbformat": 4,
 "nbformat_minor": 2
}
